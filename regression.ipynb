{
 "cells": [
  {
   "cell_type": "code",
   "execution_count": null,
   "metadata": {},
   "outputs": [],
   "source": [
    "# df2<-separate(player_stats,Best.Rank,sep=\" \",into=c(\"best_rank\",\"time\"))%>%\n",
    "#      separate(Current.Elo.Rank,sep=\" \",into=c(\"current_rank\",\"current_time\"))%>%\n",
    "#      separate(Peak.Elo.Rating,sep=\" \",into = c(\"Peak.Elo.Rating\",\"timing\"))%>%\n",
    "#      select(-time,-current_time,-timing)%>%mutate(best_rank=as.numeric(best_rank))%>%\n",
    "#      mutate(current_rank=as.numeric(current_rank))%>%mutate(Peak.Elo.Rating=as.numeric(Peak.Elo.Rating))\n",
    "\n",
    "\n",
    "# head(df2)\n",
    "\n",
    "# install.packages(\"leaps\")\n",
    "# library(leaps)\n",
    "# rgs1 <- regsubsets(best_rank~Age+Plays+Backhand+Height+Turned.Pro+current_rank+Peak.Elo.Rating, data=df2, method=\"exhaustive\") \n",
    "# srgs1 <- summary(rgs1)\n",
    "\n",
    "# rgs2 <- regsubsets(best_rank~Age+Plays+Backhand+Height+Turned.Pro+current_rank+Peak.Elo.Rating, data=df2, method=\"forward\") \n",
    "# srgs2 <- summary(rgs2)\n",
    "\n",
    "# rgs3 <- regsubsets(best_rank~Age+Plays+Backhand+Height+Turned.Pro+current_rank+Peak.Elo.Rating, data=df2,method=\"backward\") \n",
    "# srgs3 <- summary(rgs3)\n",
    "\n",
    "\n",
    "# srgs1\n",
    "# srgs2\n",
    "# srgs3\n",
    "\n",
    "# summary(lm(best_rank~Age+Plays+Backhand+Height+Turned.Pro+current_rank+Peak.Elo.Rating,data=df2))"
   ]
  }
 ],
 "metadata": {
  "kernelspec": {
   "display_name": "R",
   "language": "R",
   "name": "ir"
  },
  "language_info": {
   "codemirror_mode": "r",
   "file_extension": ".r",
   "mimetype": "text/x-r-source",
   "name": "R",
   "pygments_lexer": "r",
   "version": "4.0.0"
  }
 },
 "nbformat": 4,
 "nbformat_minor": 4
}
