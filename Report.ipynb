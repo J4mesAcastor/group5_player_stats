{
 "cells": [
  {
   "cell_type": "code",
   "execution_count": 1,
   "metadata": {},
   "outputs": [
    {
     "name": "stderr",
     "output_type": "stream",
     "text": [
      "── \u001b[1mAttaching packages\u001b[22m ─────────────────────────────────────── tidyverse 1.3.0 ──\n",
      "\n",
      "\u001b[32m✔\u001b[39m \u001b[34mggplot2\u001b[39m 3.3.2     \u001b[32m✔\u001b[39m \u001b[34mpurrr  \u001b[39m 0.3.4\n",
      "\u001b[32m✔\u001b[39m \u001b[34mtibble \u001b[39m 3.0.3     \u001b[32m✔\u001b[39m \u001b[34mdplyr  \u001b[39m 1.0.2\n",
      "\u001b[32m✔\u001b[39m \u001b[34mtidyr  \u001b[39m 1.1.2     \u001b[32m✔\u001b[39m \u001b[34mstringr\u001b[39m 1.4.0\n",
      "\u001b[32m✔\u001b[39m \u001b[34mreadr  \u001b[39m 1.3.1     \u001b[32m✔\u001b[39m \u001b[34mforcats\u001b[39m 0.5.0\n",
      "\n",
      "Warning message:\n",
      "“package ‘ggplot2’ was built under R version 4.0.1”\n",
      "Warning message:\n",
      "“package ‘tibble’ was built under R version 4.0.2”\n",
      "Warning message:\n",
      "“package ‘tidyr’ was built under R version 4.0.2”\n",
      "Warning message:\n",
      "“package ‘dplyr’ was built under R version 4.0.2”\n",
      "── \u001b[1mConflicts\u001b[22m ────────────────────────────────────────── tidyverse_conflicts() ──\n",
      "\u001b[31m✖\u001b[39m \u001b[34mdplyr\u001b[39m::\u001b[32mfilter()\u001b[39m masks \u001b[34mstats\u001b[39m::filter()\n",
      "\u001b[31m✖\u001b[39m \u001b[34mdplyr\u001b[39m::\u001b[32mlag()\u001b[39m    masks \u001b[34mstats\u001b[39m::lag()\n",
      "\n",
      "Warning message:\n",
      "“package ‘tidymodels’ was built under R version 4.0.2”\n",
      "── \u001b[1mAttaching packages\u001b[22m ────────────────────────────────────── tidymodels 0.1.1 ──\n",
      "\n",
      "\u001b[32m✔\u001b[39m \u001b[34mbroom    \u001b[39m 0.7.0      \u001b[32m✔\u001b[39m \u001b[34mrecipes  \u001b[39m 0.1.13\n",
      "\u001b[32m✔\u001b[39m \u001b[34mdials    \u001b[39m 0.0.9      \u001b[32m✔\u001b[39m \u001b[34mrsample  \u001b[39m 0.0.7 \n",
      "\u001b[32m✔\u001b[39m \u001b[34minfer    \u001b[39m 0.5.4      \u001b[32m✔\u001b[39m \u001b[34mtune     \u001b[39m 0.1.1 \n",
      "\u001b[32m✔\u001b[39m \u001b[34mmodeldata\u001b[39m 0.0.2      \u001b[32m✔\u001b[39m \u001b[34mworkflows\u001b[39m 0.2.0 \n",
      "\u001b[32m✔\u001b[39m \u001b[34mparsnip  \u001b[39m 0.1.3      \u001b[32m✔\u001b[39m \u001b[34myardstick\u001b[39m 0.0.7 \n",
      "\n",
      "Warning message:\n",
      "“package ‘broom’ was built under R version 4.0.2”\n",
      "Warning message:\n",
      "“package ‘dials’ was built under R version 4.0.2”\n",
      "Warning message:\n",
      "“package ‘infer’ was built under R version 4.0.3”\n",
      "Warning message:\n",
      "“package ‘modeldata’ was built under R version 4.0.1”\n",
      "Warning message:\n",
      "“package ‘parsnip’ was built under R version 4.0.2”\n",
      "Warning message:\n",
      "“package ‘recipes’ was built under R version 4.0.1”\n",
      "Warning message:\n",
      "“package ‘tune’ was built under R version 4.0.2”\n",
      "Warning message:\n",
      "“package ‘workflows’ was built under R version 4.0.2”\n",
      "Warning message:\n",
      "“package ‘yardstick’ was built under R version 4.0.2”\n",
      "── \u001b[1mConflicts\u001b[22m ───────────────────────────────────────── tidymodels_conflicts() ──\n",
      "\u001b[31m✖\u001b[39m \u001b[34mscales\u001b[39m::\u001b[32mdiscard()\u001b[39m masks \u001b[34mpurrr\u001b[39m::discard()\n",
      "\u001b[31m✖\u001b[39m \u001b[34mdplyr\u001b[39m::\u001b[32mfilter()\u001b[39m   masks \u001b[34mstats\u001b[39m::filter()\n",
      "\u001b[31m✖\u001b[39m \u001b[34mrecipes\u001b[39m::\u001b[32mfixed()\u001b[39m  masks \u001b[34mstringr\u001b[39m::fixed()\n",
      "\u001b[31m✖\u001b[39m \u001b[34mdplyr\u001b[39m::\u001b[32mlag()\u001b[39m      masks \u001b[34mstats\u001b[39m::lag()\n",
      "\u001b[31m✖\u001b[39m \u001b[34myardstick\u001b[39m::\u001b[32mspec()\u001b[39m masks \u001b[34mreadr\u001b[39m::spec()\n",
      "\u001b[31m✖\u001b[39m \u001b[34mrecipes\u001b[39m::\u001b[32mstep()\u001b[39m   masks \u001b[34mstats\u001b[39m::step()\n",
      "\n"
     ]
    }
   ],
   "source": [
    "# Loading Libraries, Remember to run this cell!\n",
    "library(tidyverse)\n",
    "library(repr)\n",
    "library(tidymodels)\n",
    "\n",
    "options(repr.matrix.max.rows = 6)"
   ]
  },
  {
   "cell_type": "code",
   "execution_count": 2,
   "metadata": {},
   "outputs": [
    {
     "name": "stderr",
     "output_type": "stream",
     "text": [
      "Warning message:\n",
      "“Missing column names filled in: 'X1' [1]”\n",
      "Parsed with column specification:\n",
      "cols(\n",
      "  .default = col_character(),\n",
      "  X1 = \u001b[32mcol_double()\u001b[39m,\n",
      "  `Turned Pro` = \u001b[32mcol_double()\u001b[39m,\n",
      "  Seasons = \u001b[32mcol_double()\u001b[39m,\n",
      "  Titles = \u001b[32mcol_double()\u001b[39m,\n",
      "  `Best Season` = \u001b[32mcol_double()\u001b[39m,\n",
      "  Retired = \u001b[32mcol_double()\u001b[39m,\n",
      "  Masters = \u001b[32mcol_double()\u001b[39m,\n",
      "  `Grand Slams` = \u001b[32mcol_double()\u001b[39m,\n",
      "  `Davis Cups` = \u001b[32mcol_double()\u001b[39m,\n",
      "  `Team Cups` = \u001b[32mcol_double()\u001b[39m,\n",
      "  Olympics = \u001b[32mcol_double()\u001b[39m,\n",
      "  `Weeks at No. 1` = \u001b[32mcol_double()\u001b[39m,\n",
      "  `Tour Finals` = \u001b[32mcol_double()\u001b[39m\n",
      ")\n",
      "\n",
      "See spec(...) for full column specifications.\n",
      "\n"
     ]
    }
   ],
   "source": [
    "# Loading in the data\n",
    "# Data read from https://drive.google.com/uc?export=download&id=1_MECmUXZuuILYeEOfonSGqodW6qVdhsS\n",
    "player_stats <- read_csv(\"https://drive.google.com/uc?export=download&id=1_MECmUXZuuILYeEOfonSGqodW6qVdhsS\")\n",
    "colnames(player_stats) <- make.names(colnames(player_stats))\n",
    "\n",
    "# Cleaning up the dataframe\n",
    "player_stats_clean <- player_stats %>%\n",
    "#   Removing players that have retired from the dataset\n",
    "    filter(is.na(Retired)) %>%\n",
    "#   Remove unnecessary columns and remove columns with NA values\n",
    "    select(Backhand, Plays, Turned.Pro, Current.Elo.Rank) %>%\n",
    "    na.omit() %>%\n",
    "#   Mutating columns with as_factor()\n",
    "    mutate(Plays = as_factor(Plays)) %>%\n",
    "    rename(Dominant.Hand = Plays) %>%\n",
    "    mutate(Backhand = as_factor(Backhand)) %>%\n",
    "#   Cleaning up columns with strings and turning them into numeric values\n",
    "    mutate(Year.Experience = 2020 - Turned.Pro) %>%\n",
    "    select(-Turned.Pro) %>%\n",
    "    mutate(Current.Elo.Rank = strtoi(substr(Current.Elo.Rank, 0, nchar(Current.Elo.Rank)-7))) "
   ]
  },
  {
   "cell_type": "code",
   "execution_count": 3,
   "metadata": {},
   "outputs": [
    {
     "data": {
      "text/html": [
       "<table>\n",
       "<caption>A spec_tbl_df: 500 × 38</caption>\n",
       "<thead>\n",
       "\t<tr><th scope=col>X1</th><th scope=col>Age</th><th scope=col>Country</th><th scope=col>Plays</th><th scope=col>Wikipedia</th><th scope=col>Current.Rank</th><th scope=col>Best.Rank</th><th scope=col>Name</th><th scope=col>Backhand</th><th scope=col>Prize.Money</th><th scope=col>⋯</th><th scope=col>Facebook</th><th scope=col>Twitter</th><th scope=col>Nicknames</th><th scope=col>Grand.Slams</th><th scope=col>Davis.Cups</th><th scope=col>Web.Site</th><th scope=col>Team.Cups</th><th scope=col>Olympics</th><th scope=col>Weeks.at.No..1</th><th scope=col>Tour.Finals</th></tr>\n",
       "\t<tr><th scope=col>&lt;dbl&gt;</th><th scope=col>&lt;chr&gt;</th><th scope=col>&lt;chr&gt;</th><th scope=col>&lt;chr&gt;</th><th scope=col>&lt;chr&gt;</th><th scope=col>&lt;chr&gt;</th><th scope=col>&lt;chr&gt;</th><th scope=col>&lt;chr&gt;</th><th scope=col>&lt;chr&gt;</th><th scope=col>&lt;chr&gt;</th><th scope=col>⋯</th><th scope=col>&lt;chr&gt;</th><th scope=col>&lt;chr&gt;</th><th scope=col>&lt;chr&gt;</th><th scope=col>&lt;dbl&gt;</th><th scope=col>&lt;dbl&gt;</th><th scope=col>&lt;chr&gt;</th><th scope=col>&lt;dbl&gt;</th><th scope=col>&lt;dbl&gt;</th><th scope=col>&lt;dbl&gt;</th><th scope=col>&lt;dbl&gt;</th></tr>\n",
       "</thead>\n",
       "<tbody>\n",
       "\t<tr><td>0</td><td>26 (25-04-1993)</td><td>Brazil        </td><td>Right-handed</td><td>Wikipedia</td><td>378 (97) </td><td>363 (04-11-2019)</td><td>Oscar Jose Gutierrez</td><td>NA        </td><td>NA          </td><td>⋯</td><td>NA</td><td>NA</td><td>NA</td><td>NA</td><td>NA</td><td>NA</td><td>NA</td><td>NA</td><td>NA</td><td>NA</td></tr>\n",
       "\t<tr><td>1</td><td>18 (22-12-2001)</td><td>United Kingdom</td><td>Left-handed </td><td>Wikipedia</td><td>326 (119)</td><td>316 (14-10-2019)</td><td>Jack Draper         </td><td>Two-handed</td><td>$59,040     </td><td>⋯</td><td>NA</td><td>NA</td><td>NA</td><td>NA</td><td>NA</td><td>NA</td><td>NA</td><td>NA</td><td>NA</td><td>NA</td></tr>\n",
       "\t<tr><td>2</td><td>32 (03-11-1987)</td><td>Slovakia      </td><td>Right-handed</td><td>Wikipedia</td><td>178 (280)</td><td>44 (14-01-2013) </td><td>Lukas Lacko         </td><td>Two-handed</td><td>US$3,261,567</td><td>⋯</td><td>NA</td><td>NA</td><td>NA</td><td>NA</td><td>NA</td><td>NA</td><td>NA</td><td>NA</td><td>NA</td><td>NA</td></tr>\n",
       "\t<tr><td>⋮</td><td>⋮</td><td>⋮</td><td>⋮</td><td>⋮</td><td>⋮</td><td>⋮</td><td>⋮</td><td>⋮</td><td>⋮</td><td>⋱</td><td>⋮</td><td>⋮</td><td>⋮</td><td>⋮</td><td>⋮</td><td>⋮</td><td>⋮</td><td>⋮</td><td>⋮</td><td>⋮</td></tr>\n",
       "\t<tr><td>497</td><td>23 (14-03-1996)</td><td>Netherlands</td><td>Left-handed</td><td>Wikipedia</td><td>495 (60)</td><td>342 (05-08-2019)</td><td>Gijs Brouwer   </td><td>NA        </td><td>NA     </td><td>⋯</td><td>NA</td><td>NA</td><td>NA</td><td>NA</td><td>NA</td><td>NA</td><td>NA</td><td>NA</td><td>NA</td><td>NA</td></tr>\n",
       "\t<tr><td>498</td><td>24 (17-05-1995)</td><td>Ukraine    </td><td>NA         </td><td>Wikipedia</td><td>419 (81)</td><td>419 (20-01-2020)</td><td>Vladyslav Orlov</td><td>NA        </td><td>NA     </td><td>⋯</td><td>NA</td><td>NA</td><td>NA</td><td>NA</td><td>NA</td><td>NA</td><td>NA</td><td>NA</td><td>NA</td><td>NA</td></tr>\n",
       "\t<tr><td>499</td><td>22 (26-03-1997)</td><td>Tunisia    </td><td>Left-handed</td><td>Wikipedia</td><td>451 (69)</td><td>408 (24-12-2018)</td><td>Aziz Dougaz    </td><td>Two-handed</td><td>$61,984</td><td>⋯</td><td>NA</td><td>NA</td><td>NA</td><td>NA</td><td>NA</td><td>NA</td><td>NA</td><td>NA</td><td>NA</td><td>NA</td></tr>\n",
       "</tbody>\n",
       "</table>\n"
      ],
      "text/latex": [
       "A spec\\_tbl\\_df: 500 × 38\n",
       "\\begin{tabular}{lllllllllllllllllllll}\n",
       " X1 & Age & Country & Plays & Wikipedia & Current.Rank & Best.Rank & Name & Backhand & Prize.Money & ⋯ & Facebook & Twitter & Nicknames & Grand.Slams & Davis.Cups & Web.Site & Team.Cups & Olympics & Weeks.at.No..1 & Tour.Finals\\\\\n",
       " <dbl> & <chr> & <chr> & <chr> & <chr> & <chr> & <chr> & <chr> & <chr> & <chr> & ⋯ & <chr> & <chr> & <chr> & <dbl> & <dbl> & <chr> & <dbl> & <dbl> & <dbl> & <dbl>\\\\\n",
       "\\hline\n",
       "\t 0 & 26 (25-04-1993) & Brazil         & Right-handed & Wikipedia & 378 (97)  & 363 (04-11-2019) & Oscar Jose Gutierrez & NA         & NA           & ⋯ & NA & NA & NA & NA & NA & NA & NA & NA & NA & NA\\\\\n",
       "\t 1 & 18 (22-12-2001) & United Kingdom & Left-handed  & Wikipedia & 326 (119) & 316 (14-10-2019) & Jack Draper          & Two-handed & \\$59,040      & ⋯ & NA & NA & NA & NA & NA & NA & NA & NA & NA & NA\\\\\n",
       "\t 2 & 32 (03-11-1987) & Slovakia       & Right-handed & Wikipedia & 178 (280) & 44 (14-01-2013)  & Lukas Lacko          & Two-handed & US\\$3,261,567 & ⋯ & NA & NA & NA & NA & NA & NA & NA & NA & NA & NA\\\\\n",
       "\t ⋮ & ⋮ & ⋮ & ⋮ & ⋮ & ⋮ & ⋮ & ⋮ & ⋮ & ⋮ & ⋱ & ⋮ & ⋮ & ⋮ & ⋮ & ⋮ & ⋮ & ⋮ & ⋮ & ⋮ & ⋮\\\\\n",
       "\t 497 & 23 (14-03-1996) & Netherlands & Left-handed & Wikipedia & 495 (60) & 342 (05-08-2019) & Gijs Brouwer    & NA         & NA      & ⋯ & NA & NA & NA & NA & NA & NA & NA & NA & NA & NA\\\\\n",
       "\t 498 & 24 (17-05-1995) & Ukraine     & NA          & Wikipedia & 419 (81) & 419 (20-01-2020) & Vladyslav Orlov & NA         & NA      & ⋯ & NA & NA & NA & NA & NA & NA & NA & NA & NA & NA\\\\\n",
       "\t 499 & 22 (26-03-1997) & Tunisia     & Left-handed & Wikipedia & 451 (69) & 408 (24-12-2018) & Aziz Dougaz     & Two-handed & \\$61,984 & ⋯ & NA & NA & NA & NA & NA & NA & NA & NA & NA & NA\\\\\n",
       "\\end{tabular}\n"
      ],
      "text/markdown": [
       "\n",
       "A spec_tbl_df: 500 × 38\n",
       "\n",
       "| X1 &lt;dbl&gt; | Age &lt;chr&gt; | Country &lt;chr&gt; | Plays &lt;chr&gt; | Wikipedia &lt;chr&gt; | Current.Rank &lt;chr&gt; | Best.Rank &lt;chr&gt; | Name &lt;chr&gt; | Backhand &lt;chr&gt; | Prize.Money &lt;chr&gt; | ⋯ ⋯ | Facebook &lt;chr&gt; | Twitter &lt;chr&gt; | Nicknames &lt;chr&gt; | Grand.Slams &lt;dbl&gt; | Davis.Cups &lt;dbl&gt; | Web.Site &lt;chr&gt; | Team.Cups &lt;dbl&gt; | Olympics &lt;dbl&gt; | Weeks.at.No..1 &lt;dbl&gt; | Tour.Finals &lt;dbl&gt; |\n",
       "|---|---|---|---|---|---|---|---|---|---|---|---|---|---|---|---|---|---|---|---|---|\n",
       "| 0 | 26 (25-04-1993) | Brazil         | Right-handed | Wikipedia | 378 (97)  | 363 (04-11-2019) | Oscar Jose Gutierrez | NA         | NA           | ⋯ | NA | NA | NA | NA | NA | NA | NA | NA | NA | NA |\n",
       "| 1 | 18 (22-12-2001) | United Kingdom | Left-handed  | Wikipedia | 326 (119) | 316 (14-10-2019) | Jack Draper          | Two-handed | $59,040      | ⋯ | NA | NA | NA | NA | NA | NA | NA | NA | NA | NA |\n",
       "| 2 | 32 (03-11-1987) | Slovakia       | Right-handed | Wikipedia | 178 (280) | 44 (14-01-2013)  | Lukas Lacko          | Two-handed | US$3,261,567 | ⋯ | NA | NA | NA | NA | NA | NA | NA | NA | NA | NA |\n",
       "| ⋮ | ⋮ | ⋮ | ⋮ | ⋮ | ⋮ | ⋮ | ⋮ | ⋮ | ⋮ | ⋱ | ⋮ | ⋮ | ⋮ | ⋮ | ⋮ | ⋮ | ⋮ | ⋮ | ⋮ | ⋮ |\n",
       "| 497 | 23 (14-03-1996) | Netherlands | Left-handed | Wikipedia | 495 (60) | 342 (05-08-2019) | Gijs Brouwer    | NA         | NA      | ⋯ | NA | NA | NA | NA | NA | NA | NA | NA | NA | NA |\n",
       "| 498 | 24 (17-05-1995) | Ukraine     | NA          | Wikipedia | 419 (81) | 419 (20-01-2020) | Vladyslav Orlov | NA         | NA      | ⋯ | NA | NA | NA | NA | NA | NA | NA | NA | NA | NA |\n",
       "| 499 | 22 (26-03-1997) | Tunisia     | Left-handed | Wikipedia | 451 (69) | 408 (24-12-2018) | Aziz Dougaz     | Two-handed | $61,984 | ⋯ | NA | NA | NA | NA | NA | NA | NA | NA | NA | NA |\n",
       "\n"
      ],
      "text/plain": [
       "    X1  Age             Country        Plays        Wikipedia Current.Rank\n",
       "1   0   26 (25-04-1993) Brazil         Right-handed Wikipedia 378 (97)    \n",
       "2   1   18 (22-12-2001) United Kingdom Left-handed  Wikipedia 326 (119)   \n",
       "3   2   32 (03-11-1987) Slovakia       Right-handed Wikipedia 178 (280)   \n",
       "⋮   ⋮   ⋮               ⋮              ⋮            ⋮         ⋮           \n",
       "498 497 23 (14-03-1996) Netherlands    Left-handed  Wikipedia 495 (60)    \n",
       "499 498 24 (17-05-1995) Ukraine        NA           Wikipedia 419 (81)    \n",
       "500 499 22 (26-03-1997) Tunisia        Left-handed  Wikipedia 451 (69)    \n",
       "    Best.Rank        Name                 Backhand   Prize.Money  ⋯ Facebook\n",
       "1   363 (04-11-2019) Oscar Jose Gutierrez NA         NA           ⋯ NA      \n",
       "2   316 (14-10-2019) Jack Draper          Two-handed $59,040      ⋯ NA      \n",
       "3   44 (14-01-2013)  Lukas Lacko          Two-handed US$3,261,567 ⋯ NA      \n",
       "⋮   ⋮                ⋮                    ⋮          ⋮            ⋱ ⋮       \n",
       "498 342 (05-08-2019) Gijs Brouwer         NA         NA           ⋯ NA      \n",
       "499 419 (20-01-2020) Vladyslav Orlov      NA         NA           ⋯ NA      \n",
       "500 408 (24-12-2018) Aziz Dougaz          Two-handed $61,984      ⋯ NA      \n",
       "    Twitter Nicknames Grand.Slams Davis.Cups Web.Site Team.Cups Olympics\n",
       "1   NA      NA        NA          NA         NA       NA        NA      \n",
       "2   NA      NA        NA          NA         NA       NA        NA      \n",
       "3   NA      NA        NA          NA         NA       NA        NA      \n",
       "⋮   ⋮       ⋮         ⋮           ⋮          ⋮        ⋮         ⋮       \n",
       "498 NA      NA        NA          NA         NA       NA        NA      \n",
       "499 NA      NA        NA          NA         NA       NA        NA      \n",
       "500 NA      NA        NA          NA         NA       NA        NA      \n",
       "    Weeks.at.No..1 Tour.Finals\n",
       "1   NA             NA         \n",
       "2   NA             NA         \n",
       "3   NA             NA         \n",
       "⋮   ⋮              ⋮          \n",
       "498 NA             NA         \n",
       "499 NA             NA         \n",
       "500 NA             NA         "
      ]
     },
     "metadata": {},
     "output_type": "display_data"
    }
   ],
   "source": [
    "player_stats"
   ]
  },
  {
   "cell_type": "markdown",
   "metadata": {},
   "source": [
    "<b>Table 1.0:</b> The original dataframe loaded in."
   ]
  },
  {
   "cell_type": "code",
   "execution_count": 4,
   "metadata": {},
   "outputs": [
    {
     "data": {
      "text/html": [
       "<table>\n",
       "<caption>A tibble: 161 × 4</caption>\n",
       "<thead>\n",
       "\t<tr><th scope=col>Backhand</th><th scope=col>Dominant.Hand</th><th scope=col>Current.Elo.Rank</th><th scope=col>Year.Experience</th></tr>\n",
       "\t<tr><th scope=col>&lt;fct&gt;</th><th scope=col>&lt;fct&gt;</th><th scope=col>&lt;int&gt;</th><th scope=col>&lt;dbl&gt;</th></tr>\n",
       "</thead>\n",
       "<tbody>\n",
       "\t<tr><td>Two-handed</td><td>Right-handed</td><td>144</td><td>15</td></tr>\n",
       "\t<tr><td>Two-handed</td><td>Right-handed</td><td>100</td><td>12</td></tr>\n",
       "\t<tr><td>Two-handed</td><td>Right-handed</td><td> 33</td><td> 5</td></tr>\n",
       "\t<tr><td>⋮</td><td>⋮</td><td>⋮</td><td>⋮</td></tr>\n",
       "\t<tr><td>Two-handed</td><td>Right-handed</td><td>143</td><td>12</td></tr>\n",
       "\t<tr><td>Two-handed</td><td>Right-handed</td><td>180</td><td>11</td></tr>\n",
       "\t<tr><td>One-handed</td><td>Right-handed</td><td>  6</td><td> 9</td></tr>\n",
       "</tbody>\n",
       "</table>\n"
      ],
      "text/latex": [
       "A tibble: 161 × 4\n",
       "\\begin{tabular}{llll}\n",
       " Backhand & Dominant.Hand & Current.Elo.Rank & Year.Experience\\\\\n",
       " <fct> & <fct> & <int> & <dbl>\\\\\n",
       "\\hline\n",
       "\t Two-handed & Right-handed & 144 & 15\\\\\n",
       "\t Two-handed & Right-handed & 100 & 12\\\\\n",
       "\t Two-handed & Right-handed &  33 &  5\\\\\n",
       "\t ⋮ & ⋮ & ⋮ & ⋮\\\\\n",
       "\t Two-handed & Right-handed & 143 & 12\\\\\n",
       "\t Two-handed & Right-handed & 180 & 11\\\\\n",
       "\t One-handed & Right-handed &   6 &  9\\\\\n",
       "\\end{tabular}\n"
      ],
      "text/markdown": [
       "\n",
       "A tibble: 161 × 4\n",
       "\n",
       "| Backhand &lt;fct&gt; | Dominant.Hand &lt;fct&gt; | Current.Elo.Rank &lt;int&gt; | Year.Experience &lt;dbl&gt; |\n",
       "|---|---|---|---|\n",
       "| Two-handed | Right-handed | 144 | 15 |\n",
       "| Two-handed | Right-handed | 100 | 12 |\n",
       "| Two-handed | Right-handed |  33 |  5 |\n",
       "| ⋮ | ⋮ | ⋮ | ⋮ |\n",
       "| Two-handed | Right-handed | 143 | 12 |\n",
       "| Two-handed | Right-handed | 180 | 11 |\n",
       "| One-handed | Right-handed |   6 |  9 |\n",
       "\n"
      ],
      "text/plain": [
       "    Backhand   Dominant.Hand Current.Elo.Rank Year.Experience\n",
       "1   Two-handed Right-handed  144              15             \n",
       "2   Two-handed Right-handed  100              12             \n",
       "3   Two-handed Right-handed   33               5             \n",
       "⋮   ⋮          ⋮             ⋮                ⋮              \n",
       "159 Two-handed Right-handed  143              12             \n",
       "160 Two-handed Right-handed  180              11             \n",
       "161 One-handed Right-handed    6               9             "
      ]
     },
     "metadata": {},
     "output_type": "display_data"
    }
   ],
   "source": [
    "player_stats_clean"
   ]
  },
  {
   "cell_type": "markdown",
   "metadata": {},
   "source": [
    "<b>Table 1.1:</b> Choosing the necessary columns and properfly formatting the values"
   ]
  },
  {
   "cell_type": "code",
   "execution_count": 5,
   "metadata": {},
   "outputs": [],
   "source": [
    "set.seed(1234) # DO NOT REMOVE\n",
    "# plotting the two predictors (Current.Elo.Rank and Year.Experience) classifying between Backhand and Dominant.Hand\n",
    "back_plot <- player_stats_clean %>%\n",
    "    ggplot(aes(x = Current.Elo.Rank, y = Year.Experience)) +\n",
    "        geom_point(aes(shape = Backhand, color = Backhand)) +\n",
    "        labs(x = \"Current Elo Rank\", y = \"Years of Experience\",\n",
    "             shape = \"Backhand Type\", color = \"Backhand Type\") +\n",
    "        ggtitle(\"Classifying Backhand Type\")\n",
    "                   \n",
    "dominant_plot <- player_stats_clean %>%\n",
    "    ggplot(aes(x = Current.Elo.Rank, y = Year.Experience)) +\n",
    "        geom_point(aes(shape = Dominant.Hand, color = Dominant.Hand)) +\n",
    "        labs(x = \"Current Elo Rank\", y = \"Years of Experience\",\n",
    "             shape = \"Dominant Hand\", color = \"Dominant Hand\") +\n",
    "        ggtitle(\"Classifying Dominant Hand\")"
   ]
  },
  {
   "cell_type": "code",
   "execution_count": 6,
   "metadata": {},
   "outputs": [
    {
     "data": {
      "image/png": "[encoded data removed]",
      "text/plain": [
       "plot without title"
      ]
     },
     "metadata": {
      "image/png": {
       "height": 420,
       "width": 420
      }
     },
     "output_type": "display_data"
    }
   ],
   "source": [
    "back_plot"
   ]
  },
  {
   "cell_type": "markdown",
   "metadata": {},
   "source": [
    "<b>Figure 1.0:</b> Plot distinguishing between type of backhand using Current.Elo.Rank as the x-axis and Year.Experience as the y-axis"
   ]
  },
  {
   "cell_type": "code",
   "execution_count": 7,
   "metadata": {},
   "outputs": [
    {
     "data": {
      "image/png": "[encoded data removed]",
      "text/plain": [
       "plot without title"
      ]
     },
     "metadata": {
      "image/png": {
       "height": 420,
       "width": 420
      }
     },
     "output_type": "display_data"
    }
   ],
   "source": [
    "dominant_plot"
   ]
  },
  {
   "cell_type": "markdown",
   "metadata": {},
   "source": [
    "<b>Figure 1.1:</b> Plot distinguishing between the player's dominant hand using the same variables as <b>Figure 1.0</b>"
   ]
  },
  {
   "cell_type": "code",
   "execution_count": 8,
   "metadata": {},
   "outputs": [],
   "source": [
    "set.seed(1234) # DO NOT REMOVE\n",
    "# Making the training and testing splits for each of the predictions\n",
    "back_split <- initial_split(player_stats_clean, prop = .75, strata = Backhand)\n",
    "back_training <- training(back_split)\n",
    "back_testing <- testing(back_split)\n",
    "\n",
    "dominant_split <- initial_split(player_stats_clean, prop = .75, strata = Dominant.Hand)\n",
    "dominant_training <- training(dominant_split)\n",
    "dominant_testing <- testing(dominant_split)"
   ]
  },
  {
   "cell_type": "code",
   "execution_count": 9,
   "metadata": {},
   "outputs": [
    {
     "data": {
      "text/html": [
       "<table>\n",
       "<caption>A tibble: 121 × 4</caption>\n",
       "<thead>\n",
       "\t<tr><th scope=col>Backhand</th><th scope=col>Dominant.Hand</th><th scope=col>Current.Elo.Rank</th><th scope=col>Year.Experience</th></tr>\n",
       "\t<tr><th scope=col>&lt;fct&gt;</th><th scope=col>&lt;fct&gt;</th><th scope=col>&lt;int&gt;</th><th scope=col>&lt;dbl&gt;</th></tr>\n",
       "</thead>\n",
       "<tbody>\n",
       "\t<tr><td>Two-handed</td><td>Right-handed</td><td>144</td><td>15</td></tr>\n",
       "\t<tr><td>Two-handed</td><td>Right-handed</td><td>100</td><td>12</td></tr>\n",
       "\t<tr><td>Two-handed</td><td>Right-handed</td><td>  4</td><td>15</td></tr>\n",
       "\t<tr><td>⋮</td><td>⋮</td><td>⋮</td><td>⋮</td></tr>\n",
       "\t<tr><td>Two-handed</td><td>Right-handed</td><td>143</td><td>12</td></tr>\n",
       "\t<tr><td>Two-handed</td><td>Right-handed</td><td>180</td><td>11</td></tr>\n",
       "\t<tr><td>One-handed</td><td>Right-handed</td><td>  6</td><td> 9</td></tr>\n",
       "</tbody>\n",
       "</table>\n"
      ],
      "text/latex": [
       "A tibble: 121 × 4\n",
       "\\begin{tabular}{llll}\n",
       " Backhand & Dominant.Hand & Current.Elo.Rank & Year.Experience\\\\\n",
       " <fct> & <fct> & <int> & <dbl>\\\\\n",
       "\\hline\n",
       "\t Two-handed & Right-handed & 144 & 15\\\\\n",
       "\t Two-handed & Right-handed & 100 & 12\\\\\n",
       "\t Two-handed & Right-handed &   4 & 15\\\\\n",
       "\t ⋮ & ⋮ & ⋮ & ⋮\\\\\n",
       "\t Two-handed & Right-handed & 143 & 12\\\\\n",
       "\t Two-handed & Right-handed & 180 & 11\\\\\n",
       "\t One-handed & Right-handed &   6 &  9\\\\\n",
       "\\end{tabular}\n"
      ],
      "text/markdown": [
       "\n",
       "A tibble: 121 × 4\n",
       "\n",
       "| Backhand &lt;fct&gt; | Dominant.Hand &lt;fct&gt; | Current.Elo.Rank &lt;int&gt; | Year.Experience &lt;dbl&gt; |\n",
       "|---|---|---|---|\n",
       "| Two-handed | Right-handed | 144 | 15 |\n",
       "| Two-handed | Right-handed | 100 | 12 |\n",
       "| Two-handed | Right-handed |   4 | 15 |\n",
       "| ⋮ | ⋮ | ⋮ | ⋮ |\n",
       "| Two-handed | Right-handed | 143 | 12 |\n",
       "| Two-handed | Right-handed | 180 | 11 |\n",
       "| One-handed | Right-handed |   6 |  9 |\n",
       "\n"
      ],
      "text/plain": [
       "    Backhand   Dominant.Hand Current.Elo.Rank Year.Experience\n",
       "1   Two-handed Right-handed  144              15             \n",
       "2   Two-handed Right-handed  100              12             \n",
       "3   Two-handed Right-handed    4              15             \n",
       "⋮   ⋮          ⋮             ⋮                ⋮              \n",
       "119 Two-handed Right-handed  143              12             \n",
       "120 Two-handed Right-handed  180              11             \n",
       "121 One-handed Right-handed    6               9             "
      ]
     },
     "metadata": {},
     "output_type": "display_data"
    }
   ],
   "source": [
    "back_training"
   ]
  },
  {
   "cell_type": "markdown",
   "metadata": {},
   "source": [
    "<b>Table 2.0:</b> Training dataset used for the backhand classification model."
   ]
  },
  {
   "cell_type": "code",
   "execution_count": 10,
   "metadata": {},
   "outputs": [
    {
     "data": {
      "text/html": [
       "<table>\n",
       "<caption>A tibble: 40 × 4</caption>\n",
       "<thead>\n",
       "\t<tr><th scope=col>Backhand</th><th scope=col>Dominant.Hand</th><th scope=col>Current.Elo.Rank</th><th scope=col>Year.Experience</th></tr>\n",
       "\t<tr><th scope=col>&lt;fct&gt;</th><th scope=col>&lt;fct&gt;</th><th scope=col>&lt;int&gt;</th><th scope=col>&lt;dbl&gt;</th></tr>\n",
       "</thead>\n",
       "<tbody>\n",
       "\t<tr><td>Two-handed</td><td>Right-handed</td><td>33</td><td>5</td></tr>\n",
       "\t<tr><td>Two-handed</td><td>Right-handed</td><td>51</td><td>3</td></tr>\n",
       "\t<tr><td>Two-handed</td><td>Right-handed</td><td> 5</td><td>6</td></tr>\n",
       "\t<tr><td>⋮</td><td>⋮</td><td>⋮</td><td>⋮</td></tr>\n",
       "\t<tr><td>Two-handed</td><td>Right-handed</td><td>28</td><td>13</td></tr>\n",
       "\t<tr><td>Two-handed</td><td>Right-handed</td><td>89</td><td>14</td></tr>\n",
       "\t<tr><td>Two-handed</td><td>Right-handed</td><td>63</td><td>18</td></tr>\n",
       "</tbody>\n",
       "</table>\n"
      ],
      "text/latex": [
       "A tibble: 40 × 4\n",
       "\\begin{tabular}{llll}\n",
       " Backhand & Dominant.Hand & Current.Elo.Rank & Year.Experience\\\\\n",
       " <fct> & <fct> & <int> & <dbl>\\\\\n",
       "\\hline\n",
       "\t Two-handed & Right-handed & 33 & 5\\\\\n",
       "\t Two-handed & Right-handed & 51 & 3\\\\\n",
       "\t Two-handed & Right-handed &  5 & 6\\\\\n",
       "\t ⋮ & ⋮ & ⋮ & ⋮\\\\\n",
       "\t Two-handed & Right-handed & 28 & 13\\\\\n",
       "\t Two-handed & Right-handed & 89 & 14\\\\\n",
       "\t Two-handed & Right-handed & 63 & 18\\\\\n",
       "\\end{tabular}\n"
      ],
      "text/markdown": [
       "\n",
       "A tibble: 40 × 4\n",
       "\n",
       "| Backhand &lt;fct&gt; | Dominant.Hand &lt;fct&gt; | Current.Elo.Rank &lt;int&gt; | Year.Experience &lt;dbl&gt; |\n",
       "|---|---|---|---|\n",
       "| Two-handed | Right-handed | 33 | 5 |\n",
       "| Two-handed | Right-handed | 51 | 3 |\n",
       "| Two-handed | Right-handed |  5 | 6 |\n",
       "| ⋮ | ⋮ | ⋮ | ⋮ |\n",
       "| Two-handed | Right-handed | 28 | 13 |\n",
       "| Two-handed | Right-handed | 89 | 14 |\n",
       "| Two-handed | Right-handed | 63 | 18 |\n",
       "\n"
      ],
      "text/plain": [
       "   Backhand   Dominant.Hand Current.Elo.Rank Year.Experience\n",
       "1  Two-handed Right-handed  33               5              \n",
       "2  Two-handed Right-handed  51               3              \n",
       "3  Two-handed Right-handed   5               6              \n",
       "⋮  ⋮          ⋮             ⋮                ⋮              \n",
       "38 Two-handed Right-handed  28               13             \n",
       "39 Two-handed Right-handed  89               14             \n",
       "40 Two-handed Right-handed  63               18             "
      ]
     },
     "metadata": {},
     "output_type": "display_data"
    }
   ],
   "source": [
    "back_testing"
   ]
  },
  {
   "cell_type": "markdown",
   "metadata": {},
   "source": [
    "<b>Table 2.1:</b> Testing dataset used for the backhand classification model."
   ]
  },
  {
   "cell_type": "code",
   "execution_count": 11,
   "metadata": {},
   "outputs": [
    {
     "data": {
      "text/html": [
       "<table>\n",
       "<caption>A tibble: 122 × 4</caption>\n",
       "<thead>\n",
       "\t<tr><th scope=col>Backhand</th><th scope=col>Dominant.Hand</th><th scope=col>Current.Elo.Rank</th><th scope=col>Year.Experience</th></tr>\n",
       "\t<tr><th scope=col>&lt;fct&gt;</th><th scope=col>&lt;fct&gt;</th><th scope=col>&lt;int&gt;</th><th scope=col>&lt;dbl&gt;</th></tr>\n",
       "</thead>\n",
       "<tbody>\n",
       "\t<tr><td>Two-handed</td><td>Right-handed</td><td>144</td><td>15</td></tr>\n",
       "\t<tr><td>Two-handed</td><td>Right-handed</td><td>100</td><td>12</td></tr>\n",
       "\t<tr><td>Two-handed</td><td>Right-handed</td><td> 51</td><td> 3</td></tr>\n",
       "\t<tr><td>⋮</td><td>⋮</td><td>⋮</td><td>⋮</td></tr>\n",
       "\t<tr><td>Two-handed</td><td>Right-handed</td><td>186</td><td> 4</td></tr>\n",
       "\t<tr><td>Two-handed</td><td>Right-handed</td><td>180</td><td>11</td></tr>\n",
       "\t<tr><td>One-handed</td><td>Right-handed</td><td>  6</td><td> 9</td></tr>\n",
       "</tbody>\n",
       "</table>\n"
      ],
      "text/latex": [
       "A tibble: 122 × 4\n",
       "\\begin{tabular}{llll}\n",
       " Backhand & Dominant.Hand & Current.Elo.Rank & Year.Experience\\\\\n",
       " <fct> & <fct> & <int> & <dbl>\\\\\n",
       "\\hline\n",
       "\t Two-handed & Right-handed & 144 & 15\\\\\n",
       "\t Two-handed & Right-handed & 100 & 12\\\\\n",
       "\t Two-handed & Right-handed &  51 &  3\\\\\n",
       "\t ⋮ & ⋮ & ⋮ & ⋮\\\\\n",
       "\t Two-handed & Right-handed & 186 &  4\\\\\n",
       "\t Two-handed & Right-handed & 180 & 11\\\\\n",
       "\t One-handed & Right-handed &   6 &  9\\\\\n",
       "\\end{tabular}\n"
      ],
      "text/markdown": [
       "\n",
       "A tibble: 122 × 4\n",
       "\n",
       "| Backhand &lt;fct&gt; | Dominant.Hand &lt;fct&gt; | Current.Elo.Rank &lt;int&gt; | Year.Experience &lt;dbl&gt; |\n",
       "|---|---|---|---|\n",
       "| Two-handed | Right-handed | 144 | 15 |\n",
       "| Two-handed | Right-handed | 100 | 12 |\n",
       "| Two-handed | Right-handed |  51 |  3 |\n",
       "| ⋮ | ⋮ | ⋮ | ⋮ |\n",
       "| Two-handed | Right-handed | 186 |  4 |\n",
       "| Two-handed | Right-handed | 180 | 11 |\n",
       "| One-handed | Right-handed |   6 |  9 |\n",
       "\n"
      ],
      "text/plain": [
       "    Backhand   Dominant.Hand Current.Elo.Rank Year.Experience\n",
       "1   Two-handed Right-handed  144              15             \n",
       "2   Two-handed Right-handed  100              12             \n",
       "3   Two-handed Right-handed   51               3             \n",
       "⋮   ⋮          ⋮             ⋮                ⋮              \n",
       "120 Two-handed Right-handed  186               4             \n",
       "121 Two-handed Right-handed  180              11             \n",
       "122 One-handed Right-handed    6               9             "
      ]
     },
     "metadata": {},
     "output_type": "display_data"
    }
   ],
   "source": [
    "dominant_training"
   ]
  },
  {
   "cell_type": "markdown",
   "metadata": {},
   "source": [
    "<b>Table 2.2:</b> Training dataset used for the dominant hand classification model."
   ]
  },
  {
   "cell_type": "code",
   "execution_count": 12,
   "metadata": {},
   "outputs": [
    {
     "data": {
      "text/html": [
       "<table>\n",
       "<caption>A tibble: 39 × 4</caption>\n",
       "<thead>\n",
       "\t<tr><th scope=col>Backhand</th><th scope=col>Dominant.Hand</th><th scope=col>Current.Elo.Rank</th><th scope=col>Year.Experience</th></tr>\n",
       "\t<tr><th scope=col>&lt;fct&gt;</th><th scope=col>&lt;fct&gt;</th><th scope=col>&lt;int&gt;</th><th scope=col>&lt;dbl&gt;</th></tr>\n",
       "</thead>\n",
       "<tbody>\n",
       "\t<tr><td>Two-handed</td><td>Right-handed</td><td>33</td><td> 5</td></tr>\n",
       "\t<tr><td>Two-handed</td><td>Right-handed</td><td>56</td><td> 5</td></tr>\n",
       "\t<tr><td>Two-handed</td><td>Right-handed</td><td>31</td><td>14</td></tr>\n",
       "\t<tr><td>⋮</td><td>⋮</td><td>⋮</td><td>⋮</td></tr>\n",
       "\t<tr><td>Two-handed</td><td>Right-handed</td><td> 95</td><td> 7</td></tr>\n",
       "\t<tr><td>Two-handed</td><td>Right-handed</td><td> 70</td><td> 5</td></tr>\n",
       "\t<tr><td>Two-handed</td><td>Right-handed</td><td>143</td><td>12</td></tr>\n",
       "</tbody>\n",
       "</table>\n"
      ],
      "text/latex": [
       "A tibble: 39 × 4\n",
       "\\begin{tabular}{llll}\n",
       " Backhand & Dominant.Hand & Current.Elo.Rank & Year.Experience\\\\\n",
       " <fct> & <fct> & <int> & <dbl>\\\\\n",
       "\\hline\n",
       "\t Two-handed & Right-handed & 33 &  5\\\\\n",
       "\t Two-handed & Right-handed & 56 &  5\\\\\n",
       "\t Two-handed & Right-handed & 31 & 14\\\\\n",
       "\t ⋮ & ⋮ & ⋮ & ⋮\\\\\n",
       "\t Two-handed & Right-handed &  95 &  7\\\\\n",
       "\t Two-handed & Right-handed &  70 &  5\\\\\n",
       "\t Two-handed & Right-handed & 143 & 12\\\\\n",
       "\\end{tabular}\n"
      ],
      "text/markdown": [
       "\n",
       "A tibble: 39 × 4\n",
       "\n",
       "| Backhand &lt;fct&gt; | Dominant.Hand &lt;fct&gt; | Current.Elo.Rank &lt;int&gt; | Year.Experience &lt;dbl&gt; |\n",
       "|---|---|---|---|\n",
       "| Two-handed | Right-handed | 33 |  5 |\n",
       "| Two-handed | Right-handed | 56 |  5 |\n",
       "| Two-handed | Right-handed | 31 | 14 |\n",
       "| ⋮ | ⋮ | ⋮ | ⋮ |\n",
       "| Two-handed | Right-handed |  95 |  7 |\n",
       "| Two-handed | Right-handed |  70 |  5 |\n",
       "| Two-handed | Right-handed | 143 | 12 |\n",
       "\n"
      ],
      "text/plain": [
       "   Backhand   Dominant.Hand Current.Elo.Rank Year.Experience\n",
       "1  Two-handed Right-handed  33                5             \n",
       "2  Two-handed Right-handed  56                5             \n",
       "3  Two-handed Right-handed  31               14             \n",
       "⋮  ⋮          ⋮             ⋮                ⋮              \n",
       "37 Two-handed Right-handed   95               7             \n",
       "38 Two-handed Right-handed   70               5             \n",
       "39 Two-handed Right-handed  143              12             "
      ]
     },
     "metadata": {},
     "output_type": "display_data"
    }
   ],
   "source": [
    "dominant_testing"
   ]
  },
  {
   "cell_type": "markdown",
   "metadata": {},
   "source": [
    "<b>Table 2.3:</b> Testing dataset used for the dominant classification model."
   ]
  },
  {
   "cell_type": "code",
   "execution_count": 13,
   "metadata": {},
   "outputs": [],
   "source": [
    "set.seed(1234) # DO NOT REMOVE\n",
    "# Creating the Recipes\n",
    "back_recipe <- recipe(Backhand ~ Current.Elo.Rank + Year.Experience, data = back_training) %>%\n",
    "    step_scale(all_predictors()) %>%\n",
    "    step_center(all_predictors())\n",
    "\n",
    "dominant_recipe <- recipe(Dominant.Hand ~ Current.Elo.Rank + Year.Experience, data = dominant_training) %>%\n",
    "    step_scale(all_predictors()) %>%\n",
    "    step_center(all_predictors())"
   ]
  },
  {
   "cell_type": "code",
   "execution_count": 14,
   "metadata": {},
   "outputs": [],
   "source": [
    "set.seed(1234)\n",
    "\n",
    "# Creating the vfolds for cross-validation\n",
    "back_vfold <- vfold_cv(back_training, v = 5, strata = Backhand)\n",
    "dominant_vfold <- vfold_cv(dominant_training, v = 5, strata = Dominant.Hand)"
   ]
  },
  {
   "cell_type": "code",
   "execution_count": 15,
   "metadata": {},
   "outputs": [],
   "source": [
    "set.seed(1234)\n",
    "# Making the tune spec to choose the best value of k\n",
    "knn_tune <- nearest_neighbor(weight_func = \"rectangular\", neighbors = tune()) %>%\n",
    "        set_engine(\"kknn\") %>%\n",
    "        set_mode(\"classification\")"
   ]
  },
  {
   "cell_type": "code",
   "execution_count": 16,
   "metadata": {},
   "outputs": [],
   "source": [
    "set.seed(1234) # DO NOT REMOVE\n",
    "# Collecting metrics and filtering for accuracies to determine best value of k\n",
    "back_accuracies <- workflow() %>%\n",
    "    add_recipe(back_recipe) %>%\n",
    "    add_model(knn_tune) %>%\n",
    "    tune_grid(resamples = back_vfold, grid = 10) %>%\n",
    "    collect_metrics %>%\n",
    "    filter(.metric == \"accuracy\")\n",
    "\n",
    "dominant_accuracies <- workflow() %>%\n",
    "    add_recipe(dominant_recipe) %>%\n",
    "    add_model(knn_tune) %>%\n",
    "    tune_grid(resamples = dominant_vfold, grid = 10) %>%\n",
    "    collect_metrics %>%\n",
    "    filter(.metric == \"accuracy\")"
   ]
  },
  {
   "cell_type": "code",
   "execution_count": 17,
   "metadata": {},
   "outputs": [
    {
     "data": {
      "text/html": [
       "<table>\n",
       "<caption>A tibble: 10 × 7</caption>\n",
       "<thead>\n",
       "\t<tr><th scope=col>neighbors</th><th scope=col>.metric</th><th scope=col>.estimator</th><th scope=col>mean</th><th scope=col>n</th><th scope=col>std_err</th><th scope=col>.config</th></tr>\n",
       "\t<tr><th scope=col>&lt;int&gt;</th><th scope=col>&lt;chr&gt;</th><th scope=col>&lt;chr&gt;</th><th scope=col>&lt;dbl&gt;</th><th scope=col>&lt;int&gt;</th><th scope=col>&lt;dbl&gt;</th><th scope=col>&lt;chr&gt;</th></tr>\n",
       "</thead>\n",
       "<tbody>\n",
       "\t<tr><td>2</td><td>accuracy</td><td>binary</td><td>0.7776667</td><td>5</td><td>0.03682013</td><td>Model01</td></tr>\n",
       "\t<tr><td>3</td><td>accuracy</td><td>binary</td><td>0.8603333</td><td>5</td><td>0.03227228</td><td>Model02</td></tr>\n",
       "\t<tr><td>4</td><td>accuracy</td><td>binary</td><td>0.8603333</td><td>5</td><td>0.03227228</td><td>Model03</td></tr>\n",
       "\t<tr><td>⋮</td><td>⋮</td><td>⋮</td><td>⋮</td><td>⋮</td><td>⋮</td><td>⋮</td></tr>\n",
       "\t<tr><td>12</td><td>accuracy</td><td>binary</td><td>0.876</td><td>5</td><td>0.001</td><td>Model08</td></tr>\n",
       "\t<tr><td>13</td><td>accuracy</td><td>binary</td><td>0.876</td><td>5</td><td>0.001</td><td>Model09</td></tr>\n",
       "\t<tr><td>14</td><td>accuracy</td><td>binary</td><td>0.876</td><td>5</td><td>0.001</td><td>Model10</td></tr>\n",
       "</tbody>\n",
       "</table>\n"
      ],
      "text/latex": [
       "A tibble: 10 × 7\n",
       "\\begin{tabular}{lllllll}\n",
       " neighbors & .metric & .estimator & mean & n & std\\_err & .config\\\\\n",
       " <int> & <chr> & <chr> & <dbl> & <int> & <dbl> & <chr>\\\\\n",
       "\\hline\n",
       "\t 2 & accuracy & binary & 0.7776667 & 5 & 0.03682013 & Model01\\\\\n",
       "\t 3 & accuracy & binary & 0.8603333 & 5 & 0.03227228 & Model02\\\\\n",
       "\t 4 & accuracy & binary & 0.8603333 & 5 & 0.03227228 & Model03\\\\\n",
       "\t ⋮ & ⋮ & ⋮ & ⋮ & ⋮ & ⋮ & ⋮\\\\\n",
       "\t 12 & accuracy & binary & 0.876 & 5 & 0.001 & Model08\\\\\n",
       "\t 13 & accuracy & binary & 0.876 & 5 & 0.001 & Model09\\\\\n",
       "\t 14 & accuracy & binary & 0.876 & 5 & 0.001 & Model10\\\\\n",
       "\\end{tabular}\n"
      ],
      "text/markdown": [
       "\n",
       "A tibble: 10 × 7\n",
       "\n",
       "| neighbors &lt;int&gt; | .metric &lt;chr&gt; | .estimator &lt;chr&gt; | mean &lt;dbl&gt; | n &lt;int&gt; | std_err &lt;dbl&gt; | .config &lt;chr&gt; |\n",
       "|---|---|---|---|---|---|---|\n",
       "| 2 | accuracy | binary | 0.7776667 | 5 | 0.03682013 | Model01 |\n",
       "| 3 | accuracy | binary | 0.8603333 | 5 | 0.03227228 | Model02 |\n",
       "| 4 | accuracy | binary | 0.8603333 | 5 | 0.03227228 | Model03 |\n",
       "| ⋮ | ⋮ | ⋮ | ⋮ | ⋮ | ⋮ | ⋮ |\n",
       "| 12 | accuracy | binary | 0.876 | 5 | 0.001 | Model08 |\n",
       "| 13 | accuracy | binary | 0.876 | 5 | 0.001 | Model09 |\n",
       "| 14 | accuracy | binary | 0.876 | 5 | 0.001 | Model10 |\n",
       "\n"
      ],
      "text/plain": [
       "   neighbors .metric  .estimator mean      n std_err    .config\n",
       "1  2         accuracy binary     0.7776667 5 0.03682013 Model01\n",
       "2  3         accuracy binary     0.8603333 5 0.03227228 Model02\n",
       "3  4         accuracy binary     0.8603333 5 0.03227228 Model03\n",
       "⋮  ⋮         ⋮        ⋮          ⋮         ⋮ ⋮          ⋮      \n",
       "8  12        accuracy binary     0.876     5 0.001      Model08\n",
       "9  13        accuracy binary     0.876     5 0.001      Model09\n",
       "10 14        accuracy binary     0.876     5 0.001      Model10"
      ]
     },
     "metadata": {},
     "output_type": "display_data"
    }
   ],
   "source": [
    "back_accuracies"
   ]
  },
  {
   "cell_type": "markdown",
   "metadata": {},
   "source": [
    "<b>Table 2.4:</b> Table of accuracies of 10 different values of k for the backhand classification model."
   ]
  },
  {
   "cell_type": "code",
   "execution_count": 18,
   "metadata": {},
   "outputs": [
    {
     "data": {
      "text/html": [
       "<table>\n",
       "<caption>A tibble: 9 × 7</caption>\n",
       "<thead>\n",
       "\t<tr><th scope=col>neighbors</th><th scope=col>.metric</th><th scope=col>.estimator</th><th scope=col>mean</th><th scope=col>n</th><th scope=col>std_err</th><th scope=col>.config</th></tr>\n",
       "\t<tr><th scope=col>&lt;int&gt;</th><th scope=col>&lt;chr&gt;</th><th scope=col>&lt;chr&gt;</th><th scope=col>&lt;dbl&gt;</th><th scope=col>&lt;int&gt;</th><th scope=col>&lt;dbl&gt;</th><th scope=col>&lt;chr&gt;</th></tr>\n",
       "</thead>\n",
       "<tbody>\n",
       "\t<tr><td>1</td><td>accuracy</td><td>binary</td><td>0.7866667</td><td>5</td><td>0.024386927</td><td>Model1</td></tr>\n",
       "\t<tr><td>3</td><td>accuracy</td><td>binary</td><td>0.7873333</td><td>5</td><td>0.018867962</td><td>Model2</td></tr>\n",
       "\t<tr><td>5</td><td>accuracy</td><td>binary</td><td>0.8610000</td><td>5</td><td>0.008573214</td><td>Model3</td></tr>\n",
       "\t<tr><td>⋮</td><td>⋮</td><td>⋮</td><td>⋮</td><td>⋮</td><td>⋮</td><td>⋮</td></tr>\n",
       "\t<tr><td>10</td><td>accuracy</td><td>binary</td><td>0.861</td><td>5</td><td>0.008573214</td><td>Model7</td></tr>\n",
       "\t<tr><td>12</td><td>accuracy</td><td>binary</td><td>0.861</td><td>5</td><td>0.008573214</td><td>Model8</td></tr>\n",
       "\t<tr><td>14</td><td>accuracy</td><td>binary</td><td>0.861</td><td>5</td><td>0.008573214</td><td>Model9</td></tr>\n",
       "</tbody>\n",
       "</table>\n"
      ],
      "text/latex": [
       "A tibble: 9 × 7\n",
       "\\begin{tabular}{lllllll}\n",
       " neighbors & .metric & .estimator & mean & n & std\\_err & .config\\\\\n",
       " <int> & <chr> & <chr> & <dbl> & <int> & <dbl> & <chr>\\\\\n",
       "\\hline\n",
       "\t 1 & accuracy & binary & 0.7866667 & 5 & 0.024386927 & Model1\\\\\n",
       "\t 3 & accuracy & binary & 0.7873333 & 5 & 0.018867962 & Model2\\\\\n",
       "\t 5 & accuracy & binary & 0.8610000 & 5 & 0.008573214 & Model3\\\\\n",
       "\t ⋮ & ⋮ & ⋮ & ⋮ & ⋮ & ⋮ & ⋮\\\\\n",
       "\t 10 & accuracy & binary & 0.861 & 5 & 0.008573214 & Model7\\\\\n",
       "\t 12 & accuracy & binary & 0.861 & 5 & 0.008573214 & Model8\\\\\n",
       "\t 14 & accuracy & binary & 0.861 & 5 & 0.008573214 & Model9\\\\\n",
       "\\end{tabular}\n"
      ],
      "text/markdown": [
       "\n",
       "A tibble: 9 × 7\n",
       "\n",
       "| neighbors &lt;int&gt; | .metric &lt;chr&gt; | .estimator &lt;chr&gt; | mean &lt;dbl&gt; | n &lt;int&gt; | std_err &lt;dbl&gt; | .config &lt;chr&gt; |\n",
       "|---|---|---|---|---|---|---|\n",
       "| 1 | accuracy | binary | 0.7866667 | 5 | 0.024386927 | Model1 |\n",
       "| 3 | accuracy | binary | 0.7873333 | 5 | 0.018867962 | Model2 |\n",
       "| 5 | accuracy | binary | 0.8610000 | 5 | 0.008573214 | Model3 |\n",
       "| ⋮ | ⋮ | ⋮ | ⋮ | ⋮ | ⋮ | ⋮ |\n",
       "| 10 | accuracy | binary | 0.861 | 5 | 0.008573214 | Model7 |\n",
       "| 12 | accuracy | binary | 0.861 | 5 | 0.008573214 | Model8 |\n",
       "| 14 | accuracy | binary | 0.861 | 5 | 0.008573214 | Model9 |\n",
       "\n"
      ],
      "text/plain": [
       "  neighbors .metric  .estimator mean      n std_err     .config\n",
       "1 1         accuracy binary     0.7866667 5 0.024386927 Model1 \n",
       "2 3         accuracy binary     0.7873333 5 0.018867962 Model2 \n",
       "3 5         accuracy binary     0.8610000 5 0.008573214 Model3 \n",
       "⋮ ⋮         ⋮        ⋮          ⋮         ⋮ ⋮           ⋮      \n",
       "7 10        accuracy binary     0.861     5 0.008573214 Model7 \n",
       "8 12        accuracy binary     0.861     5 0.008573214 Model8 \n",
       "9 14        accuracy binary     0.861     5 0.008573214 Model9 "
      ]
     },
     "metadata": {},
     "output_type": "display_data"
    }
   ],
   "source": [
    "dominant_accuracies"
   ]
  },
  {
   "cell_type": "markdown",
   "metadata": {},
   "source": [
    "<b>Table 2.5:</b> Table of accuracies of 10 different values of k for the dominant hand classification model."
   ]
  },
  {
   "cell_type": "code",
   "execution_count": 19,
   "metadata": {},
   "outputs": [],
   "source": [
    "set.seed(1234) # DO NOT REMOVE\n",
    "# plotting accuracies vs value of k for backhand and dominant hand\n",
    "back_accuracy_vs_k <-ggplot(back_accuracies,aes(x = neighbors, y = mean)) +\n",
    "  geom_point()+\n",
    "  geom_line()+\n",
    "  labs(x = \"Neighbors\", y = \"Accuracy Estimate\") +\n",
    "  ggtitle(\"Backhand Accuracy\") +\n",
    "  scale_x_continuous(breaks = seq(1, 14, by = 1))\n",
    "\n",
    "dominant_accuracy_vs_k <-ggplot(dominant_accuracies,aes(x = neighbors, y = mean)) +\n",
    "  geom_point()+\n",
    "  geom_line()+\n",
    "  labs(x = \"Neighbors\", y = \"Accuracy Estimate\") +\n",
    "  ggtitle(\"Hand Accuracy\") +\n",
    "  scale_x_continuous(breaks = seq(1, 14, by = 1))"
   ]
  },
  {
   "cell_type": "code",
   "execution_count": 20,
   "metadata": {},
   "outputs": [
    {
     "data": {
      "image/png": "[encoded data removed]",
      "text/plain": [
       "plot without title"
      ]
     },
     "metadata": {
      "image/png": {
       "height": 420,
       "width": 420
      }
     },
     "output_type": "display_data"
    }
   ],
   "source": [
    "back_accuracy_vs_k"
   ]
  },
  {
   "cell_type": "markdown",
   "metadata": {},
   "source": [
    "<b>Figure 2.0:</b> Plot of the accuracy vs number of neighbors for the backhand model."
   ]
  },
  {
   "cell_type": "code",
   "execution_count": 21,
   "metadata": {},
   "outputs": [
    {
     "data": {
      "image/png": "[encoded data removed]",
      "text/plain": [
       "plot without title"
      ]
     },
     "metadata": {
      "image/png": {
       "height": 420,
       "width": 420
      }
     },
     "output_type": "display_data"
    }
   ],
   "source": [
    "dominant_accuracy_vs_k"
   ]
  },
  {
   "cell_type": "markdown",
   "metadata": {},
   "source": [
    "<b>Figure 2.1:</b> Plot of the accuracy vs number of neighbors for the dominant hand model."
   ]
  },
  {
   "cell_type": "code",
   "execution_count": 22,
   "metadata": {},
   "outputs": [],
   "source": [
    "set.seed(1234) # DO NOT REMOVE\n",
    "# Chose k = 12 for backhand, k = 5 for dominant hand\n",
    "back_best_k <- nearest_neighbor(weight_func = \"rectangular\", neighbors = 12) %>%\n",
    "    set_engine(\"kknn\") %>%\n",
    "    set_mode(\"classification\")\n",
    "\n",
    "dominant_best_k <- nearest_neighbor(weight_func = \"rectangular\", neighbors = 5) %>%\n",
    "    set_engine(\"kknn\") %>%\n",
    "    set_mode(\"classification\")\n",
    "\n",
    "back_fit <- workflow() %>%\n",
    "    add_recipe(back_recipe) %>%\n",
    "    add_model(back_best_k) %>%\n",
    "    fit(data = back_training)\n",
    "\n",
    "dominant_fit <- workflow() %>%\n",
    "    add_recipe(dominant_recipe) %>%\n",
    "    add_model(dominant_best_k) %>%\n",
    "    fit(data = dominant_training)"
   ]
  },
  {
   "cell_type": "code",
   "execution_count": 23,
   "metadata": {},
   "outputs": [],
   "source": [
    "set.seed(1234) # DO NOT REMOVE\n",
    "# Making predictions using the classification model on the testing dataset\n",
    "back_predictions <- back_fit %>%\n",
    "    predict(back_testing) %>%\n",
    "    bind_cols(back_testing) \n",
    "\n",
    "back_accuracy <- back_predictions %>%\n",
    "    metrics(truth = Backhand, estimate = .pred_class)\n",
    "\n",
    "dominant_predictions <- dominant_fit %>%\n",
    "    predict(dominant_testing) %>%\n",
    "    bind_cols(dominant_testing)\n",
    "\n",
    "dominant_accuracy <- dominant_predictions %>%\n",
    "    metrics(truth = Dominant.Hand, estimate = .pred_class)"
   ]
  },
  {
   "cell_type": "code",
   "execution_count": 24,
   "metadata": {},
   "outputs": [
    {
     "data": {
      "text/html": [
       "<table>\n",
       "<caption>A tibble: 40 × 5</caption>\n",
       "<thead>\n",
       "\t<tr><th scope=col>.pred_class</th><th scope=col>Backhand</th><th scope=col>Dominant.Hand</th><th scope=col>Current.Elo.Rank</th><th scope=col>Year.Experience</th></tr>\n",
       "\t<tr><th scope=col>&lt;fct&gt;</th><th scope=col>&lt;fct&gt;</th><th scope=col>&lt;fct&gt;</th><th scope=col>&lt;int&gt;</th><th scope=col>&lt;dbl&gt;</th></tr>\n",
       "</thead>\n",
       "<tbody>\n",
       "\t<tr><td>Two-handed</td><td>Two-handed</td><td>Right-handed</td><td>33</td><td>5</td></tr>\n",
       "\t<tr><td>Two-handed</td><td>Two-handed</td><td>Right-handed</td><td>51</td><td>3</td></tr>\n",
       "\t<tr><td>Two-handed</td><td>Two-handed</td><td>Right-handed</td><td> 5</td><td>6</td></tr>\n",
       "\t<tr><td>⋮</td><td>⋮</td><td>⋮</td><td>⋮</td><td>⋮</td></tr>\n",
       "\t<tr><td>Two-handed</td><td>Two-handed</td><td>Right-handed</td><td>28</td><td>13</td></tr>\n",
       "\t<tr><td>Two-handed</td><td>Two-handed</td><td>Right-handed</td><td>89</td><td>14</td></tr>\n",
       "\t<tr><td>Two-handed</td><td>Two-handed</td><td>Right-handed</td><td>63</td><td>18</td></tr>\n",
       "</tbody>\n",
       "</table>\n"
      ],
      "text/latex": [
       "A tibble: 40 × 5\n",
       "\\begin{tabular}{lllll}\n",
       " .pred\\_class & Backhand & Dominant.Hand & Current.Elo.Rank & Year.Experience\\\\\n",
       " <fct> & <fct> & <fct> & <int> & <dbl>\\\\\n",
       "\\hline\n",
       "\t Two-handed & Two-handed & Right-handed & 33 & 5\\\\\n",
       "\t Two-handed & Two-handed & Right-handed & 51 & 3\\\\\n",
       "\t Two-handed & Two-handed & Right-handed &  5 & 6\\\\\n",
       "\t ⋮ & ⋮ & ⋮ & ⋮ & ⋮\\\\\n",
       "\t Two-handed & Two-handed & Right-handed & 28 & 13\\\\\n",
       "\t Two-handed & Two-handed & Right-handed & 89 & 14\\\\\n",
       "\t Two-handed & Two-handed & Right-handed & 63 & 18\\\\\n",
       "\\end{tabular}\n"
      ],
      "text/markdown": [
       "\n",
       "A tibble: 40 × 5\n",
       "\n",
       "| .pred_class &lt;fct&gt; | Backhand &lt;fct&gt; | Dominant.Hand &lt;fct&gt; | Current.Elo.Rank &lt;int&gt; | Year.Experience &lt;dbl&gt; |\n",
       "|---|---|---|---|---|\n",
       "| Two-handed | Two-handed | Right-handed | 33 | 5 |\n",
       "| Two-handed | Two-handed | Right-handed | 51 | 3 |\n",
       "| Two-handed | Two-handed | Right-handed |  5 | 6 |\n",
       "| ⋮ | ⋮ | ⋮ | ⋮ | ⋮ |\n",
       "| Two-handed | Two-handed | Right-handed | 28 | 13 |\n",
       "| Two-handed | Two-handed | Right-handed | 89 | 14 |\n",
       "| Two-handed | Two-handed | Right-handed | 63 | 18 |\n",
       "\n"
      ],
      "text/plain": [
       "   .pred_class Backhand   Dominant.Hand Current.Elo.Rank Year.Experience\n",
       "1  Two-handed  Two-handed Right-handed  33               5              \n",
       "2  Two-handed  Two-handed Right-handed  51               3              \n",
       "3  Two-handed  Two-handed Right-handed   5               6              \n",
       "⋮  ⋮           ⋮          ⋮             ⋮                ⋮              \n",
       "38 Two-handed  Two-handed Right-handed  28               13             \n",
       "39 Two-handed  Two-handed Right-handed  89               14             \n",
       "40 Two-handed  Two-handed Right-handed  63               18             "
      ]
     },
     "metadata": {},
     "output_type": "display_data"
    }
   ],
   "source": [
    "back_predictions"
   ]
  },
  {
   "cell_type": "markdown",
   "metadata": {},
   "source": [
    "<b>Table 3.0:</b> Testing dataset with the prediction of the type of backhand made by the classification model."
   ]
  },
  {
   "cell_type": "code",
   "execution_count": 25,
   "metadata": {},
   "outputs": [
    {
     "data": {
      "text/html": [
       "<table>\n",
       "<caption>A tibble: 39 × 5</caption>\n",
       "<thead>\n",
       "\t<tr><th scope=col>.pred_class</th><th scope=col>Backhand</th><th scope=col>Dominant.Hand</th><th scope=col>Current.Elo.Rank</th><th scope=col>Year.Experience</th></tr>\n",
       "\t<tr><th scope=col>&lt;fct&gt;</th><th scope=col>&lt;fct&gt;</th><th scope=col>&lt;fct&gt;</th><th scope=col>&lt;int&gt;</th><th scope=col>&lt;dbl&gt;</th></tr>\n",
       "</thead>\n",
       "<tbody>\n",
       "\t<tr><td>Right-handed</td><td>Two-handed</td><td>Right-handed</td><td>33</td><td> 5</td></tr>\n",
       "\t<tr><td>Right-handed</td><td>Two-handed</td><td>Right-handed</td><td>56</td><td> 5</td></tr>\n",
       "\t<tr><td>Right-handed</td><td>Two-handed</td><td>Right-handed</td><td>31</td><td>14</td></tr>\n",
       "\t<tr><td>⋮</td><td>⋮</td><td>⋮</td><td>⋮</td><td>⋮</td></tr>\n",
       "\t<tr><td>Right-handed</td><td>Two-handed</td><td>Right-handed</td><td> 95</td><td> 7</td></tr>\n",
       "\t<tr><td>Right-handed</td><td>Two-handed</td><td>Right-handed</td><td> 70</td><td> 5</td></tr>\n",
       "\t<tr><td>Right-handed</td><td>Two-handed</td><td>Right-handed</td><td>143</td><td>12</td></tr>\n",
       "</tbody>\n",
       "</table>\n"
      ],
      "text/latex": [
       "A tibble: 39 × 5\n",
       "\\begin{tabular}{lllll}\n",
       " .pred\\_class & Backhand & Dominant.Hand & Current.Elo.Rank & Year.Experience\\\\\n",
       " <fct> & <fct> & <fct> & <int> & <dbl>\\\\\n",
       "\\hline\n",
       "\t Right-handed & Two-handed & Right-handed & 33 &  5\\\\\n",
       "\t Right-handed & Two-handed & Right-handed & 56 &  5\\\\\n",
       "\t Right-handed & Two-handed & Right-handed & 31 & 14\\\\\n",
       "\t ⋮ & ⋮ & ⋮ & ⋮ & ⋮\\\\\n",
       "\t Right-handed & Two-handed & Right-handed &  95 &  7\\\\\n",
       "\t Right-handed & Two-handed & Right-handed &  70 &  5\\\\\n",
       "\t Right-handed & Two-handed & Right-handed & 143 & 12\\\\\n",
       "\\end{tabular}\n"
      ],
      "text/markdown": [
       "\n",
       "A tibble: 39 × 5\n",
       "\n",
       "| .pred_class &lt;fct&gt; | Backhand &lt;fct&gt; | Dominant.Hand &lt;fct&gt; | Current.Elo.Rank &lt;int&gt; | Year.Experience &lt;dbl&gt; |\n",
       "|---|---|---|---|---|\n",
       "| Right-handed | Two-handed | Right-handed | 33 |  5 |\n",
       "| Right-handed | Two-handed | Right-handed | 56 |  5 |\n",
       "| Right-handed | Two-handed | Right-handed | 31 | 14 |\n",
       "| ⋮ | ⋮ | ⋮ | ⋮ | ⋮ |\n",
       "| Right-handed | Two-handed | Right-handed |  95 |  7 |\n",
       "| Right-handed | Two-handed | Right-handed |  70 |  5 |\n",
       "| Right-handed | Two-handed | Right-handed | 143 | 12 |\n",
       "\n"
      ],
      "text/plain": [
       "   .pred_class  Backhand   Dominant.Hand Current.Elo.Rank Year.Experience\n",
       "1  Right-handed Two-handed Right-handed  33                5             \n",
       "2  Right-handed Two-handed Right-handed  56                5             \n",
       "3  Right-handed Two-handed Right-handed  31               14             \n",
       "⋮  ⋮            ⋮          ⋮             ⋮                ⋮              \n",
       "37 Right-handed Two-handed Right-handed   95               7             \n",
       "38 Right-handed Two-handed Right-handed   70               5             \n",
       "39 Right-handed Two-handed Right-handed  143              12             "
      ]
     },
     "metadata": {},
     "output_type": "display_data"
    }
   ],
   "source": [
    "dominant_predictions"
   ]
  },
  {
   "cell_type": "markdown",
   "metadata": {},
   "source": [
    "<b>Table 3.1:</b> Testing dataset with the prediction of the player's dominant hand made by the classification model"
   ]
  },
  {
   "cell_type": "code",
   "execution_count": 26,
   "metadata": {},
   "outputs": [],
   "source": [
    "set.seed(1234) # DO NOT REMOVE\n",
    "# Calculating the accuracy of the predictions the classification model made\n",
    "back_accuracy <- back_predictions %>%\n",
    "    metrics(truth = Backhand, estimate = .pred_class) %>%\n",
    "    filter(.metric == \"accuracy\") %>%\n",
    "    select(.estimate) %>%\n",
    "    pull()\n",
    "\n",
    "dominant_accuracy <- dominant_predictions %>%\n",
    "    metrics(truth = Dominant.Hand, estimate = .pred_class) %>%\n",
    "    filter(.metric == \"accuracy\") %>%\n",
    "    select(.estimate) %>%\n",
    "    pull()"
   ]
  },
  {
   "cell_type": "code",
   "execution_count": 27,
   "metadata": {},
   "outputs": [
    {
     "name": "stdout",
     "output_type": "stream",
     "text": [
      "[1] \"Accuracy of the backhand classification model:  0.875\"\n",
      "[1] \"Accuracy of the dominant hand classification model:  0.871794871794872\"\n"
     ]
    }
   ],
   "source": [
    "print(paste(\"Accuracy of the backhand classification model: \", back_accuracy))\n",
    "print(paste(\"Accuracy of the dominant hand classification model: \", dominant_accuracy))"
   ]
  }
 ],
 "metadata": {
  "kernelspec": {
   "display_name": "R",
   "language": "R",
   "name": "ir"
  },
  "language_info": {
   "codemirror_mode": "r",
   "file_extension": ".r",
   "mimetype": "text/x-r-source",
   "name": "R",
   "pygments_lexer": "r",
   "version": "4.0.0"
  }
 },
 "nbformat": 4,
 "nbformat_minor": 4
}
