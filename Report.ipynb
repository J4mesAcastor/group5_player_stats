{
 "cells": [
  {
   "cell_type": "code",
   "execution_count": 1,
   "metadata": {},
   "outputs": [
    {
     "name": "stderr",
     "output_type": "stream",
     "text": [
      "── \u001b[1mAttaching packages\u001b[22m ─────────────────────────────────────── tidyverse 1.3.0 ──\n",
      "\n",
      "\u001b[32m✔\u001b[39m \u001b[34mggplot2\u001b[39m 3.3.2     \u001b[32m✔\u001b[39m \u001b[34mpurrr  \u001b[39m 0.3.4\n",
      "\u001b[32m✔\u001b[39m \u001b[34mtibble \u001b[39m 3.0.3     \u001b[32m✔\u001b[39m \u001b[34mdplyr  \u001b[39m 1.0.2\n",
      "\u001b[32m✔\u001b[39m \u001b[34mtidyr  \u001b[39m 1.1.2     \u001b[32m✔\u001b[39m \u001b[34mstringr\u001b[39m 1.4.0\n",
      "\u001b[32m✔\u001b[39m \u001b[34mreadr  \u001b[39m 1.3.1     \u001b[32m✔\u001b[39m \u001b[34mforcats\u001b[39m 0.5.0\n",
      "\n",
      "Warning message:\n",
      "“package ‘ggplot2’ was built under R version 4.0.1”\n",
      "Warning message:\n",
      "“package ‘tibble’ was built under R version 4.0.2”\n",
      "Warning message:\n",
      "“package ‘tidyr’ was built under R version 4.0.2”\n",
      "Warning message:\n",
      "“package ‘dplyr’ was built under R version 4.0.2”\n",
      "── \u001b[1mConflicts\u001b[22m ────────────────────────────────────────── tidyverse_conflicts() ──\n",
      "\u001b[31m✖\u001b[39m \u001b[34mdplyr\u001b[39m::\u001b[32mfilter()\u001b[39m masks \u001b[34mstats\u001b[39m::filter()\n",
      "\u001b[31m✖\u001b[39m \u001b[34mdplyr\u001b[39m::\u001b[32mlag()\u001b[39m    masks \u001b[34mstats\u001b[39m::lag()\n",
      "\n",
      "Warning message:\n",
      "“package ‘tidymodels’ was built under R version 4.0.2”\n",
      "── \u001b[1mAttaching packages\u001b[22m ────────────────────────────────────── tidymodels 0.1.1 ──\n",
      "\n",
      "\u001b[32m✔\u001b[39m \u001b[34mbroom    \u001b[39m 0.7.0      \u001b[32m✔\u001b[39m \u001b[34mrecipes  \u001b[39m 0.1.13\n",
      "\u001b[32m✔\u001b[39m \u001b[34mdials    \u001b[39m 0.0.9      \u001b[32m✔\u001b[39m \u001b[34mrsample  \u001b[39m 0.0.7 \n",
      "\u001b[32m✔\u001b[39m \u001b[34minfer    \u001b[39m 0.5.4      \u001b[32m✔\u001b[39m \u001b[34mtune     \u001b[39m 0.1.1 \n",
      "\u001b[32m✔\u001b[39m \u001b[34mmodeldata\u001b[39m 0.0.2      \u001b[32m✔\u001b[39m \u001b[34mworkflows\u001b[39m 0.2.0 \n",
      "\u001b[32m✔\u001b[39m \u001b[34mparsnip  \u001b[39m 0.1.3      \u001b[32m✔\u001b[39m \u001b[34myardstick\u001b[39m 0.0.7 \n",
      "\n",
      "Warning message:\n",
      "“package ‘broom’ was built under R version 4.0.2”\n",
      "Warning message:\n",
      "“package ‘dials’ was built under R version 4.0.2”\n",
      "Warning message:\n",
      "“package ‘infer’ was built under R version 4.0.3”\n",
      "Warning message:\n",
      "“package ‘modeldata’ was built under R version 4.0.1”\n",
      "Warning message:\n",
      "“package ‘parsnip’ was built under R version 4.0.2”\n",
      "Warning message:\n",
      "“package ‘recipes’ was built under R version 4.0.1”\n",
      "Warning message:\n",
      "“package ‘tune’ was built under R version 4.0.2”\n",
      "Warning message:\n",
      "“package ‘workflows’ was built under R version 4.0.2”\n",
      "Warning message:\n",
      "“package ‘yardstick’ was built under R version 4.0.2”\n",
      "── \u001b[1mConflicts\u001b[22m ───────────────────────────────────────── tidymodels_conflicts() ──\n",
      "\u001b[31m✖\u001b[39m \u001b[34mscales\u001b[39m::\u001b[32mdiscard()\u001b[39m masks \u001b[34mpurrr\u001b[39m::discard()\n",
      "\u001b[31m✖\u001b[39m \u001b[34mdplyr\u001b[39m::\u001b[32mfilter()\u001b[39m   masks \u001b[34mstats\u001b[39m::filter()\n",
      "\u001b[31m✖\u001b[39m \u001b[34mrecipes\u001b[39m::\u001b[32mfixed()\u001b[39m  masks \u001b[34mstringr\u001b[39m::fixed()\n",
      "\u001b[31m✖\u001b[39m \u001b[34mdplyr\u001b[39m::\u001b[32mlag()\u001b[39m      masks \u001b[34mstats\u001b[39m::lag()\n",
      "\u001b[31m✖\u001b[39m \u001b[34myardstick\u001b[39m::\u001b[32mspec()\u001b[39m masks \u001b[34mreadr\u001b[39m::spec()\n",
      "\u001b[31m✖\u001b[39m \u001b[34mrecipes\u001b[39m::\u001b[32mstep()\u001b[39m   masks \u001b[34mstats\u001b[39m::step()\n",
      "\n"
     ]
    }
   ],
   "source": [
    "# Loading Libraries, Remember to run this cell!\n",
    "library(tidyverse)\n",
    "library(repr)\n",
    "library(tidymodels)\n",
    "\n",
    "options(repr.matrix.max.rows = 6)"
   ]
  },
  {
   "cell_type": "code",
   "execution_count": 2,
   "metadata": {},
   "outputs": [
    {
     "name": "stderr",
     "output_type": "stream",
     "text": [
      "Warning message:\n",
      "“Missing column names filled in: 'X1' [1]”\n",
      "Parsed with column specification:\n",
      "cols(\n",
      "  .default = col_character(),\n",
      "  X1 = \u001b[32mcol_double()\u001b[39m,\n",
      "  `Turned Pro` = \u001b[32mcol_double()\u001b[39m,\n",
      "  Seasons = \u001b[32mcol_double()\u001b[39m,\n",
      "  Titles = \u001b[32mcol_double()\u001b[39m,\n",
      "  `Best Season` = \u001b[32mcol_double()\u001b[39m,\n",
      "  Retired = \u001b[32mcol_double()\u001b[39m,\n",
      "  Masters = \u001b[32mcol_double()\u001b[39m,\n",
      "  `Grand Slams` = \u001b[32mcol_double()\u001b[39m,\n",
      "  `Davis Cups` = \u001b[32mcol_double()\u001b[39m,\n",
      "  `Team Cups` = \u001b[32mcol_double()\u001b[39m,\n",
      "  Olympics = \u001b[32mcol_double()\u001b[39m,\n",
      "  `Weeks at No. 1` = \u001b[32mcol_double()\u001b[39m,\n",
      "  `Tour Finals` = \u001b[32mcol_double()\u001b[39m\n",
      ")\n",
      "\n",
      "See spec(...) for full column specifications.\n",
      "\n"
     ]
    },
    {
     "data": {
      "text/html": [
       "<table>\n",
       "<caption>A spec_tbl_df: 500 × 38</caption>\n",
       "<thead>\n",
       "\t<tr><th scope=col>X1</th><th scope=col>Age</th><th scope=col>Country</th><th scope=col>Plays</th><th scope=col>Wikipedia</th><th scope=col>Current.Rank</th><th scope=col>Best.Rank</th><th scope=col>Name</th><th scope=col>Backhand</th><th scope=col>Prize.Money</th><th scope=col>⋯</th><th scope=col>Facebook</th><th scope=col>Twitter</th><th scope=col>Nicknames</th><th scope=col>Grand.Slams</th><th scope=col>Davis.Cups</th><th scope=col>Web.Site</th><th scope=col>Team.Cups</th><th scope=col>Olympics</th><th scope=col>Weeks.at.No..1</th><th scope=col>Tour.Finals</th></tr>\n",
       "\t<tr><th scope=col>&lt;dbl&gt;</th><th scope=col>&lt;chr&gt;</th><th scope=col>&lt;chr&gt;</th><th scope=col>&lt;chr&gt;</th><th scope=col>&lt;chr&gt;</th><th scope=col>&lt;chr&gt;</th><th scope=col>&lt;chr&gt;</th><th scope=col>&lt;chr&gt;</th><th scope=col>&lt;chr&gt;</th><th scope=col>&lt;chr&gt;</th><th scope=col>⋯</th><th scope=col>&lt;chr&gt;</th><th scope=col>&lt;chr&gt;</th><th scope=col>&lt;chr&gt;</th><th scope=col>&lt;dbl&gt;</th><th scope=col>&lt;dbl&gt;</th><th scope=col>&lt;chr&gt;</th><th scope=col>&lt;dbl&gt;</th><th scope=col>&lt;dbl&gt;</th><th scope=col>&lt;dbl&gt;</th><th scope=col>&lt;dbl&gt;</th></tr>\n",
       "</thead>\n",
       "<tbody>\n",
       "\t<tr><td>0</td><td>26 (25-04-1993)</td><td>Brazil        </td><td>Right-handed</td><td>Wikipedia</td><td>378 (97) </td><td>363 (04-11-2019)</td><td>Oscar Jose Gutierrez</td><td>NA        </td><td>NA          </td><td>⋯</td><td>NA</td><td>NA</td><td>NA</td><td>NA</td><td>NA</td><td>NA</td><td>NA</td><td>NA</td><td>NA</td><td>NA</td></tr>\n",
       "\t<tr><td>1</td><td>18 (22-12-2001)</td><td>United Kingdom</td><td>Left-handed </td><td>Wikipedia</td><td>326 (119)</td><td>316 (14-10-2019)</td><td>Jack Draper         </td><td>Two-handed</td><td>$59,040     </td><td>⋯</td><td>NA</td><td>NA</td><td>NA</td><td>NA</td><td>NA</td><td>NA</td><td>NA</td><td>NA</td><td>NA</td><td>NA</td></tr>\n",
       "\t<tr><td>2</td><td>32 (03-11-1987)</td><td>Slovakia      </td><td>Right-handed</td><td>Wikipedia</td><td>178 (280)</td><td>44 (14-01-2013) </td><td>Lukas Lacko         </td><td>Two-handed</td><td>US$3,261,567</td><td>⋯</td><td>NA</td><td>NA</td><td>NA</td><td>NA</td><td>NA</td><td>NA</td><td>NA</td><td>NA</td><td>NA</td><td>NA</td></tr>\n",
       "\t<tr><td>⋮</td><td>⋮</td><td>⋮</td><td>⋮</td><td>⋮</td><td>⋮</td><td>⋮</td><td>⋮</td><td>⋮</td><td>⋮</td><td>⋱</td><td>⋮</td><td>⋮</td><td>⋮</td><td>⋮</td><td>⋮</td><td>⋮</td><td>⋮</td><td>⋮</td><td>⋮</td><td>⋮</td></tr>\n",
       "\t<tr><td>497</td><td>23 (14-03-1996)</td><td>Netherlands</td><td>Left-handed</td><td>Wikipedia</td><td>495 (60)</td><td>342 (05-08-2019)</td><td>Gijs Brouwer   </td><td>NA        </td><td>NA     </td><td>⋯</td><td>NA</td><td>NA</td><td>NA</td><td>NA</td><td>NA</td><td>NA</td><td>NA</td><td>NA</td><td>NA</td><td>NA</td></tr>\n",
       "\t<tr><td>498</td><td>24 (17-05-1995)</td><td>Ukraine    </td><td>NA         </td><td>Wikipedia</td><td>419 (81)</td><td>419 (20-01-2020)</td><td>Vladyslav Orlov</td><td>NA        </td><td>NA     </td><td>⋯</td><td>NA</td><td>NA</td><td>NA</td><td>NA</td><td>NA</td><td>NA</td><td>NA</td><td>NA</td><td>NA</td><td>NA</td></tr>\n",
       "\t<tr><td>499</td><td>22 (26-03-1997)</td><td>Tunisia    </td><td>Left-handed</td><td>Wikipedia</td><td>451 (69)</td><td>408 (24-12-2018)</td><td>Aziz Dougaz    </td><td>Two-handed</td><td>$61,984</td><td>⋯</td><td>NA</td><td>NA</td><td>NA</td><td>NA</td><td>NA</td><td>NA</td><td>NA</td><td>NA</td><td>NA</td><td>NA</td></tr>\n",
       "</tbody>\n",
       "</table>\n"
      ],
      "text/latex": [
       "A spec\\_tbl\\_df: 500 × 38\n",
       "\\begin{tabular}{lllllllllllllllllllll}\n",
       " X1 & Age & Country & Plays & Wikipedia & Current.Rank & Best.Rank & Name & Backhand & Prize.Money & ⋯ & Facebook & Twitter & Nicknames & Grand.Slams & Davis.Cups & Web.Site & Team.Cups & Olympics & Weeks.at.No..1 & Tour.Finals\\\\\n",
       " <dbl> & <chr> & <chr> & <chr> & <chr> & <chr> & <chr> & <chr> & <chr> & <chr> & ⋯ & <chr> & <chr> & <chr> & <dbl> & <dbl> & <chr> & <dbl> & <dbl> & <dbl> & <dbl>\\\\\n",
       "\\hline\n",
       "\t 0 & 26 (25-04-1993) & Brazil         & Right-handed & Wikipedia & 378 (97)  & 363 (04-11-2019) & Oscar Jose Gutierrez & NA         & NA           & ⋯ & NA & NA & NA & NA & NA & NA & NA & NA & NA & NA\\\\\n",
       "\t 1 & 18 (22-12-2001) & United Kingdom & Left-handed  & Wikipedia & 326 (119) & 316 (14-10-2019) & Jack Draper          & Two-handed & \\$59,040      & ⋯ & NA & NA & NA & NA & NA & NA & NA & NA & NA & NA\\\\\n",
       "\t 2 & 32 (03-11-1987) & Slovakia       & Right-handed & Wikipedia & 178 (280) & 44 (14-01-2013)  & Lukas Lacko          & Two-handed & US\\$3,261,567 & ⋯ & NA & NA & NA & NA & NA & NA & NA & NA & NA & NA\\\\\n",
       "\t ⋮ & ⋮ & ⋮ & ⋮ & ⋮ & ⋮ & ⋮ & ⋮ & ⋮ & ⋮ & ⋱ & ⋮ & ⋮ & ⋮ & ⋮ & ⋮ & ⋮ & ⋮ & ⋮ & ⋮ & ⋮\\\\\n",
       "\t 497 & 23 (14-03-1996) & Netherlands & Left-handed & Wikipedia & 495 (60) & 342 (05-08-2019) & Gijs Brouwer    & NA         & NA      & ⋯ & NA & NA & NA & NA & NA & NA & NA & NA & NA & NA\\\\\n",
       "\t 498 & 24 (17-05-1995) & Ukraine     & NA          & Wikipedia & 419 (81) & 419 (20-01-2020) & Vladyslav Orlov & NA         & NA      & ⋯ & NA & NA & NA & NA & NA & NA & NA & NA & NA & NA\\\\\n",
       "\t 499 & 22 (26-03-1997) & Tunisia     & Left-handed & Wikipedia & 451 (69) & 408 (24-12-2018) & Aziz Dougaz     & Two-handed & \\$61,984 & ⋯ & NA & NA & NA & NA & NA & NA & NA & NA & NA & NA\\\\\n",
       "\\end{tabular}\n"
      ],
      "text/markdown": [
       "\n",
       "A spec_tbl_df: 500 × 38\n",
       "\n",
       "| X1 &lt;dbl&gt; | Age &lt;chr&gt; | Country &lt;chr&gt; | Plays &lt;chr&gt; | Wikipedia &lt;chr&gt; | Current.Rank &lt;chr&gt; | Best.Rank &lt;chr&gt; | Name &lt;chr&gt; | Backhand &lt;chr&gt; | Prize.Money &lt;chr&gt; | ⋯ ⋯ | Facebook &lt;chr&gt; | Twitter &lt;chr&gt; | Nicknames &lt;chr&gt; | Grand.Slams &lt;dbl&gt; | Davis.Cups &lt;dbl&gt; | Web.Site &lt;chr&gt; | Team.Cups &lt;dbl&gt; | Olympics &lt;dbl&gt; | Weeks.at.No..1 &lt;dbl&gt; | Tour.Finals &lt;dbl&gt; |\n",
       "|---|---|---|---|---|---|---|---|---|---|---|---|---|---|---|---|---|---|---|---|---|\n",
       "| 0 | 26 (25-04-1993) | Brazil         | Right-handed | Wikipedia | 378 (97)  | 363 (04-11-2019) | Oscar Jose Gutierrez | NA         | NA           | ⋯ | NA | NA | NA | NA | NA | NA | NA | NA | NA | NA |\n",
       "| 1 | 18 (22-12-2001) | United Kingdom | Left-handed  | Wikipedia | 326 (119) | 316 (14-10-2019) | Jack Draper          | Two-handed | $59,040      | ⋯ | NA | NA | NA | NA | NA | NA | NA | NA | NA | NA |\n",
       "| 2 | 32 (03-11-1987) | Slovakia       | Right-handed | Wikipedia | 178 (280) | 44 (14-01-2013)  | Lukas Lacko          | Two-handed | US$3,261,567 | ⋯ | NA | NA | NA | NA | NA | NA | NA | NA | NA | NA |\n",
       "| ⋮ | ⋮ | ⋮ | ⋮ | ⋮ | ⋮ | ⋮ | ⋮ | ⋮ | ⋮ | ⋱ | ⋮ | ⋮ | ⋮ | ⋮ | ⋮ | ⋮ | ⋮ | ⋮ | ⋮ | ⋮ |\n",
       "| 497 | 23 (14-03-1996) | Netherlands | Left-handed | Wikipedia | 495 (60) | 342 (05-08-2019) | Gijs Brouwer    | NA         | NA      | ⋯ | NA | NA | NA | NA | NA | NA | NA | NA | NA | NA |\n",
       "| 498 | 24 (17-05-1995) | Ukraine     | NA          | Wikipedia | 419 (81) | 419 (20-01-2020) | Vladyslav Orlov | NA         | NA      | ⋯ | NA | NA | NA | NA | NA | NA | NA | NA | NA | NA |\n",
       "| 499 | 22 (26-03-1997) | Tunisia     | Left-handed | Wikipedia | 451 (69) | 408 (24-12-2018) | Aziz Dougaz     | Two-handed | $61,984 | ⋯ | NA | NA | NA | NA | NA | NA | NA | NA | NA | NA |\n",
       "\n"
      ],
      "text/plain": [
       "    X1  Age             Country        Plays        Wikipedia Current.Rank\n",
       "1   0   26 (25-04-1993) Brazil         Right-handed Wikipedia 378 (97)    \n",
       "2   1   18 (22-12-2001) United Kingdom Left-handed  Wikipedia 326 (119)   \n",
       "3   2   32 (03-11-1987) Slovakia       Right-handed Wikipedia 178 (280)   \n",
       "⋮   ⋮   ⋮               ⋮              ⋮            ⋮         ⋮           \n",
       "498 497 23 (14-03-1996) Netherlands    Left-handed  Wikipedia 495 (60)    \n",
       "499 498 24 (17-05-1995) Ukraine        NA           Wikipedia 419 (81)    \n",
       "500 499 22 (26-03-1997) Tunisia        Left-handed  Wikipedia 451 (69)    \n",
       "    Best.Rank        Name                 Backhand   Prize.Money  ⋯ Facebook\n",
       "1   363 (04-11-2019) Oscar Jose Gutierrez NA         NA           ⋯ NA      \n",
       "2   316 (14-10-2019) Jack Draper          Two-handed $59,040      ⋯ NA      \n",
       "3   44 (14-01-2013)  Lukas Lacko          Two-handed US$3,261,567 ⋯ NA      \n",
       "⋮   ⋮                ⋮                    ⋮          ⋮            ⋱ ⋮       \n",
       "498 342 (05-08-2019) Gijs Brouwer         NA         NA           ⋯ NA      \n",
       "499 419 (20-01-2020) Vladyslav Orlov      NA         NA           ⋯ NA      \n",
       "500 408 (24-12-2018) Aziz Dougaz          Two-handed $61,984      ⋯ NA      \n",
       "    Twitter Nicknames Grand.Slams Davis.Cups Web.Site Team.Cups Olympics\n",
       "1   NA      NA        NA          NA         NA       NA        NA      \n",
       "2   NA      NA        NA          NA         NA       NA        NA      \n",
       "3   NA      NA        NA          NA         NA       NA        NA      \n",
       "⋮   ⋮       ⋮         ⋮           ⋮          ⋮        ⋮         ⋮       \n",
       "498 NA      NA        NA          NA         NA       NA        NA      \n",
       "499 NA      NA        NA          NA         NA       NA        NA      \n",
       "500 NA      NA        NA          NA         NA       NA        NA      \n",
       "    Weeks.at.No..1 Tour.Finals\n",
       "1   NA             NA         \n",
       "2   NA             NA         \n",
       "3   NA             NA         \n",
       "⋮   ⋮              ⋮          \n",
       "498 NA             NA         \n",
       "499 NA             NA         \n",
       "500 NA             NA         "
      ]
     },
     "metadata": {},
     "output_type": "display_data"
    },
    {
     "data": {
      "text/html": [
       "<table>\n",
       "<caption>A tibble: 88 × 9</caption>\n",
       "<thead>\n",
       "\t<tr><th scope=col>Age</th><th scope=col>Best.Rank</th><th scope=col>Backhand</th><th scope=col>Height</th><th scope=col>Turned.Pro</th><th scope=col>Current.Elo.Rank</th><th scope=col>Peak.Elo.Rating</th><th scope=col>Dominate.Hand</th><th scope=col>Year.Experience</th></tr>\n",
       "\t<tr><th scope=col>&lt;int&gt;</th><th scope=col>&lt;chr&gt;</th><th scope=col>&lt;fct&gt;</th><th scope=col>&lt;int&gt;</th><th scope=col>&lt;dbl&gt;</th><th scope=col>&lt;int&gt;</th><th scope=col>&lt;chr&gt;</th><th scope=col>&lt;fct&gt;</th><th scope=col>&lt;dbl&gt;</th></tr>\n",
       "</thead>\n",
       "<tbody>\n",
       "\t<tr><td>32</td><td>44 (14-01-2013)</td><td>Two-handed</td><td>185</td><td>2005</td><td>144</td><td>1886 (06-02-2012)</td><td>Right-handed</td><td>15</td></tr>\n",
       "\t<tr><td>27</td><td>17 (11-01-2016)</td><td>Two-handed</td><td>193</td><td>2008</td><td>100</td><td>2037 (01-02-2016)</td><td>Right-handed</td><td>12</td></tr>\n",
       "\t<tr><td>31</td><td>3 (13-08-2018) </td><td>Two-handed</td><td>198</td><td>2005</td><td>  4</td><td>2329 (14-09-2009)</td><td>Right-handed</td><td>15</td></tr>\n",
       "\t<tr><td>⋮</td><td>⋮</td><td>⋮</td><td>⋮</td><td>⋮</td><td>⋮</td><td>⋮</td><td>⋮</td><td>⋮</td></tr>\n",
       "\t<tr><td>29</td><td>3 (21-11-2016)</td><td>Two-handed</td><td>196</td><td>2008</td><td>21</td><td>2269 (11-07-2016)</td><td>Right-handed</td><td>12</td></tr>\n",
       "\t<tr><td>34</td><td>8 (21-08-2006)</td><td>Two-handed</td><td>183</td><td>2003</td><td>74</td><td>2098 (18-02-2008)</td><td>Right-handed</td><td>17</td></tr>\n",
       "\t<tr><td>26</td><td>4 (06-11-2017)</td><td>One-handed</td><td>185</td><td>2011</td><td> 6</td><td>2211 (18-11-2019)</td><td>Right-handed</td><td> 9</td></tr>\n",
       "</tbody>\n",
       "</table>\n"
      ],
      "text/latex": [
       "A tibble: 88 × 9\n",
       "\\begin{tabular}{lllllllll}\n",
       " Age & Best.Rank & Backhand & Height & Turned.Pro & Current.Elo.Rank & Peak.Elo.Rating & Dominate.Hand & Year.Experience\\\\\n",
       " <int> & <chr> & <fct> & <int> & <dbl> & <int> & <chr> & <fct> & <dbl>\\\\\n",
       "\\hline\n",
       "\t 32 & 44 (14-01-2013) & Two-handed & 185 & 2005 & 144 & 1886 (06-02-2012) & Right-handed & 15\\\\\n",
       "\t 27 & 17 (11-01-2016) & Two-handed & 193 & 2008 & 100 & 2037 (01-02-2016) & Right-handed & 12\\\\\n",
       "\t 31 & 3 (13-08-2018)  & Two-handed & 198 & 2005 &   4 & 2329 (14-09-2009) & Right-handed & 15\\\\\n",
       "\t ⋮ & ⋮ & ⋮ & ⋮ & ⋮ & ⋮ & ⋮ & ⋮ & ⋮\\\\\n",
       "\t 29 & 3 (21-11-2016) & Two-handed & 196 & 2008 & 21 & 2269 (11-07-2016) & Right-handed & 12\\\\\n",
       "\t 34 & 8 (21-08-2006) & Two-handed & 183 & 2003 & 74 & 2098 (18-02-2008) & Right-handed & 17\\\\\n",
       "\t 26 & 4 (06-11-2017) & One-handed & 185 & 2011 &  6 & 2211 (18-11-2019) & Right-handed &  9\\\\\n",
       "\\end{tabular}\n"
      ],
      "text/markdown": [
       "\n",
       "A tibble: 88 × 9\n",
       "\n",
       "| Age &lt;int&gt; | Best.Rank &lt;chr&gt; | Backhand &lt;fct&gt; | Height &lt;int&gt; | Turned.Pro &lt;dbl&gt; | Current.Elo.Rank &lt;int&gt; | Peak.Elo.Rating &lt;chr&gt; | Dominate.Hand &lt;fct&gt; | Year.Experience &lt;dbl&gt; |\n",
       "|---|---|---|---|---|---|---|---|---|\n",
       "| 32 | 44 (14-01-2013) | Two-handed | 185 | 2005 | 144 | 1886 (06-02-2012) | Right-handed | 15 |\n",
       "| 27 | 17 (11-01-2016) | Two-handed | 193 | 2008 | 100 | 2037 (01-02-2016) | Right-handed | 12 |\n",
       "| 31 | 3 (13-08-2018)  | Two-handed | 198 | 2005 |   4 | 2329 (14-09-2009) | Right-handed | 15 |\n",
       "| ⋮ | ⋮ | ⋮ | ⋮ | ⋮ | ⋮ | ⋮ | ⋮ | ⋮ |\n",
       "| 29 | 3 (21-11-2016) | Two-handed | 196 | 2008 | 21 | 2269 (11-07-2016) | Right-handed | 12 |\n",
       "| 34 | 8 (21-08-2006) | Two-handed | 183 | 2003 | 74 | 2098 (18-02-2008) | Right-handed | 17 |\n",
       "| 26 | 4 (06-11-2017) | One-handed | 185 | 2011 |  6 | 2211 (18-11-2019) | Right-handed |  9 |\n",
       "\n"
      ],
      "text/plain": [
       "   Age Best.Rank       Backhand   Height Turned.Pro Current.Elo.Rank\n",
       "1  32  44 (14-01-2013) Two-handed 185    2005       144             \n",
       "2  27  17 (11-01-2016) Two-handed 193    2008       100             \n",
       "3  31  3 (13-08-2018)  Two-handed 198    2005         4             \n",
       "⋮  ⋮   ⋮               ⋮          ⋮      ⋮          ⋮               \n",
       "86 29  3 (21-11-2016)  Two-handed 196    2008       21              \n",
       "87 34  8 (21-08-2006)  Two-handed 183    2003       74              \n",
       "88 26  4 (06-11-2017)  One-handed 185    2011        6              \n",
       "   Peak.Elo.Rating   Dominate.Hand Year.Experience\n",
       "1  1886 (06-02-2012) Right-handed  15             \n",
       "2  2037 (01-02-2016) Right-handed  12             \n",
       "3  2329 (14-09-2009) Right-handed  15             \n",
       "⋮  ⋮                 ⋮             ⋮              \n",
       "86 2269 (11-07-2016) Right-handed  12             \n",
       "87 2098 (18-02-2008) Right-handed  17             \n",
       "88 2211 (18-11-2019) Right-handed   9             "
      ]
     },
     "metadata": {},
     "output_type": "display_data"
    }
   ],
   "source": [
    "# Loading in the data\n",
    "# Data read from https://drive.google.com/uc?export=download&id=1_MECmUXZuuILYeEOfonSGqodW6qVdhsS\n",
    "player_stats <- read_csv(\"https://drive.google.com/uc?export=download&id=1_MECmUXZuuILYeEOfonSGqodW6qVdhsS\")\n",
    "colnames(player_stats) <- make.names(colnames(player_stats))\n",
    "#   Remove unnecessary columns\n",
    "player_stats_clean <- player_stats %>%\n",
    "    select(Age:Peak.Elo.Rating, -Retired, -Country, -Wikipedia, -Current.Rank,-Name, -Seasons, -Prize.Money, -Active, -Favorite.Surface, -Best.Elo.Rank) %>%\n",
    "    na.omit() %>%\n",
    "#   Mutating columns with as_factor()\n",
    "    mutate(Dominate.Hand = as_factor(Plays)) %>%\n",
    "    select(-Plays) %>%\n",
    "    mutate(Backhand = as_factor(Backhand)) %>%\n",
    "#   Cleaning up columns with string values\n",
    "    mutate(Height = strtoi(str_remove(Height, \" cm\"))) %>%\n",
    "    mutate(Year.Experience = 2020 - Turned.Pro) %>%\n",
    "    mutate(Age = strtoi(substr(Age, 0, 2))) %>%\n",
    "    mutate(Current.Elo.Rank = strtoi(substr(Current.Elo.Rank, 0, nchar(Current.Elo.Rank)-7))) \n",
    "\n",
    "player_stats\n",
    "player_stats_clean"
   ]
  },
  {
   "cell_type": "code",
   "execution_count": 3,
   "metadata": {},
   "outputs": [],
   "source": [
    "set.seed(1234) # DO NOT REMOVE\n",
    "# Making the training and testing splits for each of the predictions\n",
    "backhand_split <- initial_split(player_stats_clean, prop = .6, strata = Backhand)\n",
    "backhand_training <- training(backhand_split)\n",
    "backhand_testing <- testing(backhand_split)\n",
    "\n",
    "hand_split <- initial_split(player_stats_clean, prop = .6, strata = Dominate.Hand)\n",
    "hand_training <- training(hand_split)\n",
    "hand_testing <- testing(hand_split)\n",
    "\n",
    "# backhand_training\n",
    "# backhand_testing\n",
    "# hand_training\n",
    "# hand_testing"
   ]
  },
  {
   "cell_type": "code",
   "execution_count": 4,
   "metadata": {},
   "outputs": [],
   "source": [
    "set.seed(1234) # DO NOT REMOVE\n",
    "# Creating the Recipes\n",
    "backhand_recipe <- recipe(Backhand ~ Current.Elo.Rank + Year.Experience, data = backhand_training) %>%\n",
    "    step_scale(all_predictors()) %>%\n",
    "    step_center(all_predictors())\n",
    "\n",
    "hand_recipe <- recipe(Dominate.Hand ~ Current.Elo.Rank + Year.Experience, data = hand_training) %>%\n",
    "    step_scale(all_predictors()) %>%\n",
    "    step_center(all_predictors())\n",
    "\n",
    "# backhand_recipe\n",
    "# hand_recipe"
   ]
  },
  {
   "cell_type": "code",
   "execution_count": 5,
   "metadata": {},
   "outputs": [],
   "source": [
    "set.seed(1234)\n",
    "\n",
    "# Creating the vfolds\n",
    "backhand_vfold <- vfold_cv(backhand_training, v = 5, strata = Backhand)\n",
    "hand_vfold <- vfold_cv(hand_training, v = 5, strata = Dominate.Hand)"
   ]
  },
  {
   "cell_type": "code",
   "execution_count": 6,
   "metadata": {},
   "outputs": [],
   "source": [
    "set.seed(1234)\n",
    "# Making the tune model to choose the best value of k\n",
    "knn_tune <- nearest_neighbor(weight_func = \"rectangular\", neighbors = tune()) %>%\n",
    "        set_engine(\"kknn\") %>%\n",
    "        set_mode(\"classification\")"
   ]
  },
  {
   "cell_type": "code",
   "execution_count": 7,
   "metadata": {},
   "outputs": [
    {
     "data": {
      "text/html": [
       "<table>\n",
       "<caption>A tibble: 20 × 7</caption>\n",
       "<thead>\n",
       "\t<tr><th scope=col>neighbors</th><th scope=col>.metric</th><th scope=col>.estimator</th><th scope=col>mean</th><th scope=col>n</th><th scope=col>std_err</th><th scope=col>.config</th></tr>\n",
       "\t<tr><th scope=col>&lt;int&gt;</th><th scope=col>&lt;chr&gt;</th><th scope=col>&lt;chr&gt;</th><th scope=col>&lt;dbl&gt;</th><th scope=col>&lt;int&gt;</th><th scope=col>&lt;dbl&gt;</th><th scope=col>&lt;chr&gt;</th></tr>\n",
       "</thead>\n",
       "<tbody>\n",
       "\t<tr><td>2</td><td>accuracy</td><td>binary</td><td>0.7609091</td><td>5</td><td>0.04580772</td><td>Model01</td></tr>\n",
       "\t<tr><td>2</td><td>roc_auc </td><td>binary</td><td>0.5733796</td><td>5</td><td>0.04697363</td><td>Model01</td></tr>\n",
       "\t<tr><td>3</td><td>accuracy</td><td>binary</td><td>0.7406061</td><td>5</td><td>0.03224960</td><td>Model02</td></tr>\n",
       "\t<tr><td>⋮</td><td>⋮</td><td>⋮</td><td>⋮</td><td>⋮</td><td>⋮</td><td>⋮</td></tr>\n",
       "\t<tr><td>13</td><td>roc_auc </td><td>binary</td><td>0.6157407</td><td>5</td><td>0.06951771</td><td>Model09</td></tr>\n",
       "\t<tr><td>14</td><td>accuracy</td><td>binary</td><td>0.7972727</td><td>5</td><td>0.01249793</td><td>Model10</td></tr>\n",
       "\t<tr><td>14</td><td>roc_auc </td><td>binary</td><td>0.6398148</td><td>5</td><td>0.04958569</td><td>Model10</td></tr>\n",
       "</tbody>\n",
       "</table>\n"
      ],
      "text/latex": [
       "A tibble: 20 × 7\n",
       "\\begin{tabular}{lllllll}\n",
       " neighbors & .metric & .estimator & mean & n & std\\_err & .config\\\\\n",
       " <int> & <chr> & <chr> & <dbl> & <int> & <dbl> & <chr>\\\\\n",
       "\\hline\n",
       "\t 2 & accuracy & binary & 0.7609091 & 5 & 0.04580772 & Model01\\\\\n",
       "\t 2 & roc\\_auc  & binary & 0.5733796 & 5 & 0.04697363 & Model01\\\\\n",
       "\t 3 & accuracy & binary & 0.7406061 & 5 & 0.03224960 & Model02\\\\\n",
       "\t ⋮ & ⋮ & ⋮ & ⋮ & ⋮ & ⋮ & ⋮\\\\\n",
       "\t 13 & roc\\_auc  & binary & 0.6157407 & 5 & 0.06951771 & Model09\\\\\n",
       "\t 14 & accuracy & binary & 0.7972727 & 5 & 0.01249793 & Model10\\\\\n",
       "\t 14 & roc\\_auc  & binary & 0.6398148 & 5 & 0.04958569 & Model10\\\\\n",
       "\\end{tabular}\n"
      ],
      "text/markdown": [
       "\n",
       "A tibble: 20 × 7\n",
       "\n",
       "| neighbors &lt;int&gt; | .metric &lt;chr&gt; | .estimator &lt;chr&gt; | mean &lt;dbl&gt; | n &lt;int&gt; | std_err &lt;dbl&gt; | .config &lt;chr&gt; |\n",
       "|---|---|---|---|---|---|---|\n",
       "| 2 | accuracy | binary | 0.7609091 | 5 | 0.04580772 | Model01 |\n",
       "| 2 | roc_auc  | binary | 0.5733796 | 5 | 0.04697363 | Model01 |\n",
       "| 3 | accuracy | binary | 0.7406061 | 5 | 0.03224960 | Model02 |\n",
       "| ⋮ | ⋮ | ⋮ | ⋮ | ⋮ | ⋮ | ⋮ |\n",
       "| 13 | roc_auc  | binary | 0.6157407 | 5 | 0.06951771 | Model09 |\n",
       "| 14 | accuracy | binary | 0.7972727 | 5 | 0.01249793 | Model10 |\n",
       "| 14 | roc_auc  | binary | 0.6398148 | 5 | 0.04958569 | Model10 |\n",
       "\n"
      ],
      "text/plain": [
       "   neighbors .metric  .estimator mean      n std_err    .config\n",
       "1  2         accuracy binary     0.7609091 5 0.04580772 Model01\n",
       "2  2         roc_auc  binary     0.5733796 5 0.04697363 Model01\n",
       "3  3         accuracy binary     0.7406061 5 0.03224960 Model02\n",
       "⋮  ⋮         ⋮        ⋮          ⋮         ⋮ ⋮          ⋮      \n",
       "18 13        roc_auc  binary     0.6157407 5 0.06951771 Model09\n",
       "19 14        accuracy binary     0.7972727 5 0.01249793 Model10\n",
       "20 14        roc_auc  binary     0.6398148 5 0.04958569 Model10"
      ]
     },
     "metadata": {},
     "output_type": "display_data"
    },
    {
     "data": {
      "text/html": [
       "<table>\n",
       "<caption>A tibble: 18 × 7</caption>\n",
       "<thead>\n",
       "\t<tr><th scope=col>neighbors</th><th scope=col>.metric</th><th scope=col>.estimator</th><th scope=col>mean</th><th scope=col>n</th><th scope=col>std_err</th><th scope=col>.config</th></tr>\n",
       "\t<tr><th scope=col>&lt;int&gt;</th><th scope=col>&lt;chr&gt;</th><th scope=col>&lt;chr&gt;</th><th scope=col>&lt;dbl&gt;</th><th scope=col>&lt;int&gt;</th><th scope=col>&lt;dbl&gt;</th><th scope=col>&lt;chr&gt;</th></tr>\n",
       "</thead>\n",
       "<tbody>\n",
       "\t<tr><td>1</td><td>accuracy</td><td>binary</td><td>0.6924242</td><td>5</td><td>0.08505926</td><td>Model1</td></tr>\n",
       "\t<tr><td>1</td><td>roc_auc </td><td>binary</td><td>0.4055556</td><td>5</td><td>0.04937886</td><td>Model1</td></tr>\n",
       "\t<tr><td>3</td><td>accuracy</td><td>binary</td><td>0.8157576</td><td>5</td><td>0.02782934</td><td>Model2</td></tr>\n",
       "\t<tr><td>⋮</td><td>⋮</td><td>⋮</td><td>⋮</td><td>⋮</td><td>⋮</td><td>⋮</td></tr>\n",
       "\t<tr><td>12</td><td>roc_auc </td><td>binary</td><td>0.6422222</td><td>5</td><td>0.11349661</td><td>Model8</td></tr>\n",
       "\t<tr><td>14</td><td>accuracy</td><td>binary</td><td>0.8539394</td><td>5</td><td>0.01900655</td><td>Model9</td></tr>\n",
       "\t<tr><td>14</td><td>roc_auc </td><td>binary</td><td>0.5744444</td><td>5</td><td>0.13749972</td><td>Model9</td></tr>\n",
       "</tbody>\n",
       "</table>\n"
      ],
      "text/latex": [
       "A tibble: 18 × 7\n",
       "\\begin{tabular}{lllllll}\n",
       " neighbors & .metric & .estimator & mean & n & std\\_err & .config\\\\\n",
       " <int> & <chr> & <chr> & <dbl> & <int> & <dbl> & <chr>\\\\\n",
       "\\hline\n",
       "\t 1 & accuracy & binary & 0.6924242 & 5 & 0.08505926 & Model1\\\\\n",
       "\t 1 & roc\\_auc  & binary & 0.4055556 & 5 & 0.04937886 & Model1\\\\\n",
       "\t 3 & accuracy & binary & 0.8157576 & 5 & 0.02782934 & Model2\\\\\n",
       "\t ⋮ & ⋮ & ⋮ & ⋮ & ⋮ & ⋮ & ⋮\\\\\n",
       "\t 12 & roc\\_auc  & binary & 0.6422222 & 5 & 0.11349661 & Model8\\\\\n",
       "\t 14 & accuracy & binary & 0.8539394 & 5 & 0.01900655 & Model9\\\\\n",
       "\t 14 & roc\\_auc  & binary & 0.5744444 & 5 & 0.13749972 & Model9\\\\\n",
       "\\end{tabular}\n"
      ],
      "text/markdown": [
       "\n",
       "A tibble: 18 × 7\n",
       "\n",
       "| neighbors &lt;int&gt; | .metric &lt;chr&gt; | .estimator &lt;chr&gt; | mean &lt;dbl&gt; | n &lt;int&gt; | std_err &lt;dbl&gt; | .config &lt;chr&gt; |\n",
       "|---|---|---|---|---|---|---|\n",
       "| 1 | accuracy | binary | 0.6924242 | 5 | 0.08505926 | Model1 |\n",
       "| 1 | roc_auc  | binary | 0.4055556 | 5 | 0.04937886 | Model1 |\n",
       "| 3 | accuracy | binary | 0.8157576 | 5 | 0.02782934 | Model2 |\n",
       "| ⋮ | ⋮ | ⋮ | ⋮ | ⋮ | ⋮ | ⋮ |\n",
       "| 12 | roc_auc  | binary | 0.6422222 | 5 | 0.11349661 | Model8 |\n",
       "| 14 | accuracy | binary | 0.8539394 | 5 | 0.01900655 | Model9 |\n",
       "| 14 | roc_auc  | binary | 0.5744444 | 5 | 0.13749972 | Model9 |\n",
       "\n"
      ],
      "text/plain": [
       "   neighbors .metric  .estimator mean      n std_err    .config\n",
       "1  1         accuracy binary     0.6924242 5 0.08505926 Model1 \n",
       "2  1         roc_auc  binary     0.4055556 5 0.04937886 Model1 \n",
       "3  3         accuracy binary     0.8157576 5 0.02782934 Model2 \n",
       "⋮  ⋮         ⋮        ⋮          ⋮         ⋮ ⋮          ⋮      \n",
       "16 12        roc_auc  binary     0.6422222 5 0.11349661 Model8 \n",
       "17 14        accuracy binary     0.8539394 5 0.01900655 Model9 \n",
       "18 14        roc_auc  binary     0.5744444 5 0.13749972 Model9 "
      ]
     },
     "metadata": {},
     "output_type": "display_data"
    }
   ],
   "source": [
    "set.seed(1234) # DO NOT REMOVE\n",
    "# Collecting metrics to determine best value of k\n",
    "backhand_results <- workflow() %>%\n",
    "    add_recipe(backhand_recipe) %>%\n",
    "    add_model(knn_tune) %>%\n",
    "    tune_grid(resamples = backhand_vfold, grid = 10) %>%\n",
    "    collect_metrics\n",
    "\n",
    "hand_results <- workflow() %>%\n",
    "    add_recipe(hand_recipe) %>%\n",
    "    add_model(knn_tune) %>%\n",
    "    tune_grid(resamples = hand_vfold, grid = 10) %>%\n",
    "    collect_metrics\n",
    "\n",
    "backhand_results\n",
    "hand_results"
   ]
  },
  {
   "cell_type": "code",
   "execution_count": 8,
   "metadata": {},
   "outputs": [
    {
     "data": {
      "text/plain": [
       "<ScaleContinuousPosition>\n",
       " Range:  \n",
       " Limits:    0 --    1"
      ]
     },
     "metadata": {},
     "output_type": "display_data"
    },
    {
     "data": {
      "image/png": "[encoded data removed]",
      "text/plain": [
       "plot without title"
      ]
     },
     "metadata": {
      "image/png": {
       "height": 420,
       "width": 420
      }
     },
     "output_type": "display_data"
    },
    {
     "data": {
      "image/png": "[encoded data removed]",
      "text/plain": [
       "plot without title"
      ]
     },
     "metadata": {
      "image/png": {
       "height": 420,
       "width": 420
      }
     },
     "output_type": "display_data"
    }
   ],
   "source": [
    "set.seed(1234) # DO NOT REMOVE\n",
    "# plotting accuracies vs value of k for backhand and dominate hand\n",
    "accuracies <- backhand_results %>%\n",
    "  filter(.metric == \"accuracy\")\n",
    "\n",
    "backhand_accuracy_vs_k <-ggplot(accuracies,aes(x = neighbors, y = mean)) +\n",
    "  geom_point()+\n",
    "  geom_line()+\n",
    "  labs(x = \"Neighbors\", y = \"Accuracy Estimate\") +\n",
    "  ggtitle(\"Backhand Accuracy\")\n",
    "  scale_x_continuous(breaks = seq(1, 14, by = 1))\n",
    "backhand_accuracy_vs_k\n",
    "\n",
    "accuracies <- hand_results %>%\n",
    "  filter(.metric == \"accuracy\")\n",
    "\n",
    "hand_accuracy_vs_k <-ggplot(accuracies,aes(x = neighbors, y = mean)) +\n",
    "  geom_point()+\n",
    "  geom_line()+\n",
    "  labs(x = \"Neighbors\", y = \"Accuracy Estimate\") +\n",
    "  ggtitle(\"Hand Accuracy\") +\n",
    "  scale_x_continuous(breaks = seq(1, 14, by = 1))\n",
    "hand_accuracy_vs_k"
   ]
  },
  {
   "cell_type": "code",
   "execution_count": 9,
   "metadata": {},
   "outputs": [],
   "source": [
    "set.seed(1234) # DO NOT REMOVE\n",
    "# Chose k = 12 for backhand, k = 5 for dominate hand\n",
    "backhand_best_k <- nearest_neighbor(weight_func = \"rectangular\", neighbors = 12) %>%\n",
    "    set_engine(\"kknn\") %>%\n",
    "    set_mode(\"classification\")\n",
    "\n",
    "hand_best_k <- nearest_neighbor(weight_func = \"rectangular\", neighbors = 5) %>%\n",
    "    set_engine(\"kknn\") %>%\n",
    "    set_mode(\"classification\")\n",
    "\n",
    "backhand_fit <- workflow() %>%\n",
    "    add_recipe(backhand_recipe) %>%\n",
    "    add_model(backhand_best_k) %>%\n",
    "    fit(data = backhand_training)\n",
    "\n",
    "hand_fit <- workflow() %>%\n",
    "    add_recipe(hand_recipe) %>%\n",
    "    add_model(hand_best_k) %>%\n",
    "    fit(data = hand_training)"
   ]
  },
  {
   "cell_type": "code",
   "execution_count": 10,
   "metadata": {},
   "outputs": [
    {
     "data": {
      "text/html": [
       "<table>\n",
       "<caption>A tibble: 2 × 3</caption>\n",
       "<thead>\n",
       "\t<tr><th scope=col>.metric</th><th scope=col>.estimator</th><th scope=col>.estimate</th></tr>\n",
       "\t<tr><th scope=col>&lt;chr&gt;</th><th scope=col>&lt;chr&gt;</th><th scope=col>&lt;dbl&gt;</th></tr>\n",
       "</thead>\n",
       "<tbody>\n",
       "\t<tr><td>accuracy</td><td>binary</td><td>0.8235294</td></tr>\n",
       "\t<tr><td>kap     </td><td>binary</td><td>0.0000000</td></tr>\n",
       "</tbody>\n",
       "</table>\n"
      ],
      "text/latex": [
       "A tibble: 2 × 3\n",
       "\\begin{tabular}{lll}\n",
       " .metric & .estimator & .estimate\\\\\n",
       " <chr> & <chr> & <dbl>\\\\\n",
       "\\hline\n",
       "\t accuracy & binary & 0.8235294\\\\\n",
       "\t kap      & binary & 0.0000000\\\\\n",
       "\\end{tabular}\n"
      ],
      "text/markdown": [
       "\n",
       "A tibble: 2 × 3\n",
       "\n",
       "| .metric &lt;chr&gt; | .estimator &lt;chr&gt; | .estimate &lt;dbl&gt; |\n",
       "|---|---|---|\n",
       "| accuracy | binary | 0.8235294 |\n",
       "| kap      | binary | 0.0000000 |\n",
       "\n"
      ],
      "text/plain": [
       "  .metric  .estimator .estimate\n",
       "1 accuracy binary     0.8235294\n",
       "2 kap      binary     0.0000000"
      ]
     },
     "metadata": {},
     "output_type": "display_data"
    },
    {
     "data": {
      "text/html": [
       "<table>\n",
       "<caption>A tibble: 2 × 3</caption>\n",
       "<thead>\n",
       "\t<tr><th scope=col>.metric</th><th scope=col>.estimator</th><th scope=col>.estimate</th></tr>\n",
       "\t<tr><th scope=col>&lt;chr&gt;</th><th scope=col>&lt;chr&gt;</th><th scope=col>&lt;dbl&gt;</th></tr>\n",
       "</thead>\n",
       "<tbody>\n",
       "\t<tr><td>accuracy</td><td>binary</td><td>0.8823529</td></tr>\n",
       "\t<tr><td>kap     </td><td>binary</td><td>0.0000000</td></tr>\n",
       "</tbody>\n",
       "</table>\n"
      ],
      "text/latex": [
       "A tibble: 2 × 3\n",
       "\\begin{tabular}{lll}\n",
       " .metric & .estimator & .estimate\\\\\n",
       " <chr> & <chr> & <dbl>\\\\\n",
       "\\hline\n",
       "\t accuracy & binary & 0.8823529\\\\\n",
       "\t kap      & binary & 0.0000000\\\\\n",
       "\\end{tabular}\n"
      ],
      "text/markdown": [
       "\n",
       "A tibble: 2 × 3\n",
       "\n",
       "| .metric &lt;chr&gt; | .estimator &lt;chr&gt; | .estimate &lt;dbl&gt; |\n",
       "|---|---|---|\n",
       "| accuracy | binary | 0.8823529 |\n",
       "| kap      | binary | 0.0000000 |\n",
       "\n"
      ],
      "text/plain": [
       "  .metric  .estimator .estimate\n",
       "1 accuracy binary     0.8823529\n",
       "2 kap      binary     0.0000000"
      ]
     },
     "metadata": {},
     "output_type": "display_data"
    }
   ],
   "source": [
    "set.seed(1234) # DO NOT REMOVE\n",
    "# Calculating accuracies of predictions with testing set\n",
    "backhand_predictions <- backhand_fit %>%\n",
    "    predict(backhand_testing) %>%\n",
    "    bind_cols(backhand_testing) \n",
    "\n",
    "backhand_metrics <- backhand_predictions %>%\n",
    "    metrics(truth = Backhand, estimate = .pred_class)\n",
    "\n",
    "hand_predictions <- hand_fit %>%\n",
    "    predict(hand_testing) %>%\n",
    "    bind_cols(hand_testing)\n",
    "\n",
    "hand_metrics <- hand_predictions %>%\n",
    "    metrics(truth = Dominate.Hand, estimate = .pred_class)\n",
    "\n",
    "backhand_metrics\n",
    "hand_metrics"
   ]
  }
 ],
 "metadata": {
  "kernelspec": {
   "display_name": "R",
   "language": "R",
   "name": "ir"
  },
  "language_info": {
   "codemirror_mode": "r",
   "file_extension": ".r",
   "mimetype": "text/x-r-source",
   "name": "R",
   "pygments_lexer": "r",
   "version": "4.0.0"
  }
 },
 "nbformat": 4,
 "nbformat_minor": 4
}
