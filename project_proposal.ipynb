{
 "cells": [
  {
   "cell_type": "markdown",
   "metadata": {},
   "source": [
    "# Project Proposal"
   ]
  },
  {
   "cell_type": "code",
   "execution_count": 28,
   "metadata": {},
   "outputs": [],
   "source": [
    "# Loading Libraries, Remember to run this cell!\n",
    "library(tidyverse)\n",
    "library(repr)\n",
    "library(tidymodels)\n",
    "options(repr.matrix.max.rows = 6)"
   ]
  },
  {
   "cell_type": "markdown",
   "metadata": {},
   "source": [
    "### Data Analysis"
   ]
  },
  {
   "cell_type": "code",
   "execution_count": 33,
   "metadata": {},
   "outputs": [
    {
     "name": "stderr",
     "output_type": "stream",
     "text": [
      "Warning message:\n",
      "“Missing column names filled in: 'X1' [1]”\n",
      "Parsed with column specification:\n",
      "cols(\n",
      "  .default = col_character(),\n",
      "  X1 = \u001b[32mcol_double()\u001b[39m,\n",
      "  `Turned Pro` = \u001b[32mcol_double()\u001b[39m,\n",
      "  Seasons = \u001b[32mcol_double()\u001b[39m,\n",
      "  Titles = \u001b[32mcol_double()\u001b[39m,\n",
      "  `Best Season` = \u001b[32mcol_double()\u001b[39m,\n",
      "  Retired = \u001b[32mcol_double()\u001b[39m,\n",
      "  Masters = \u001b[32mcol_double()\u001b[39m,\n",
      "  `Grand Slams` = \u001b[32mcol_double()\u001b[39m,\n",
      "  `Davis Cups` = \u001b[32mcol_double()\u001b[39m,\n",
      "  `Team Cups` = \u001b[32mcol_double()\u001b[39m,\n",
      "  Olympics = \u001b[32mcol_double()\u001b[39m,\n",
      "  `Weeks at No. 1` = \u001b[32mcol_double()\u001b[39m,\n",
      "  `Tour Finals` = \u001b[32mcol_double()\u001b[39m\n",
      ")\n",
      "\n",
      "See spec(...) for full column specifications.\n",
      "\n"
     ]
    },
    {
     "data": {
      "text/html": [
       "<table>\n",
       "<caption>A tibble: 500 × 10</caption>\n",
       "<thead>\n",
       "\t<tr><th scope=col>Age</th><th scope=col>Plays</th><th scope=col>Current Rank</th><th scope=col>Best Rank</th><th scope=col>Backhand</th><th scope=col>Prize Money</th><th scope=col>Height</th><th scope=col>Turned Pro</th><th scope=col>Current Elo Rank</th><th scope=col>Peak Elo Rating</th></tr>\n",
       "\t<tr><th scope=col>&lt;chr&gt;</th><th scope=col>&lt;chr&gt;</th><th scope=col>&lt;chr&gt;</th><th scope=col>&lt;chr&gt;</th><th scope=col>&lt;chr&gt;</th><th scope=col>&lt;chr&gt;</th><th scope=col>&lt;chr&gt;</th><th scope=col>&lt;dbl&gt;</th><th scope=col>&lt;chr&gt;</th><th scope=col>&lt;chr&gt;</th></tr>\n",
       "</thead>\n",
       "<tbody>\n",
       "\t<tr><td>26 (25-04-1993)</td><td>Right-handed</td><td>378 (97) </td><td>363 (04-11-2019)</td><td>NA        </td><td>NA          </td><td>NA    </td><td>  NA</td><td>NA        </td><td>NA               </td></tr>\n",
       "\t<tr><td>18 (22-12-2001)</td><td>Left-handed </td><td>326 (119)</td><td>316 (14-10-2019)</td><td>Two-handed</td><td>$59,040     </td><td>NA    </td><td>  NA</td><td>NA        </td><td>NA               </td></tr>\n",
       "\t<tr><td>32 (03-11-1987)</td><td>Right-handed</td><td>178 (280)</td><td>44 (14-01-2013) </td><td>Two-handed</td><td>US$3,261,567</td><td>185 cm</td><td>2005</td><td>144 (1764)</td><td>1886 (06-02-2012)</td></tr>\n",
       "\t<tr><td>⋮</td><td>⋮</td><td>⋮</td><td>⋮</td><td>⋮</td><td>⋮</td><td>⋮</td><td>⋮</td><td>⋮</td><td>⋮</td></tr>\n",
       "\t<tr><td>23 (14-03-1996)</td><td>Left-handed</td><td>495 (60)</td><td>342 (05-08-2019)</td><td>NA        </td><td>NA     </td><td>NA</td><td>NA</td><td>NA</td><td>NA</td></tr>\n",
       "\t<tr><td>24 (17-05-1995)</td><td>NA         </td><td>419 (81)</td><td>419 (20-01-2020)</td><td>NA        </td><td>NA     </td><td>NA</td><td>NA</td><td>NA</td><td>NA</td></tr>\n",
       "\t<tr><td>22 (26-03-1997)</td><td>Left-handed</td><td>451 (69)</td><td>408 (24-12-2018)</td><td>Two-handed</td><td>$61,984</td><td>NA</td><td>NA</td><td>NA</td><td>NA</td></tr>\n",
       "</tbody>\n",
       "</table>\n"
      ],
      "text/latex": [
       "A tibble: 500 × 10\n",
       "\\begin{tabular}{llllllllll}\n",
       " Age & Plays & Current Rank & Best Rank & Backhand & Prize Money & Height & Turned Pro & Current Elo Rank & Peak Elo Rating\\\\\n",
       " <chr> & <chr> & <chr> & <chr> & <chr> & <chr> & <chr> & <dbl> & <chr> & <chr>\\\\\n",
       "\\hline\n",
       "\t 26 (25-04-1993) & Right-handed & 378 (97)  & 363 (04-11-2019) & NA         & NA           & NA     &   NA & NA         & NA               \\\\\n",
       "\t 18 (22-12-2001) & Left-handed  & 326 (119) & 316 (14-10-2019) & Two-handed & \\$59,040      & NA     &   NA & NA         & NA               \\\\\n",
       "\t 32 (03-11-1987) & Right-handed & 178 (280) & 44 (14-01-2013)  & Two-handed & US\\$3,261,567 & 185 cm & 2005 & 144 (1764) & 1886 (06-02-2012)\\\\\n",
       "\t ⋮ & ⋮ & ⋮ & ⋮ & ⋮ & ⋮ & ⋮ & ⋮ & ⋮ & ⋮\\\\\n",
       "\t 23 (14-03-1996) & Left-handed & 495 (60) & 342 (05-08-2019) & NA         & NA      & NA & NA & NA & NA\\\\\n",
       "\t 24 (17-05-1995) & NA          & 419 (81) & 419 (20-01-2020) & NA         & NA      & NA & NA & NA & NA\\\\\n",
       "\t 22 (26-03-1997) & Left-handed & 451 (69) & 408 (24-12-2018) & Two-handed & \\$61,984 & NA & NA & NA & NA\\\\\n",
       "\\end{tabular}\n"
      ],
      "text/markdown": [
       "\n",
       "A tibble: 500 × 10\n",
       "\n",
       "| Age &lt;chr&gt; | Plays &lt;chr&gt; | Current Rank &lt;chr&gt; | Best Rank &lt;chr&gt; | Backhand &lt;chr&gt; | Prize Money &lt;chr&gt; | Height &lt;chr&gt; | Turned Pro &lt;dbl&gt; | Current Elo Rank &lt;chr&gt; | Peak Elo Rating &lt;chr&gt; |\n",
       "|---|---|---|---|---|---|---|---|---|---|\n",
       "| 26 (25-04-1993) | Right-handed | 378 (97)  | 363 (04-11-2019) | NA         | NA           | NA     |   NA | NA         | NA                |\n",
       "| 18 (22-12-2001) | Left-handed  | 326 (119) | 316 (14-10-2019) | Two-handed | $59,040      | NA     |   NA | NA         | NA                |\n",
       "| 32 (03-11-1987) | Right-handed | 178 (280) | 44 (14-01-2013)  | Two-handed | US$3,261,567 | 185 cm | 2005 | 144 (1764) | 1886 (06-02-2012) |\n",
       "| ⋮ | ⋮ | ⋮ | ⋮ | ⋮ | ⋮ | ⋮ | ⋮ | ⋮ | ⋮ |\n",
       "| 23 (14-03-1996) | Left-handed | 495 (60) | 342 (05-08-2019) | NA         | NA      | NA | NA | NA | NA |\n",
       "| 24 (17-05-1995) | NA          | 419 (81) | 419 (20-01-2020) | NA         | NA      | NA | NA | NA | NA |\n",
       "| 22 (26-03-1997) | Left-handed | 451 (69) | 408 (24-12-2018) | Two-handed | $61,984 | NA | NA | NA | NA |\n",
       "\n"
      ],
      "text/plain": [
       "    Age             Plays        Current Rank Best Rank        Backhand  \n",
       "1   26 (25-04-1993) Right-handed 378 (97)     363 (04-11-2019) NA        \n",
       "2   18 (22-12-2001) Left-handed  326 (119)    316 (14-10-2019) Two-handed\n",
       "3   32 (03-11-1987) Right-handed 178 (280)    44 (14-01-2013)  Two-handed\n",
       "⋮   ⋮               ⋮            ⋮            ⋮                ⋮         \n",
       "498 23 (14-03-1996) Left-handed  495 (60)     342 (05-08-2019) NA        \n",
       "499 24 (17-05-1995) NA           419 (81)     419 (20-01-2020) NA        \n",
       "500 22 (26-03-1997) Left-handed  451 (69)     408 (24-12-2018) Two-handed\n",
       "    Prize Money  Height Turned Pro Current Elo Rank Peak Elo Rating  \n",
       "1   NA           NA       NA       NA               NA               \n",
       "2   $59,040      NA       NA       NA               NA               \n",
       "3   US$3,261,567 185 cm 2005       144 (1764)       1886 (06-02-2012)\n",
       "⋮   ⋮            ⋮      ⋮          ⋮                ⋮                \n",
       "498 NA           NA     NA         NA               NA               \n",
       "499 NA           NA     NA         NA               NA               \n",
       "500 $61,984      NA     NA         NA               NA               "
      ]
     },
     "metadata": {},
     "output_type": "display_data"
    }
   ],
   "source": [
    "# Loading in the data\n",
    "player_stats <- read_csv(\"https://drive.google.com/uc?export=download&id=1_MECmUXZuuILYeEOfonSGqodW6qVdhsS\") %>% # Loading data using a url\n",
    "    select(\"Age\":\"Peak Elo Rating\", -Country, -Wikipedia, -Name, -Seasons, -Active, -\"Favorite Surface\", -\"Best Elo Rank\", \"Peak Elo Rating\") # Remove unnecessary columns\n",
    "player_stats"
   ]
  },
  {
   "cell_type": "code",
   "execution_count": null,
   "metadata": {},
   "outputs": [],
   "source": []
  },
  {
   "cell_type": "code",
   "execution_count": null,
   "metadata": {},
   "outputs": [],
   "source": []
  }
 ],
 "metadata": {
  "kernelspec": {
   "display_name": "R",
   "language": "R",
   "name": "ir"
  },
  "language_info": {
   "codemirror_mode": "r",
   "file_extension": ".r",
   "mimetype": "text/x-r-source",
   "name": "R",
   "pygments_lexer": "r",
   "version": "4.0.0"
  }
 },
 "nbformat": 4,
 "nbformat_minor": 4
}
