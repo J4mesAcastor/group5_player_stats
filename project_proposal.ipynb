{
 "cells": [
  {
   "cell_type": "markdown",
   "metadata": {},
   "source": [
    "# Project Proposal"
   ]
  },
  {
   "cell_type": "code",
   "execution_count": 5,
   "metadata": {},
   "outputs": [
    {
     "name": "stderr",
     "output_type": "stream",
     "text": [
      "── \u001b[1mAttaching packages\u001b[22m ─────────────────────────────────────── tidyverse 1.3.0 ──\n",
      "\n",
      "\u001b[32m✔\u001b[39m \u001b[34mggplot2\u001b[39m 3.3.2     \u001b[32m✔\u001b[39m \u001b[34mpurrr  \u001b[39m 0.3.4\n",
      "\u001b[32m✔\u001b[39m \u001b[34mtibble \u001b[39m 3.0.3     \u001b[32m✔\u001b[39m \u001b[34mdplyr  \u001b[39m 1.0.2\n",
      "\u001b[32m✔\u001b[39m \u001b[34mtidyr  \u001b[39m 1.1.2     \u001b[32m✔\u001b[39m \u001b[34mstringr\u001b[39m 1.4.0\n",
      "\u001b[32m✔\u001b[39m \u001b[34mreadr  \u001b[39m 1.3.1     \u001b[32m✔\u001b[39m \u001b[34mforcats\u001b[39m 0.5.0\n",
      "\n",
      "Warning message:\n",
      "“package ‘ggplot2’ was built under R version 4.0.1”\n",
      "Warning message:\n",
      "“package ‘tibble’ was built under R version 4.0.2”\n",
      "Warning message:\n",
      "“package ‘tidyr’ was built under R version 4.0.2”\n",
      "Warning message:\n",
      "“package ‘dplyr’ was built under R version 4.0.2”\n",
      "── \u001b[1mConflicts\u001b[22m ────────────────────────────────────────── tidyverse_conflicts() ──\n",
      "\u001b[31m✖\u001b[39m \u001b[34mdplyr\u001b[39m::\u001b[32mfilter()\u001b[39m masks \u001b[34mstats\u001b[39m::filter()\n",
      "\u001b[31m✖\u001b[39m \u001b[34mdplyr\u001b[39m::\u001b[32mlag()\u001b[39m    masks \u001b[34mstats\u001b[39m::lag()\n",
      "\n",
      "Warning message:\n",
      "“package ‘tidymodels’ was built under R version 4.0.2”\n",
      "── \u001b[1mAttaching packages\u001b[22m ────────────────────────────────────── tidymodels 0.1.1 ──\n",
      "\n",
      "\u001b[32m✔\u001b[39m \u001b[34mbroom    \u001b[39m 0.7.0      \u001b[32m✔\u001b[39m \u001b[34mrecipes  \u001b[39m 0.1.13\n",
      "\u001b[32m✔\u001b[39m \u001b[34mdials    \u001b[39m 0.0.9      \u001b[32m✔\u001b[39m \u001b[34mrsample  \u001b[39m 0.0.7 \n",
      "\u001b[32m✔\u001b[39m \u001b[34minfer    \u001b[39m 0.5.4      \u001b[32m✔\u001b[39m \u001b[34mtune     \u001b[39m 0.1.1 \n",
      "\u001b[32m✔\u001b[39m \u001b[34mmodeldata\u001b[39m 0.0.2      \u001b[32m✔\u001b[39m \u001b[34mworkflows\u001b[39m 0.2.0 \n",
      "\u001b[32m✔\u001b[39m \u001b[34mparsnip  \u001b[39m 0.1.3      \u001b[32m✔\u001b[39m \u001b[34myardstick\u001b[39m 0.0.7 \n",
      "\n",
      "Warning message:\n",
      "“package ‘broom’ was built under R version 4.0.2”\n",
      "Warning message:\n",
      "“package ‘dials’ was built under R version 4.0.2”\n",
      "Warning message:\n",
      "“package ‘infer’ was built under R version 4.0.3”\n",
      "Warning message:\n",
      "“package ‘modeldata’ was built under R version 4.0.1”\n",
      "Warning message:\n",
      "“package ‘parsnip’ was built under R version 4.0.2”\n",
      "Warning message:\n",
      "“package ‘recipes’ was built under R version 4.0.1”\n",
      "Warning message:\n",
      "“package ‘tune’ was built under R version 4.0.2”\n",
      "Warning message:\n",
      "“package ‘workflows’ was built under R version 4.0.2”\n",
      "Warning message:\n",
      "“package ‘yardstick’ was built under R version 4.0.2”\n",
      "── \u001b[1mConflicts\u001b[22m ───────────────────────────────────────── tidymodels_conflicts() ──\n",
      "\u001b[31m✖\u001b[39m \u001b[34mscales\u001b[39m::\u001b[32mdiscard()\u001b[39m masks \u001b[34mpurrr\u001b[39m::discard()\n",
      "\u001b[31m✖\u001b[39m \u001b[34mdplyr\u001b[39m::\u001b[32mfilter()\u001b[39m   masks \u001b[34mstats\u001b[39m::filter()\n",
      "\u001b[31m✖\u001b[39m \u001b[34mrecipes\u001b[39m::\u001b[32mfixed()\u001b[39m  masks \u001b[34mstringr\u001b[39m::fixed()\n",
      "\u001b[31m✖\u001b[39m \u001b[34mdplyr\u001b[39m::\u001b[32mlag()\u001b[39m      masks \u001b[34mstats\u001b[39m::lag()\n",
      "\u001b[31m✖\u001b[39m \u001b[34myardstick\u001b[39m::\u001b[32mspec()\u001b[39m masks \u001b[34mreadr\u001b[39m::spec()\n",
      "\u001b[31m✖\u001b[39m \u001b[34mrecipes\u001b[39m::\u001b[32mstep()\u001b[39m   masks \u001b[34mstats\u001b[39m::step()\n",
      "\n"
     ]
    }
   ],
   "source": [
    "# Loading Libraries, Remember to run this cell!\n",
    "library(tidyverse)\n",
    "library(repr)\n",
    "library(tidymodels)\n",
    "\n",
    "options(repr.matrix.max.rows = 6)"
   ]
  },
  {
   "cell_type": "markdown",
   "metadata": {},
   "source": [
    "### Data Analysis"
   ]
  },
  {
   "cell_type": "code",
   "execution_count": 51,
   "metadata": {},
   "outputs": [
    {
     "name": "stderr",
     "output_type": "stream",
     "text": [
      "Warning message:\n",
      "“Missing column names filled in: 'X1' [1]”\n",
      "Parsed with column specification:\n",
      "cols(\n",
      "  .default = col_character(),\n",
      "  X1 = \u001b[32mcol_double()\u001b[39m,\n",
      "  `Turned Pro` = \u001b[32mcol_double()\u001b[39m,\n",
      "  Seasons = \u001b[32mcol_double()\u001b[39m,\n",
      "  Titles = \u001b[32mcol_double()\u001b[39m,\n",
      "  `Best Season` = \u001b[32mcol_double()\u001b[39m,\n",
      "  Retired = \u001b[32mcol_double()\u001b[39m,\n",
      "  Masters = \u001b[32mcol_double()\u001b[39m,\n",
      "  `Grand Slams` = \u001b[32mcol_double()\u001b[39m,\n",
      "  `Davis Cups` = \u001b[32mcol_double()\u001b[39m,\n",
      "  `Team Cups` = \u001b[32mcol_double()\u001b[39m,\n",
      "  Olympics = \u001b[32mcol_double()\u001b[39m,\n",
      "  `Weeks at No. 1` = \u001b[32mcol_double()\u001b[39m,\n",
      "  `Tour Finals` = \u001b[32mcol_double()\u001b[39m\n",
      ")\n",
      "\n",
      "See spec(...) for full column specifications.\n",
      "\n"
     ]
    },
    {
     "data": {
      "text/html": [
       "<table>\n",
       "<caption>A tibble: 500 × 8</caption>\n",
       "<thead>\n",
       "\t<tr><th scope=col>Age</th><th scope=col>Plays</th><th scope=col>Best.Rank</th><th scope=col>Backhand</th><th scope=col>Height</th><th scope=col>Turned.Pro</th><th scope=col>Current.Elo.Rank</th><th scope=col>Peak.Elo.Rating</th></tr>\n",
       "\t<tr><th scope=col>&lt;int&gt;</th><th scope=col>&lt;fct&gt;</th><th scope=col>&lt;int&gt;</th><th scope=col>&lt;fct&gt;</th><th scope=col>&lt;int&gt;</th><th scope=col>&lt;dbl&gt;</th><th scope=col>&lt;chr&gt;</th><th scope=col>&lt;chr&gt;</th></tr>\n",
       "</thead>\n",
       "<tbody>\n",
       "\t<tr><td>26</td><td>Right-handed</td><td>363</td><td>NA        </td><td> NA</td><td>  NA</td><td>NA        </td><td>NA               </td></tr>\n",
       "\t<tr><td>18</td><td>Left-handed </td><td>316</td><td>Two-handed</td><td> NA</td><td>  NA</td><td>NA        </td><td>NA               </td></tr>\n",
       "\t<tr><td>32</td><td>Right-handed</td><td> 44</td><td>Two-handed</td><td>185</td><td>2005</td><td>144 (1764)</td><td>1886 (06-02-2012)</td></tr>\n",
       "\t<tr><td>⋮</td><td>⋮</td><td>⋮</td><td>⋮</td><td>⋮</td><td>⋮</td><td>⋮</td><td>⋮</td></tr>\n",
       "\t<tr><td>23</td><td>Left-handed</td><td>342</td><td>NA        </td><td>NA</td><td>NA</td><td>NA</td><td>NA</td></tr>\n",
       "\t<tr><td>24</td><td>NA         </td><td>419</td><td>NA        </td><td>NA</td><td>NA</td><td>NA</td><td>NA</td></tr>\n",
       "\t<tr><td>22</td><td>Left-handed</td><td>408</td><td>Two-handed</td><td>NA</td><td>NA</td><td>NA</td><td>NA</td></tr>\n",
       "</tbody>\n",
       "</table>\n"
      ],
      "text/latex": [
       "A tibble: 500 × 8\n",
       "\\begin{tabular}{llllllll}\n",
       " Age & Plays & Best.Rank & Backhand & Height & Turned.Pro & Current.Elo.Rank & Peak.Elo.Rating\\\\\n",
       " <int> & <fct> & <int> & <fct> & <int> & <dbl> & <chr> & <chr>\\\\\n",
       "\\hline\n",
       "\t 26 & Right-handed & 363 & NA         &  NA &   NA & NA         & NA               \\\\\n",
       "\t 18 & Left-handed  & 316 & Two-handed &  NA &   NA & NA         & NA               \\\\\n",
       "\t 32 & Right-handed &  44 & Two-handed & 185 & 2005 & 144 (1764) & 1886 (06-02-2012)\\\\\n",
       "\t ⋮ & ⋮ & ⋮ & ⋮ & ⋮ & ⋮ & ⋮ & ⋮\\\\\n",
       "\t 23 & Left-handed & 342 & NA         & NA & NA & NA & NA\\\\\n",
       "\t 24 & NA          & 419 & NA         & NA & NA & NA & NA\\\\\n",
       "\t 22 & Left-handed & 408 & Two-handed & NA & NA & NA & NA\\\\\n",
       "\\end{tabular}\n"
      ],
      "text/markdown": [
       "\n",
       "A tibble: 500 × 8\n",
       "\n",
       "| Age &lt;int&gt; | Plays &lt;fct&gt; | Best.Rank &lt;int&gt; | Backhand &lt;fct&gt; | Height &lt;int&gt; | Turned.Pro &lt;dbl&gt; | Current.Elo.Rank &lt;chr&gt; | Peak.Elo.Rating &lt;chr&gt; |\n",
       "|---|---|---|---|---|---|---|---|\n",
       "| 26 | Right-handed | 363 | NA         |  NA |   NA | NA         | NA                |\n",
       "| 18 | Left-handed  | 316 | Two-handed |  NA |   NA | NA         | NA                |\n",
       "| 32 | Right-handed |  44 | Two-handed | 185 | 2005 | 144 (1764) | 1886 (06-02-2012) |\n",
       "| ⋮ | ⋮ | ⋮ | ⋮ | ⋮ | ⋮ | ⋮ | ⋮ |\n",
       "| 23 | Left-handed | 342 | NA         | NA | NA | NA | NA |\n",
       "| 24 | NA          | 419 | NA         | NA | NA | NA | NA |\n",
       "| 22 | Left-handed | 408 | Two-handed | NA | NA | NA | NA |\n",
       "\n"
      ],
      "text/plain": [
       "    Age Plays        Best.Rank Backhand   Height Turned.Pro Current.Elo.Rank\n",
       "1   26  Right-handed 363       NA          NA      NA       NA              \n",
       "2   18  Left-handed  316       Two-handed  NA      NA       NA              \n",
       "3   32  Right-handed  44       Two-handed 185    2005       144 (1764)      \n",
       "⋮   ⋮   ⋮            ⋮         ⋮          ⋮      ⋮          ⋮               \n",
       "498 23  Left-handed  342       NA         NA     NA         NA              \n",
       "499 24  NA           419       NA         NA     NA         NA              \n",
       "500 22  Left-handed  408       Two-handed NA     NA         NA              \n",
       "    Peak.Elo.Rating  \n",
       "1   NA               \n",
       "2   NA               \n",
       "3   1886 (06-02-2012)\n",
       "⋮   ⋮                \n",
       "498 NA               \n",
       "499 NA               \n",
       "500 NA               "
      ]
     },
     "metadata": {},
     "output_type": "display_data"
    }
   ],
   "source": [
    "# Loading in the data\n",
    "player_stats <- read_csv(\"https://drive.google.com/uc?export=download&id=1_MECmUXZuuILYeEOfonSGqodW6qVdhsS\")\n",
    "colnames(player_stats) <- make.names(colnames(player_stats))\n",
    "#   Remove unnecessary columns\n",
    "player_stats <- player_stats %>%\n",
    "    select(Age:Peak.Elo.Rating, -Country, -Wikipedia, -Current.Rank,-Name, -Seasons, -Prize.Money, -Active, -Favorite.Surface, -Best.Elo.Rank, Peak.Elo.Rating)\n",
    "colnames(player_stats) <- make.names(colnames(player_stats))\n",
    "#   Mutating columns with as_factor()    \n",
    "player_stats <- player_stats %>%\n",
    "    mutate(Plays = as_factor(Plays)) %>%\n",
    "    mutate(Backhand = as_factor(Backhand)) %>%\n",
    "#   Cleaning up columns with string values\n",
    "    mutate(Height = strtoi(str_remove(Height, \" cm\"))) %>%\n",
    "    mutate(Age = strtoi(substr(Age, 0, 2))) %>%\n",
    "    mutate(Best.Rank = strtoi(substr(Best.Rank, 1, nchar(Best.Rank) - 13)))\n",
    "player_stats"
   ]
  },
  {
   "cell_type": "code",
   "execution_count": null,
   "metadata": {},
   "outputs": [],
   "source": []
  },
  {
   "cell_type": "code",
   "execution_count": null,
   "metadata": {},
   "outputs": [],
   "source": []
  }
 ],
 "metadata": {
  "kernelspec": {
   "display_name": "R",
   "language": "R",
   "name": "ir"
  },
  "language_info": {
   "codemirror_mode": "r",
   "file_extension": ".r",
   "mimetype": "text/x-r-source",
   "name": "R",
   "pygments_lexer": "r",
   "version": "4.0.0"
  }
 },
 "nbformat": 4,
 "nbformat_minor": 4
}
