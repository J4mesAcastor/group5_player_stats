{
 "cells": [
  {
   "cell_type": "markdown",
   "metadata": {},
   "source": [
    "# Project Proposal"
   ]
  },
  {
   "cell_type": "markdown",
   "metadata": {},
   "source": [
    "### Introduction\n",
    "\n",
    "Tennis is a racket sport that is reliant on different shot techniques in their repertoire (i.e. forehand, backhand). It can be played in a singles or doubles match, wherein a player wins a match by winning two/three sets in a best-of-three/best-of-five match. A set is won by winning at least six games and two games more than the opponent, and every game is won by winning a total for at least four points and their score is two points more than the opponent.\n",
    "\n",
    "Officially, players are assigned an Elo rating according to the Universal Tennis Rating (UTR) system, which rates players according to head-to-head results, independent of their age or nationality. The UTR system factors in the opponent that a player competed against as well as the set scores in the matches. As it is used on a global scale, the UTR can be used to match players with similar Elo ratings and therefore similar ability. This system, which is not only used globally and makes the matches more competitive, is recognized to be a helpful tool for player development and evaluator of rating tennis skill.\n",
    "\n",
    "As such, in this project, we seek to assess the possible factors that also contribute to tennis players' current Elo ratings. We will be observing the experience (# of years played in Tennis) and hand techniques (backhand, dominant hand) to see if experience is more impactful than technique which would reflect in their current Elo rating/ranking. \n",
    "\n",
    "To help answer these questions, the dataset that will be used is the Player Stats for Top 500 Players dataset from https://www.ultimatetennisstatistics.com/. This dataset uses a similar system to the UTR, but with an optimized new K-factor function which allows for more stabilized ratings and player rankings."
   ]
  },
  {
   "cell_type": "code",
   "execution_count": 2,
   "metadata": {},
   "outputs": [
    {
     "name": "stderr",
     "output_type": "stream",
     "text": [
      "── \u001b[1mAttaching packages\u001b[22m ─────────────────────────────────────── tidyverse 1.3.0 ──\n",
      "\n",
      "\u001b[32m✔\u001b[39m \u001b[34mggplot2\u001b[39m 3.3.2     \u001b[32m✔\u001b[39m \u001b[34mpurrr  \u001b[39m 0.3.4\n",
      "\u001b[32m✔\u001b[39m \u001b[34mtibble \u001b[39m 3.0.3     \u001b[32m✔\u001b[39m \u001b[34mdplyr  \u001b[39m 1.0.2\n",
      "\u001b[32m✔\u001b[39m \u001b[34mtidyr  \u001b[39m 1.1.2     \u001b[32m✔\u001b[39m \u001b[34mstringr\u001b[39m 1.4.0\n",
      "\u001b[32m✔\u001b[39m \u001b[34mreadr  \u001b[39m 1.3.1     \u001b[32m✔\u001b[39m \u001b[34mforcats\u001b[39m 0.5.0\n",
      "\n",
      "Warning message:\n",
      "“package ‘ggplot2’ was built under R version 4.0.1”\n",
      "Warning message:\n",
      "“package ‘tibble’ was built under R version 4.0.2”\n",
      "Warning message:\n",
      "“package ‘tidyr’ was built under R version 4.0.2”\n",
      "Warning message:\n",
      "“package ‘dplyr’ was built under R version 4.0.2”\n",
      "── \u001b[1mConflicts\u001b[22m ────────────────────────────────────────── tidyverse_conflicts() ──\n",
      "\u001b[31m✖\u001b[39m \u001b[34mdplyr\u001b[39m::\u001b[32mfilter()\u001b[39m masks \u001b[34mstats\u001b[39m::filter()\n",
      "\u001b[31m✖\u001b[39m \u001b[34mdplyr\u001b[39m::\u001b[32mlag()\u001b[39m    masks \u001b[34mstats\u001b[39m::lag()\n",
      "\n",
      "Warning message:\n",
      "“package ‘tidymodels’ was built under R version 4.0.2”\n",
      "── \u001b[1mAttaching packages\u001b[22m ────────────────────────────────────── tidymodels 0.1.1 ──\n",
      "\n",
      "\u001b[32m✔\u001b[39m \u001b[34mbroom    \u001b[39m 0.7.0      \u001b[32m✔\u001b[39m \u001b[34mrecipes  \u001b[39m 0.1.13\n",
      "\u001b[32m✔\u001b[39m \u001b[34mdials    \u001b[39m 0.0.9      \u001b[32m✔\u001b[39m \u001b[34mrsample  \u001b[39m 0.0.7 \n",
      "\u001b[32m✔\u001b[39m \u001b[34minfer    \u001b[39m 0.5.4      \u001b[32m✔\u001b[39m \u001b[34mtune     \u001b[39m 0.1.1 \n",
      "\u001b[32m✔\u001b[39m \u001b[34mmodeldata\u001b[39m 0.0.2      \u001b[32m✔\u001b[39m \u001b[34mworkflows\u001b[39m 0.2.0 \n",
      "\u001b[32m✔\u001b[39m \u001b[34mparsnip  \u001b[39m 0.1.3      \u001b[32m✔\u001b[39m \u001b[34myardstick\u001b[39m 0.0.7 \n",
      "\n",
      "Warning message:\n",
      "“package ‘broom’ was built under R version 4.0.2”\n",
      "Warning message:\n",
      "“package ‘dials’ was built under R version 4.0.2”\n",
      "Warning message:\n",
      "“package ‘infer’ was built under R version 4.0.3”\n",
      "Warning message:\n",
      "“package ‘modeldata’ was built under R version 4.0.1”\n",
      "Warning message:\n",
      "“package ‘parsnip’ was built under R version 4.0.2”\n",
      "Warning message:\n",
      "“package ‘recipes’ was built under R version 4.0.1”\n",
      "Warning message:\n",
      "“package ‘tune’ was built under R version 4.0.2”\n",
      "Warning message:\n",
      "“package ‘workflows’ was built under R version 4.0.2”\n",
      "Warning message:\n",
      "“package ‘yardstick’ was built under R version 4.0.2”\n",
      "── \u001b[1mConflicts\u001b[22m ───────────────────────────────────────── tidymodels_conflicts() ──\n",
      "\u001b[31m✖\u001b[39m \u001b[34mscales\u001b[39m::\u001b[32mdiscard()\u001b[39m masks \u001b[34mpurrr\u001b[39m::discard()\n",
      "\u001b[31m✖\u001b[39m \u001b[34mdplyr\u001b[39m::\u001b[32mfilter()\u001b[39m   masks \u001b[34mstats\u001b[39m::filter()\n",
      "\u001b[31m✖\u001b[39m \u001b[34mrecipes\u001b[39m::\u001b[32mfixed()\u001b[39m  masks \u001b[34mstringr\u001b[39m::fixed()\n",
      "\u001b[31m✖\u001b[39m \u001b[34mdplyr\u001b[39m::\u001b[32mlag()\u001b[39m      masks \u001b[34mstats\u001b[39m::lag()\n",
      "\u001b[31m✖\u001b[39m \u001b[34myardstick\u001b[39m::\u001b[32mspec()\u001b[39m masks \u001b[34mreadr\u001b[39m::spec()\n",
      "\u001b[31m✖\u001b[39m \u001b[34mrecipes\u001b[39m::\u001b[32mstep()\u001b[39m   masks \u001b[34mstats\u001b[39m::step()\n",
      "\n"
     ]
    }
   ],
   "source": [
    "# Loading Libraries, Remember to run this cell!\n",
    "library(tidyverse)\n",
    "library(repr)\n",
    "library(tidymodels)\n",
    "\n",
    "options(repr.matrix.max.rows = 6)"
   ]
  },
  {
   "cell_type": "markdown",
   "metadata": {},
   "source": [
    "### Data Analysis"
   ]
  },
  {
   "cell_type": "code",
   "execution_count": 3,
   "metadata": {},
   "outputs": [
    {
     "name": "stderr",
     "output_type": "stream",
     "text": [
      "Warning message:\n",
      "“Missing column names filled in: 'X1' [1]”\n",
      "Parsed with column specification:\n",
      "cols(\n",
      "  .default = col_character(),\n",
      "  X1 = \u001b[32mcol_double()\u001b[39m,\n",
      "  `Turned Pro` = \u001b[32mcol_double()\u001b[39m,\n",
      "  Seasons = \u001b[32mcol_double()\u001b[39m,\n",
      "  Titles = \u001b[32mcol_double()\u001b[39m,\n",
      "  `Best Season` = \u001b[32mcol_double()\u001b[39m,\n",
      "  Retired = \u001b[32mcol_double()\u001b[39m,\n",
      "  Masters = \u001b[32mcol_double()\u001b[39m,\n",
      "  `Grand Slams` = \u001b[32mcol_double()\u001b[39m,\n",
      "  `Davis Cups` = \u001b[32mcol_double()\u001b[39m,\n",
      "  `Team Cups` = \u001b[32mcol_double()\u001b[39m,\n",
      "  Olympics = \u001b[32mcol_double()\u001b[39m,\n",
      "  `Weeks at No. 1` = \u001b[32mcol_double()\u001b[39m,\n",
      "  `Tour Finals` = \u001b[32mcol_double()\u001b[39m\n",
      ")\n",
      "\n",
      "See spec(...) for full column specifications.\n",
      "\n"
     ]
    },
    {
     "data": {
      "text/html": [
       "<table>\n",
       "<caption>A tibble: 246 × 10</caption>\n",
       "<thead>\n",
       "\t<tr><th scope=col>Age</th><th scope=col>Plays</th><th scope=col>Best.Rank</th><th scope=col>Backhand</th><th scope=col>Height</th><th scope=col>Turned.Pro</th><th scope=col>Current.Elo.Rank</th><th scope=col>Peak.Elo.Rating</th><th scope=col>Retired</th><th scope=col>Year.Experience</th></tr>\n",
       "\t<tr><th scope=col>&lt;int&gt;</th><th scope=col>&lt;fct&gt;</th><th scope=col>&lt;chr&gt;</th><th scope=col>&lt;fct&gt;</th><th scope=col>&lt;int&gt;</th><th scope=col>&lt;dbl&gt;</th><th scope=col>&lt;chr&gt;</th><th scope=col>&lt;chr&gt;</th><th scope=col>&lt;dbl&gt;</th><th scope=col>&lt;dbl&gt;</th></tr>\n",
       "</thead>\n",
       "<tbody>\n",
       "\t<tr><td>32</td><td>Right-handed</td><td>44 (14-01-2013)</td><td>Two-handed</td><td>185</td><td>2005</td><td>144 (1764)</td><td>1886 (06-02-2012)</td><td>NA</td><td>15</td></tr>\n",
       "\t<tr><td>27</td><td>Right-handed</td><td>17 (11-01-2016)</td><td>Two-handed</td><td>193</td><td>2008</td><td>100 (1826)</td><td>2037 (01-02-2016)</td><td>NA</td><td>12</td></tr>\n",
       "\t<tr><td>22</td><td>Right-handed</td><td>31 (20-01-2020)</td><td>Two-handed</td><td> NA</td><td>2015</td><td>33 (1983) </td><td>1983 (20-01-2020)</td><td>NA</td><td> 5</td></tr>\n",
       "\t<tr><td>⋮</td><td>⋮</td><td>⋮</td><td>⋮</td><td>⋮</td><td>⋮</td><td>⋮</td><td>⋮</td><td>⋮</td><td>⋮</td></tr>\n",
       "\t<tr><td>28</td><td>Right-handed</td><td>74 (19-02-2018) </td><td>Two-handed</td><td> NA</td><td>2008</td><td>143 (1764)</td><td>1904 (12-02-2018)</td><td>NA</td><td>12</td></tr>\n",
       "\t<tr><td>26</td><td>Right-handed</td><td>249 (24-12-2018)</td><td>Two-handed</td><td> NA</td><td>2009</td><td>180 (1679)</td><td>1679 (10-01-2020)</td><td>NA</td><td>11</td></tr>\n",
       "\t<tr><td>26</td><td>Right-handed</td><td>4 (06-11-2017)  </td><td>One-handed</td><td>185</td><td>2011</td><td>6 (2188)  </td><td>2211 (18-11-2019)</td><td>NA</td><td> 9</td></tr>\n",
       "</tbody>\n",
       "</table>\n"
      ],
      "text/latex": [
       "A tibble: 246 × 10\n",
       "\\begin{tabular}{llllllllll}\n",
       " Age & Plays & Best.Rank & Backhand & Height & Turned.Pro & Current.Elo.Rank & Peak.Elo.Rating & Retired & Year.Experience\\\\\n",
       " <int> & <fct> & <chr> & <fct> & <int> & <dbl> & <chr> & <chr> & <dbl> & <dbl>\\\\\n",
       "\\hline\n",
       "\t 32 & Right-handed & 44 (14-01-2013) & Two-handed & 185 & 2005 & 144 (1764) & 1886 (06-02-2012) & NA & 15\\\\\n",
       "\t 27 & Right-handed & 17 (11-01-2016) & Two-handed & 193 & 2008 & 100 (1826) & 2037 (01-02-2016) & NA & 12\\\\\n",
       "\t 22 & Right-handed & 31 (20-01-2020) & Two-handed &  NA & 2015 & 33 (1983)  & 1983 (20-01-2020) & NA &  5\\\\\n",
       "\t ⋮ & ⋮ & ⋮ & ⋮ & ⋮ & ⋮ & ⋮ & ⋮ & ⋮ & ⋮\\\\\n",
       "\t 28 & Right-handed & 74 (19-02-2018)  & Two-handed &  NA & 2008 & 143 (1764) & 1904 (12-02-2018) & NA & 12\\\\\n",
       "\t 26 & Right-handed & 249 (24-12-2018) & Two-handed &  NA & 2009 & 180 (1679) & 1679 (10-01-2020) & NA & 11\\\\\n",
       "\t 26 & Right-handed & 4 (06-11-2017)   & One-handed & 185 & 2011 & 6 (2188)   & 2211 (18-11-2019) & NA &  9\\\\\n",
       "\\end{tabular}\n"
      ],
      "text/markdown": [
       "\n",
       "A tibble: 246 × 10\n",
       "\n",
       "| Age &lt;int&gt; | Plays &lt;fct&gt; | Best.Rank &lt;chr&gt; | Backhand &lt;fct&gt; | Height &lt;int&gt; | Turned.Pro &lt;dbl&gt; | Current.Elo.Rank &lt;chr&gt; | Peak.Elo.Rating &lt;chr&gt; | Retired &lt;dbl&gt; | Year.Experience &lt;dbl&gt; |\n",
       "|---|---|---|---|---|---|---|---|---|---|\n",
       "| 32 | Right-handed | 44 (14-01-2013) | Two-handed | 185 | 2005 | 144 (1764) | 1886 (06-02-2012) | NA | 15 |\n",
       "| 27 | Right-handed | 17 (11-01-2016) | Two-handed | 193 | 2008 | 100 (1826) | 2037 (01-02-2016) | NA | 12 |\n",
       "| 22 | Right-handed | 31 (20-01-2020) | Two-handed |  NA | 2015 | 33 (1983)  | 1983 (20-01-2020) | NA |  5 |\n",
       "| ⋮ | ⋮ | ⋮ | ⋮ | ⋮ | ⋮ | ⋮ | ⋮ | ⋮ | ⋮ |\n",
       "| 28 | Right-handed | 74 (19-02-2018)  | Two-handed |  NA | 2008 | 143 (1764) | 1904 (12-02-2018) | NA | 12 |\n",
       "| 26 | Right-handed | 249 (24-12-2018) | Two-handed |  NA | 2009 | 180 (1679) | 1679 (10-01-2020) | NA | 11 |\n",
       "| 26 | Right-handed | 4 (06-11-2017)   | One-handed | 185 | 2011 | 6 (2188)   | 2211 (18-11-2019) | NA |  9 |\n",
       "\n"
      ],
      "text/plain": [
       "    Age Plays        Best.Rank        Backhand   Height Turned.Pro\n",
       "1   32  Right-handed 44 (14-01-2013)  Two-handed 185    2005      \n",
       "2   27  Right-handed 17 (11-01-2016)  Two-handed 193    2008      \n",
       "3   22  Right-handed 31 (20-01-2020)  Two-handed  NA    2015      \n",
       "⋮   ⋮   ⋮            ⋮                ⋮          ⋮      ⋮         \n",
       "244 28  Right-handed 74 (19-02-2018)  Two-handed  NA    2008      \n",
       "245 26  Right-handed 249 (24-12-2018) Two-handed  NA    2009      \n",
       "246 26  Right-handed 4 (06-11-2017)   One-handed 185    2011      \n",
       "    Current.Elo.Rank Peak.Elo.Rating   Retired Year.Experience\n",
       "1   144 (1764)       1886 (06-02-2012) NA      15             \n",
       "2   100 (1826)       2037 (01-02-2016) NA      12             \n",
       "3   33 (1983)        1983 (20-01-2020) NA       5             \n",
       "⋮   ⋮                ⋮                 ⋮       ⋮              \n",
       "244 143 (1764)       1904 (12-02-2018) NA      12             \n",
       "245 180 (1679)       1679 (10-01-2020) NA      11             \n",
       "246 6 (2188)         2211 (18-11-2019) NA       9             "
      ]
     },
     "metadata": {},
     "output_type": "display_data"
    }
   ],
   "source": [
    "# Loading in the data\n",
    "player_stats <- read_csv(\"https://drive.google.com/uc?export=download&id=1_MECmUXZuuILYeEOfonSGqodW6qVdhsS\")\n",
    "colnames(player_stats) <- make.names(colnames(player_stats))\n",
    "#   Remove unnecessary columns\n",
    "player_stats <- player_stats %>%\n",
    "    select(Age:Peak.Elo.Rating, Retired, -Country, -Wikipedia, -Current.Rank,-Name, -Seasons, -Prize.Money, -Active, -Favorite.Surface, -Best.Elo.Rank, Peak.Elo.Rating) %>%\n",
    "#   Mutating columns with as_factor()\n",
    "    mutate(Plays = as_factor(Plays)) %>%\n",
    "    mutate(Backhand = as_factor(Backhand)) %>%\n",
    "#   Cleaning up columns with string values\n",
    "    mutate(Height = strtoi(str_remove(Height, \" cm\"))) %>%\n",
    "    mutate(Year.Experience = 2020 - Turned.Pro) %>%\n",
    "    mutate(Age = strtoi(substr(Age, 0, 2))) %>%\n",
    "    filter(!is.na(Turned.Pro))\n",
    "\n",
    "player_stats"
   ]
  },
  {
   "cell_type": "markdown",
   "metadata": {},
   "source": [
    "### Methods"
   ]
  },
  {
   "cell_type": "markdown",
   "metadata": {},
   "source": [
    "* If we use all variable to fit a mode, we will face 2 problems. The first problem is that the model might become too complex. The second problem is that the model might become overfitting that the model will lose the prediction power. The overfitting problem comes from the model is influenced by each data too much.\n",
    "\n",
    "* We firstly select the variables by removing variables with subjectively less correlations which is done in the data analysis. Then we did the variable selection again as the variable is still too much which will make the model complex. We did three mthods here which is exhaustive,forward and backlward selection. It can show the which variable is needed to be included for best 3 variable model(current_rank,Peak.Elo.Rating,Age).\n",
    "\n",
    "* We will visualize the results through analyzing the distributions from the scatter plots by using each exploratory variable and response variable. Then we compare it and our final predictions to see how good our model is."
   ]
  },
  {
   "cell_type": "code",
   "execution_count": 6,
   "metadata": {},
   "outputs": [
    {
     "data": {
      "text/html": [
       "<table>\n",
       "<caption>A tibble: 6 × 10</caption>\n",
       "<thead>\n",
       "\t<tr><th scope=col>Age</th><th scope=col>Plays</th><th scope=col>best_rank</th><th scope=col>Backhand</th><th scope=col>Height</th><th scope=col>Turned.Pro</th><th scope=col>current_rank</th><th scope=col>Peak.Elo.Rating</th><th scope=col>Retired</th><th scope=col>Year.Experience</th></tr>\n",
       "\t<tr><th scope=col>&lt;int&gt;</th><th scope=col>&lt;fct&gt;</th><th scope=col>&lt;dbl&gt;</th><th scope=col>&lt;fct&gt;</th><th scope=col>&lt;int&gt;</th><th scope=col>&lt;dbl&gt;</th><th scope=col>&lt;dbl&gt;</th><th scope=col>&lt;dbl&gt;</th><th scope=col>&lt;dbl&gt;</th><th scope=col>&lt;dbl&gt;</th></tr>\n",
       "</thead>\n",
       "<tbody>\n",
       "\t<tr><td>32</td><td>Right-handed</td><td> 44</td><td>Two-handed</td><td>185</td><td>2005</td><td>144</td><td>1886</td><td>  NA</td><td>15</td></tr>\n",
       "\t<tr><td>27</td><td>Right-handed</td><td> 17</td><td>Two-handed</td><td>193</td><td>2008</td><td>100</td><td>2037</td><td>  NA</td><td>12</td></tr>\n",
       "\t<tr><td>22</td><td>Right-handed</td><td> 31</td><td>Two-handed</td><td> NA</td><td>2015</td><td> 33</td><td>1983</td><td>  NA</td><td> 5</td></tr>\n",
       "\t<tr><td>28</td><td>Right-handed</td><td>213</td><td>Two-handed</td><td> NA</td><td>2010</td><td> NA</td><td>  NA</td><td>2017</td><td>10</td></tr>\n",
       "\t<tr><td>19</td><td>Right-handed</td><td> 17</td><td>Two-handed</td><td> NA</td><td>2017</td><td> 51</td><td>1992</td><td>  NA</td><td> 3</td></tr>\n",
       "\t<tr><td>23</td><td>Right-handed</td><td>  4</td><td>Two-handed</td><td> NA</td><td>2014</td><td>  5</td><td>2243</td><td>  NA</td><td> 6</td></tr>\n",
       "</tbody>\n",
       "</table>\n"
      ],
      "text/latex": [
       "A tibble: 6 × 10\n",
       "\\begin{tabular}{llllllllll}\n",
       " Age & Plays & best\\_rank & Backhand & Height & Turned.Pro & current\\_rank & Peak.Elo.Rating & Retired & Year.Experience\\\\\n",
       " <int> & <fct> & <dbl> & <fct> & <int> & <dbl> & <dbl> & <dbl> & <dbl> & <dbl>\\\\\n",
       "\\hline\n",
       "\t 32 & Right-handed &  44 & Two-handed & 185 & 2005 & 144 & 1886 &   NA & 15\\\\\n",
       "\t 27 & Right-handed &  17 & Two-handed & 193 & 2008 & 100 & 2037 &   NA & 12\\\\\n",
       "\t 22 & Right-handed &  31 & Two-handed &  NA & 2015 &  33 & 1983 &   NA &  5\\\\\n",
       "\t 28 & Right-handed & 213 & Two-handed &  NA & 2010 &  NA &   NA & 2017 & 10\\\\\n",
       "\t 19 & Right-handed &  17 & Two-handed &  NA & 2017 &  51 & 1992 &   NA &  3\\\\\n",
       "\t 23 & Right-handed &   4 & Two-handed &  NA & 2014 &   5 & 2243 &   NA &  6\\\\\n",
       "\\end{tabular}\n"
      ],
      "text/markdown": [
       "\n",
       "A tibble: 6 × 10\n",
       "\n",
       "| Age &lt;int&gt; | Plays &lt;fct&gt; | best_rank &lt;dbl&gt; | Backhand &lt;fct&gt; | Height &lt;int&gt; | Turned.Pro &lt;dbl&gt; | current_rank &lt;dbl&gt; | Peak.Elo.Rating &lt;dbl&gt; | Retired &lt;dbl&gt; | Year.Experience &lt;dbl&gt; |\n",
       "|---|---|---|---|---|---|---|---|---|---|\n",
       "| 32 | Right-handed |  44 | Two-handed | 185 | 2005 | 144 | 1886 |   NA | 15 |\n",
       "| 27 | Right-handed |  17 | Two-handed | 193 | 2008 | 100 | 2037 |   NA | 12 |\n",
       "| 22 | Right-handed |  31 | Two-handed |  NA | 2015 |  33 | 1983 |   NA |  5 |\n",
       "| 28 | Right-handed | 213 | Two-handed |  NA | 2010 |  NA |   NA | 2017 | 10 |\n",
       "| 19 | Right-handed |  17 | Two-handed |  NA | 2017 |  51 | 1992 |   NA |  3 |\n",
       "| 23 | Right-handed |   4 | Two-handed |  NA | 2014 |   5 | 2243 |   NA |  6 |\n",
       "\n"
      ],
      "text/plain": [
       "  Age Plays        best_rank Backhand   Height Turned.Pro current_rank\n",
       "1 32  Right-handed  44       Two-handed 185    2005       144         \n",
       "2 27  Right-handed  17       Two-handed 193    2008       100         \n",
       "3 22  Right-handed  31       Two-handed  NA    2015        33         \n",
       "4 28  Right-handed 213       Two-handed  NA    2010        NA         \n",
       "5 19  Right-handed  17       Two-handed  NA    2017        51         \n",
       "6 23  Right-handed   4       Two-handed  NA    2014         5         \n",
       "  Peak.Elo.Rating Retired Year.Experience\n",
       "1 1886              NA    15             \n",
       "2 2037              NA    12             \n",
       "3 1983              NA     5             \n",
       "4   NA            2017    10             \n",
       "5 1992              NA     3             \n",
       "6 2243              NA     6             "
      ]
     },
     "metadata": {},
     "output_type": "display_data"
    },
    {
     "name": "stderr",
     "output_type": "stream",
     "text": [
      "Updating HTML index of packages in '.Library'\n",
      "\n",
      "Making 'packages.html' ...\n",
      " done\n",
      "\n"
     ]
    },
    {
     "data": {
      "text/plain": [
       "Subset selection object\n",
       "Call: regsubsets.formula(best_rank ~ Age + Plays + Backhand + Height + \n",
       "    Turned.Pro + current_rank + Peak.Elo.Rating, data = df2, \n",
       "    method = \"exhaustive\")\n",
       "7 Variables  (and intercept)\n",
       "                   Forced in Forced out\n",
       "Age                    FALSE      FALSE\n",
       "PlaysLeft-handed       FALSE      FALSE\n",
       "BackhandOne-handed     FALSE      FALSE\n",
       "Height                 FALSE      FALSE\n",
       "Turned.Pro             FALSE      FALSE\n",
       "current_rank           FALSE      FALSE\n",
       "Peak.Elo.Rating        FALSE      FALSE\n",
       "1 subsets of each size up to 7\n",
       "Selection Algorithm: exhaustive\n",
       "         Age PlaysLeft-handed BackhandOne-handed Height Turned.Pro current_rank\n",
       "1  ( 1 ) \" \" \" \"              \" \"                \" \"    \" \"        \" \"         \n",
       "2  ( 1 ) \" \" \" \"              \" \"                \" \"    \" \"        \"*\"         \n",
       "3  ( 1 ) \"*\" \" \"              \" \"                \" \"    \" \"        \"*\"         \n",
       "4  ( 1 ) \"*\" \" \"              \" \"                \"*\"    \" \"        \"*\"         \n",
       "5  ( 1 ) \"*\" \" \"              \"*\"                \"*\"    \" \"        \"*\"         \n",
       "6  ( 1 ) \"*\" \" \"              \"*\"                \"*\"    \"*\"        \"*\"         \n",
       "7  ( 1 ) \"*\" \"*\"              \"*\"                \"*\"    \"*\"        \"*\"         \n",
       "         Peak.Elo.Rating\n",
       "1  ( 1 ) \"*\"            \n",
       "2  ( 1 ) \"*\"            \n",
       "3  ( 1 ) \"*\"            \n",
       "4  ( 1 ) \"*\"            \n",
       "5  ( 1 ) \"*\"            \n",
       "6  ( 1 ) \"*\"            \n",
       "7  ( 1 ) \"*\"            "
      ]
     },
     "metadata": {},
     "output_type": "display_data"
    },
    {
     "data": {
      "text/plain": [
       "Subset selection object\n",
       "Call: regsubsets.formula(best_rank ~ Age + Plays + Backhand + Height + \n",
       "    Turned.Pro + current_rank + Peak.Elo.Rating, data = df2, \n",
       "    method = \"forward\")\n",
       "7 Variables  (and intercept)\n",
       "                   Forced in Forced out\n",
       "Age                    FALSE      FALSE\n",
       "PlaysLeft-handed       FALSE      FALSE\n",
       "BackhandOne-handed     FALSE      FALSE\n",
       "Height                 FALSE      FALSE\n",
       "Turned.Pro             FALSE      FALSE\n",
       "current_rank           FALSE      FALSE\n",
       "Peak.Elo.Rating        FALSE      FALSE\n",
       "1 subsets of each size up to 7\n",
       "Selection Algorithm: forward\n",
       "         Age PlaysLeft-handed BackhandOne-handed Height Turned.Pro current_rank\n",
       "1  ( 1 ) \" \" \" \"              \" \"                \" \"    \" \"        \" \"         \n",
       "2  ( 1 ) \" \" \" \"              \" \"                \" \"    \" \"        \"*\"         \n",
       "3  ( 1 ) \"*\" \" \"              \" \"                \" \"    \" \"        \"*\"         \n",
       "4  ( 1 ) \"*\" \" \"              \" \"                \"*\"    \" \"        \"*\"         \n",
       "5  ( 1 ) \"*\" \" \"              \"*\"                \"*\"    \" \"        \"*\"         \n",
       "6  ( 1 ) \"*\" \" \"              \"*\"                \"*\"    \"*\"        \"*\"         \n",
       "7  ( 1 ) \"*\" \"*\"              \"*\"                \"*\"    \"*\"        \"*\"         \n",
       "         Peak.Elo.Rating\n",
       "1  ( 1 ) \"*\"            \n",
       "2  ( 1 ) \"*\"            \n",
       "3  ( 1 ) \"*\"            \n",
       "4  ( 1 ) \"*\"            \n",
       "5  ( 1 ) \"*\"            \n",
       "6  ( 1 ) \"*\"            \n",
       "7  ( 1 ) \"*\"            "
      ]
     },
     "metadata": {},
     "output_type": "display_data"
    },
    {
     "data": {
      "text/plain": [
       "Subset selection object\n",
       "Call: regsubsets.formula(best_rank ~ Age + Plays + Backhand + Height + \n",
       "    Turned.Pro + current_rank + Peak.Elo.Rating, data = df2, \n",
       "    method = \"backward\")\n",
       "7 Variables  (and intercept)\n",
       "                   Forced in Forced out\n",
       "Age                    FALSE      FALSE\n",
       "PlaysLeft-handed       FALSE      FALSE\n",
       "BackhandOne-handed     FALSE      FALSE\n",
       "Height                 FALSE      FALSE\n",
       "Turned.Pro             FALSE      FALSE\n",
       "current_rank           FALSE      FALSE\n",
       "Peak.Elo.Rating        FALSE      FALSE\n",
       "1 subsets of each size up to 7\n",
       "Selection Algorithm: backward\n",
       "         Age PlaysLeft-handed BackhandOne-handed Height Turned.Pro current_rank\n",
       "1  ( 1 ) \" \" \" \"              \" \"                \" \"    \" \"        \" \"         \n",
       "2  ( 1 ) \" \" \" \"              \" \"                \" \"    \" \"        \"*\"         \n",
       "3  ( 1 ) \"*\" \" \"              \" \"                \" \"    \" \"        \"*\"         \n",
       "4  ( 1 ) \"*\" \" \"              \" \"                \"*\"    \" \"        \"*\"         \n",
       "5  ( 1 ) \"*\" \" \"              \"*\"                \"*\"    \" \"        \"*\"         \n",
       "6  ( 1 ) \"*\" \" \"              \"*\"                \"*\"    \"*\"        \"*\"         \n",
       "7  ( 1 ) \"*\" \"*\"              \"*\"                \"*\"    \"*\"        \"*\"         \n",
       "         Peak.Elo.Rating\n",
       "1  ( 1 ) \"*\"            \n",
       "2  ( 1 ) \"*\"            \n",
       "3  ( 1 ) \"*\"            \n",
       "4  ( 1 ) \"*\"            \n",
       "5  ( 1 ) \"*\"            \n",
       "6  ( 1 ) \"*\"            \n",
       "7  ( 1 ) \"*\"            "
      ]
     },
     "metadata": {},
     "output_type": "display_data"
    },
    {
     "data": {
      "text/plain": [
       "\n",
       "Call:\n",
       "lm(formula = best_rank ~ Age + Plays + Backhand + Height + Turned.Pro + \n",
       "    current_rank + Peak.Elo.Rating, data = df2)\n",
       "\n",
       "Residuals:\n",
       "    Min      1Q  Median      3Q     Max \n",
       "-23.416  -8.607  -1.136   5.639  41.448 \n",
       "\n",
       "Coefficients:\n",
       "                     Estimate Std. Error t value Pr(>|t|)    \n",
       "(Intercept)         977.22480 2260.19533   0.432    0.667    \n",
       "Age                  -1.08425    1.05821  -1.025    0.309    \n",
       "PlaysLeft-handed     -0.84609    4.32001  -0.196    0.845    \n",
       "BackhandOne-handed   -1.92972    4.12155  -0.468    0.641    \n",
       "Height               -0.19703    0.20901  -0.943    0.349    \n",
       "Turned.Pro           -0.38379    1.11102  -0.345    0.731    \n",
       "current_rank          0.22246    0.04808   4.627 1.41e-05 ***\n",
       "Peak.Elo.Rating      -0.06139    0.01480  -4.147 8.33e-05 ***\n",
       "---\n",
       "Signif. codes:  0 ‘***’ 0.001 ‘**’ 0.01 ‘*’ 0.05 ‘.’ 0.1 ‘ ’ 1\n",
       "\n",
       "Residual standard error: 13.66 on 80 degrees of freedom\n",
       "  (158 observations deleted due to missingness)\n",
       "Multiple R-squared:  0.7289,\tAdjusted R-squared:  0.7052 \n",
       "F-statistic: 30.73 on 7 and 80 DF,  p-value: < 2.2e-16\n"
      ]
     },
     "metadata": {},
     "output_type": "display_data"
    }
   ],
   "source": [
    "df2<-separate(player_stats,Best.Rank,sep=\" \",into=c(\"best_rank\",\"time\"))%>%\n",
    "     separate(Current.Elo.Rank,sep=\" \",into=c(\"current_rank\",\"current_time\"))%>%\n",
    "     separate(Peak.Elo.Rating,sep=\" \",into = c(\"Peak.Elo.Rating\",\"timing\"))%>%\n",
    "     select(-time,-current_time,-timing)%>%mutate(best_rank=as.numeric(best_rank))%>%\n",
    "     mutate(current_rank=as.numeric(current_rank))%>%mutate(Peak.Elo.Rating=as.numeric(Peak.Elo.Rating))\n",
    "\n",
    "\n",
    "head(df2)\n",
    "\n",
    "install.packages(\"leaps\")\n",
    "library(leaps)\n",
    "rgs1 <- regsubsets(best_rank~Age+Plays+Backhand+Height+Turned.Pro+current_rank+Peak.Elo.Rating, data=df2, method=\"exhaustive\") \n",
    "srgs1 <- summary(rgs1)\n",
    "\n",
    "rgs2 <- regsubsets(best_rank~Age+Plays+Backhand+Height+Turned.Pro+current_rank+Peak.Elo.Rating, data=df2, method=\"forward\") \n",
    "srgs2 <- summary(rgs2)\n",
    "\n",
    "rgs3 <- regsubsets(best_rank~Age+Plays+Backhand+Height+Turned.Pro+current_rank+Peak.Elo.Rating, data=df2,method=\"backward\") \n",
    "srgs3 <- summary(rgs3)\n",
    "\n",
    "\n",
    "srgs1\n",
    "srgs2\n",
    "srgs3\n",
    "\n",
    "summary(lm(best_rank~Age+Plays+Backhand+Height+Turned.Pro+current_rank+Peak.Elo.Rating,data=df2))"
   ]
  },
  {
   "cell_type": "markdown",
   "metadata": {},
   "source": [
    "### Expected Outcomes and Significance\n",
    "\n",
    "From our data analysis, we compared the players’ techniques as well as experience. We expect to find that experience will outweigh the technique they use and would therefore impact their ranking more. The reason behind our hypothesis is simply because with enough practice, even if a technique may be less efficient, the player is more successful in terms of current ranking. However, our findings may show which techniques are superior, and would allow for the use of one technique to outperform someone with equal experience. This may prove a significance in that it shows what hand techniques that top-ranked players use to have a higher chance of defeating their opponents."
   ]
  },
  {
   "cell_type": "code",
   "execution_count": null,
   "metadata": {},
   "outputs": [],
   "source": []
  }
 ],
 "metadata": {
  "kernelspec": {
   "display_name": "R",
   "language": "R",
   "name": "ir"
  },
  "language_info": {
   "codemirror_mode": "r",
   "file_extension": ".r",
   "mimetype": "text/x-r-source",
   "name": "R",
   "pygments_lexer": "r",
   "version": "4.0.0"
  }
 },
 "nbformat": 4,
 "nbformat_minor": 4
}
