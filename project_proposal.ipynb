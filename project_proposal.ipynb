{
 "cells": [
  {
   "cell_type": "markdown",
   "metadata": {},
   "source": [
    "# Project Proposal"
   ]
  },
  {
   "cell_type": "code",
   "execution_count": 1,
   "metadata": {},
   "outputs": [
    {
     "name": "stderr",
     "output_type": "stream",
     "text": [
      "── \u001b[1mAttaching packages\u001b[22m ─────────────────────────────────────── tidyverse 1.3.0 ──\n",
      "\n",
      "\u001b[32m✔\u001b[39m \u001b[34mggplot2\u001b[39m 3.3.2     \u001b[32m✔\u001b[39m \u001b[34mpurrr  \u001b[39m 0.3.4\n",
      "\u001b[32m✔\u001b[39m \u001b[34mtibble \u001b[39m 3.0.3     \u001b[32m✔\u001b[39m \u001b[34mdplyr  \u001b[39m 1.0.2\n",
      "\u001b[32m✔\u001b[39m \u001b[34mtidyr  \u001b[39m 1.1.2     \u001b[32m✔\u001b[39m \u001b[34mstringr\u001b[39m 1.4.0\n",
      "\u001b[32m✔\u001b[39m \u001b[34mreadr  \u001b[39m 1.3.1     \u001b[32m✔\u001b[39m \u001b[34mforcats\u001b[39m 0.5.0\n",
      "\n",
      "Warning message:\n",
      "“package ‘ggplot2’ was built under R version 4.0.1”\n",
      "Warning message:\n",
      "“package ‘tibble’ was built under R version 4.0.2”\n",
      "Warning message:\n",
      "“package ‘tidyr’ was built under R version 4.0.2”\n",
      "Warning message:\n",
      "“package ‘dplyr’ was built under R version 4.0.2”\n",
      "── \u001b[1mConflicts\u001b[22m ────────────────────────────────────────── tidyverse_conflicts() ──\n",
      "\u001b[31m✖\u001b[39m \u001b[34mdplyr\u001b[39m::\u001b[32mfilter()\u001b[39m masks \u001b[34mstats\u001b[39m::filter()\n",
      "\u001b[31m✖\u001b[39m \u001b[34mdplyr\u001b[39m::\u001b[32mlag()\u001b[39m    masks \u001b[34mstats\u001b[39m::lag()\n",
      "\n",
      "Warning message:\n",
      "“package ‘tidymodels’ was built under R version 4.0.2”\n",
      "── \u001b[1mAttaching packages\u001b[22m ────────────────────────────────────── tidymodels 0.1.1 ──\n",
      "\n",
      "\u001b[32m✔\u001b[39m \u001b[34mbroom    \u001b[39m 0.7.0      \u001b[32m✔\u001b[39m \u001b[34mrecipes  \u001b[39m 0.1.13\n",
      "\u001b[32m✔\u001b[39m \u001b[34mdials    \u001b[39m 0.0.9      \u001b[32m✔\u001b[39m \u001b[34mrsample  \u001b[39m 0.0.7 \n",
      "\u001b[32m✔\u001b[39m \u001b[34minfer    \u001b[39m 0.5.4      \u001b[32m✔\u001b[39m \u001b[34mtune     \u001b[39m 0.1.1 \n",
      "\u001b[32m✔\u001b[39m \u001b[34mmodeldata\u001b[39m 0.0.2      \u001b[32m✔\u001b[39m \u001b[34mworkflows\u001b[39m 0.2.0 \n",
      "\u001b[32m✔\u001b[39m \u001b[34mparsnip  \u001b[39m 0.1.3      \u001b[32m✔\u001b[39m \u001b[34myardstick\u001b[39m 0.0.7 \n",
      "\n",
      "Warning message:\n",
      "“package ‘broom’ was built under R version 4.0.2”\n",
      "Warning message:\n",
      "“package ‘dials’ was built under R version 4.0.2”\n",
      "Warning message:\n",
      "“package ‘infer’ was built under R version 4.0.3”\n",
      "Warning message:\n",
      "“package ‘modeldata’ was built under R version 4.0.1”\n",
      "Warning message:\n",
      "“package ‘parsnip’ was built under R version 4.0.2”\n",
      "Warning message:\n",
      "“package ‘recipes’ was built under R version 4.0.1”\n",
      "Warning message:\n",
      "“package ‘tune’ was built under R version 4.0.2”\n",
      "Warning message:\n",
      "“package ‘workflows’ was built under R version 4.0.2”\n",
      "Warning message:\n",
      "“package ‘yardstick’ was built under R version 4.0.2”\n",
      "── \u001b[1mConflicts\u001b[22m ───────────────────────────────────────── tidymodels_conflicts() ──\n",
      "\u001b[31m✖\u001b[39m \u001b[34mscales\u001b[39m::\u001b[32mdiscard()\u001b[39m masks \u001b[34mpurrr\u001b[39m::discard()\n",
      "\u001b[31m✖\u001b[39m \u001b[34mdplyr\u001b[39m::\u001b[32mfilter()\u001b[39m   masks \u001b[34mstats\u001b[39m::filter()\n",
      "\u001b[31m✖\u001b[39m \u001b[34mrecipes\u001b[39m::\u001b[32mfixed()\u001b[39m  masks \u001b[34mstringr\u001b[39m::fixed()\n",
      "\u001b[31m✖\u001b[39m \u001b[34mdplyr\u001b[39m::\u001b[32mlag()\u001b[39m      masks \u001b[34mstats\u001b[39m::lag()\n",
      "\u001b[31m✖\u001b[39m \u001b[34myardstick\u001b[39m::\u001b[32mspec()\u001b[39m masks \u001b[34mreadr\u001b[39m::spec()\n",
      "\u001b[31m✖\u001b[39m \u001b[34mrecipes\u001b[39m::\u001b[32mstep()\u001b[39m   masks \u001b[34mstats\u001b[39m::step()\n",
      "\n"
     ]
    }
   ],
   "source": [
    "# Loading Libraries, Remember to run this cell!\n",
    "library(tidyverse)\n",
    "library(repr)\n",
    "library(tidymodels)\n",
    "\n",
    "options(repr.matrix.max.rows = 6)"
   ]
  },
  {
   "cell_type": "markdown",
   "metadata": {},
   "source": [
    "### Data Analysis"
   ]
  },
  {
   "cell_type": "code",
   "execution_count": 47,
   "metadata": {},
   "outputs": [
    {
     "name": "stderr",
     "output_type": "stream",
     "text": [
      "Warning message:\n",
      "“Missing column names filled in: 'X1' [1]”\n",
      "Parsed with column specification:\n",
      "cols(\n",
      "  .default = col_character(),\n",
      "  X1 = \u001b[32mcol_double()\u001b[39m,\n",
      "  `Turned Pro` = \u001b[32mcol_double()\u001b[39m,\n",
      "  Seasons = \u001b[32mcol_double()\u001b[39m,\n",
      "  Titles = \u001b[32mcol_double()\u001b[39m,\n",
      "  `Best Season` = \u001b[32mcol_double()\u001b[39m,\n",
      "  Retired = \u001b[32mcol_double()\u001b[39m,\n",
      "  Masters = \u001b[32mcol_double()\u001b[39m,\n",
      "  `Grand Slams` = \u001b[32mcol_double()\u001b[39m,\n",
      "  `Davis Cups` = \u001b[32mcol_double()\u001b[39m,\n",
      "  `Team Cups` = \u001b[32mcol_double()\u001b[39m,\n",
      "  Olympics = \u001b[32mcol_double()\u001b[39m,\n",
      "  `Weeks at No. 1` = \u001b[32mcol_double()\u001b[39m,\n",
      "  `Tour Finals` = \u001b[32mcol_double()\u001b[39m\n",
      ")\n",
      "\n",
      "See spec(...) for full column specifications.\n",
      "\n"
     ]
    },
    {
     "data": {
      "text/html": [
       "<table>\n",
       "<caption>A tibble: 246 × 10</caption>\n",
       "<thead>\n",
       "\t<tr><th scope=col>Age</th><th scope=col>Plays</th><th scope=col>Best.Rank</th><th scope=col>Backhand</th><th scope=col>Height</th><th scope=col>Turned.Pro</th><th scope=col>Current.Elo.Rank</th><th scope=col>Peak.Elo.Rating</th><th scope=col>Retired</th><th scope=col>Year.Experience</th></tr>\n",
       "\t<tr><th scope=col>&lt;int&gt;</th><th scope=col>&lt;fct&gt;</th><th scope=col>&lt;chr&gt;</th><th scope=col>&lt;fct&gt;</th><th scope=col>&lt;int&gt;</th><th scope=col>&lt;dbl&gt;</th><th scope=col>&lt;chr&gt;</th><th scope=col>&lt;chr&gt;</th><th scope=col>&lt;dbl&gt;</th><th scope=col>&lt;dbl&gt;</th></tr>\n",
       "</thead>\n",
       "<tbody>\n",
       "\t<tr><td>32</td><td>Right-handed</td><td>44 (14-01-2013)</td><td>Two-handed</td><td>185</td><td>2005</td><td>144 (1764)</td><td>1886 (06-02-2012)</td><td>NA</td><td>33</td></tr>\n",
       "\t<tr><td>27</td><td>Right-handed</td><td>17 (11-01-2016)</td><td>Two-handed</td><td>193</td><td>2008</td><td>100 (1826)</td><td>2037 (01-02-2016)</td><td>NA</td><td>28</td></tr>\n",
       "\t<tr><td>22</td><td>Right-handed</td><td>31 (20-01-2020)</td><td>Two-handed</td><td> NA</td><td>2015</td><td>33 (1983) </td><td>1983 (20-01-2020)</td><td>NA</td><td>23</td></tr>\n",
       "\t<tr><td>⋮</td><td>⋮</td><td>⋮</td><td>⋮</td><td>⋮</td><td>⋮</td><td>⋮</td><td>⋮</td><td>⋮</td><td>⋮</td></tr>\n",
       "\t<tr><td>28</td><td>Right-handed</td><td>74 (19-02-2018) </td><td>Two-handed</td><td> NA</td><td>2008</td><td>143 (1764)</td><td>1904 (12-02-2018)</td><td>NA</td><td>29</td></tr>\n",
       "\t<tr><td>26</td><td>Right-handed</td><td>249 (24-12-2018)</td><td>Two-handed</td><td> NA</td><td>2009</td><td>180 (1679)</td><td>1679 (10-01-2020)</td><td>NA</td><td>27</td></tr>\n",
       "\t<tr><td>26</td><td>Right-handed</td><td>4 (06-11-2017)  </td><td>One-handed</td><td>185</td><td>2011</td><td>6 (2188)  </td><td>2211 (18-11-2019)</td><td>NA</td><td>27</td></tr>\n",
       "</tbody>\n",
       "</table>\n"
      ],
      "text/latex": [
       "A tibble: 246 × 10\n",
       "\\begin{tabular}{llllllllll}\n",
       " Age & Plays & Best.Rank & Backhand & Height & Turned.Pro & Current.Elo.Rank & Peak.Elo.Rating & Retired & Year.Experience\\\\\n",
       " <int> & <fct> & <chr> & <fct> & <int> & <dbl> & <chr> & <chr> & <dbl> & <dbl>\\\\\n",
       "\\hline\n",
       "\t 32 & Right-handed & 44 (14-01-2013) & Two-handed & 185 & 2005 & 144 (1764) & 1886 (06-02-2012) & NA & 33\\\\\n",
       "\t 27 & Right-handed & 17 (11-01-2016) & Two-handed & 193 & 2008 & 100 (1826) & 2037 (01-02-2016) & NA & 28\\\\\n",
       "\t 22 & Right-handed & 31 (20-01-2020) & Two-handed &  NA & 2015 & 33 (1983)  & 1983 (20-01-2020) & NA & 23\\\\\n",
       "\t ⋮ & ⋮ & ⋮ & ⋮ & ⋮ & ⋮ & ⋮ & ⋮ & ⋮ & ⋮\\\\\n",
       "\t 28 & Right-handed & 74 (19-02-2018)  & Two-handed &  NA & 2008 & 143 (1764) & 1904 (12-02-2018) & NA & 29\\\\\n",
       "\t 26 & Right-handed & 249 (24-12-2018) & Two-handed &  NA & 2009 & 180 (1679) & 1679 (10-01-2020) & NA & 27\\\\\n",
       "\t 26 & Right-handed & 4 (06-11-2017)   & One-handed & 185 & 2011 & 6 (2188)   & 2211 (18-11-2019) & NA & 27\\\\\n",
       "\\end{tabular}\n"
      ],
      "text/markdown": [
       "\n",
       "A tibble: 246 × 10\n",
       "\n",
       "| Age &lt;int&gt; | Plays &lt;fct&gt; | Best.Rank &lt;chr&gt; | Backhand &lt;fct&gt; | Height &lt;int&gt; | Turned.Pro &lt;dbl&gt; | Current.Elo.Rank &lt;chr&gt; | Peak.Elo.Rating &lt;chr&gt; | Retired &lt;dbl&gt; | Year.Experience &lt;dbl&gt; |\n",
       "|---|---|---|---|---|---|---|---|---|---|\n",
       "| 32 | Right-handed | 44 (14-01-2013) | Two-handed | 185 | 2005 | 144 (1764) | 1886 (06-02-2012) | NA | 33 |\n",
       "| 27 | Right-handed | 17 (11-01-2016) | Two-handed | 193 | 2008 | 100 (1826) | 2037 (01-02-2016) | NA | 28 |\n",
       "| 22 | Right-handed | 31 (20-01-2020) | Two-handed |  NA | 2015 | 33 (1983)  | 1983 (20-01-2020) | NA | 23 |\n",
       "| ⋮ | ⋮ | ⋮ | ⋮ | ⋮ | ⋮ | ⋮ | ⋮ | ⋮ | ⋮ |\n",
       "| 28 | Right-handed | 74 (19-02-2018)  | Two-handed |  NA | 2008 | 143 (1764) | 1904 (12-02-2018) | NA | 29 |\n",
       "| 26 | Right-handed | 249 (24-12-2018) | Two-handed |  NA | 2009 | 180 (1679) | 1679 (10-01-2020) | NA | 27 |\n",
       "| 26 | Right-handed | 4 (06-11-2017)   | One-handed | 185 | 2011 | 6 (2188)   | 2211 (18-11-2019) | NA | 27 |\n",
       "\n"
      ],
      "text/plain": [
       "    Age Plays        Best.Rank        Backhand   Height Turned.Pro\n",
       "1   32  Right-handed 44 (14-01-2013)  Two-handed 185    2005      \n",
       "2   27  Right-handed 17 (11-01-2016)  Two-handed 193    2008      \n",
       "3   22  Right-handed 31 (20-01-2020)  Two-handed  NA    2015      \n",
       "⋮   ⋮   ⋮            ⋮                ⋮          ⋮      ⋮         \n",
       "244 28  Right-handed 74 (19-02-2018)  Two-handed  NA    2008      \n",
       "245 26  Right-handed 249 (24-12-2018) Two-handed  NA    2009      \n",
       "246 26  Right-handed 4 (06-11-2017)   One-handed 185    2011      \n",
       "    Current.Elo.Rank Peak.Elo.Rating   Retired Year.Experience\n",
       "1   144 (1764)       1886 (06-02-2012) NA      33             \n",
       "2   100 (1826)       2037 (01-02-2016) NA      28             \n",
       "3   33 (1983)        1983 (20-01-2020) NA      23             \n",
       "⋮   ⋮                ⋮                 ⋮       ⋮              \n",
       "244 143 (1764)       1904 (12-02-2018) NA      29             \n",
       "245 180 (1679)       1679 (10-01-2020) NA      27             \n",
       "246 6 (2188)         2211 (18-11-2019) NA      27             "
      ]
     },
     "metadata": {},
     "output_type": "display_data"
    }
   ],
   "source": [
    "# Loading in the data\n",
    "player_stats <- read_csv(\"https://drive.google.com/uc?export=download&id=1_MECmUXZuuILYeEOfonSGqodW6qVdhsS\")\n",
    "colnames(player_stats) <- make.names(colnames(player_stats))\n",
    "#   Remove unnecessary columns\n",
    "player_stats <- player_stats %>%\n",
    "    select(Age:Peak.Elo.Rating, Retired, -Country, -Wikipedia, -Current.Rank,-Name, -Seasons, -Prize.Money, -Active, -Favorite.Surface, -Best.Elo.Rank, Peak.Elo.Rating)\n",
    "#   Mutating columns with as_factor()    \n",
    "player_stats <- player_stats %>%\n",
    "    mutate(Plays = as_factor(Plays)) %>%\n",
    "    mutate(Backhand = as_factor(Backhand)) %>%\n",
    "#   Cleaning up columns with string values\n",
    "    mutate(Height = strtoi(str_remove(Height, \" cm\"))) %>%\n",
    "    mutate(Year.Experience = 2020 - strtoi(substr(Age, nchar(Age) - 4, nchar(Age) - 1))) %>%\n",
    "    mutate(Age = strtoi(substr(Age, 0, 2))) %>%\n",
    "    filter(!is.na(Turned.Pro))\n",
    "player_stats"
   ]
  },
  {
   "cell_type": "code",
   "execution_count": 17,
   "metadata": {},
   "outputs": [
    {
     "data": {
      "text/html": [
       "TRUE"
      ],
      "text/latex": [
       "TRUE"
      ],
      "text/markdown": [
       "TRUE"
      ],
      "text/plain": [
       "[1] TRUE"
      ]
     },
     "metadata": {},
     "output_type": "display_data"
    }
   ],
   "source": [
    "is.na()"
   ]
  },
  {
   "cell_type": "code",
   "execution_count": null,
   "metadata": {},
   "outputs": [],
   "source": []
  }
 ],
 "metadata": {
  "kernelspec": {
   "display_name": "R",
   "language": "R",
   "name": "ir"
  },
  "language_info": {
   "codemirror_mode": "r",
   "file_extension": ".r",
   "mimetype": "text/x-r-source",
   "name": "R",
   "pygments_lexer": "r",
   "version": "4.0.0"
  }
 },
 "nbformat": 4,
 "nbformat_minor": 4
}
